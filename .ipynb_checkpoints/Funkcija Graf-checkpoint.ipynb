{
 "cells": [
  {
   "cell_type": "markdown",
   "metadata": {},
   "source": [
    "To je funkcija, ki nam naredi grid. PROBLEMI: 1) ne znava se oceniti, kako velik grid morava narediti glede na dane k,l,m,n\n",
    "                                              2) mava samo 1/4 ravnine"
   ]
  },
  {
   "cell_type": "code",
   "execution_count": 23,
   "metadata": {},
   "outputs": [],
   "source": [
    "def grid(M,N, u, v):\n",
    "    for i in range(M):\n",
    "            for j in range(N):\n",
    "                if j % 2 == 0:\n",
    "                    u.add((3*j, 2*i))\n",
    "                    v.add((3*j + 2, 2*i))\n",
    "                else:\n",
    "                    u.add((3*j, 2*i + 1))\n",
    "                    v.add((3*j + 2, 2*i + 1))"
   ]
  },
  {
   "cell_type": "code",
   "execution_count": 24,
   "metadata": {},
   "outputs": [],
   "source": [
    "u = set() #mnozica voylisc na levi\n",
    "v = set() #mnozica vozlisc na desni\n",
    "a1 = vector([0,2]) #alfa1\n",
    "a2 = vector([3,1]) #alfa2\n",
    "uv = vector([2,0]) #vodoravna stranica\n",
    "grid(10,10,u,v)"
   ]
  },
  {
   "cell_type": "code",
   "execution_count": 25,
   "metadata": {},
   "outputs": [
    {
     "data": {
      "text/plain": [
       "12"
      ]
     },
     "execution_count": 25,
     "metadata": {},
     "output_type": "execute_result"
    }
   ],
   "source": [
    "vector(u.pop())[0]"
   ]
  },
  {
   "cell_type": "code",
   "execution_count": 37,
   "metadata": {},
   "outputs": [],
   "source": [
    "def sosedi(vec):\n",
    "    if vec in u:\n",
    "        return [vector(vec) + uv, vector(vec) + vector([-1,-1]), vector(vec) + vector([-1,1])]\n",
    "    if vec in v:\n",
    "        return [vector(vec) - uv, vector(vec) + vector([1,-1]), vector(vec) + vector([1,1])]"
   ]
  },
  {
   "cell_type": "code",
   "execution_count": 38,
   "metadata": {},
   "outputs": [
    {
     "data": {
      "text/plain": [
       "[(5, 3), (2, 2), (2, 4)]"
      ]
     },
     "execution_count": 38,
     "metadata": {},
     "output_type": "execute_result"
    }
   ],
   "source": [
    "sosedi((3,3))"
   ]
  },
  {
   "cell_type": "markdown",
   "metadata": {},
   "source": [
    "Problemi s funkcijo paralelogram: zaenkrat deluje samo za dolocene klmn."
   ]
  },
  {
   "cell_type": "code",
   "execution_count": 39,
   "metadata": {},
   "outputs": [],
   "source": [
    "#mnozica vozlisc v paralelogramu\n",
    "def paralelogram(k, l, m, n):\n",
    "    P = set()\n",
    "    for t in union(u,v):\n",
    "        if (2*k+l)*t[0] >= 3*l*t[1] and (2*m+n)*t[0] <= 3*n*t[1] and (t[0]-3*l)*(2*m + n) > 3*n*(t[1]-2*k-l) and (t[0]-3*n)*(2*k + l) < 3*l*(t[1]-2*m-n):\n",
    "                P.add(t)\n",
    "    return P"
   ]
  },
  {
   "cell_type": "code",
   "execution_count": 40,
   "metadata": {},
   "outputs": [],
   "source": [
    "def graf(k, l, m, n):\n",
    "    P = paralelogram(k, l, m, n)\n",
    "    return Graph([P, lambda u, v: u in sosedi(v)], loops = True)"
   ]
  },
  {
   "cell_type": "code",
   "execution_count": 41,
   "metadata": {},
   "outputs": [
    {
     "data": {
      "text/plain": [
       "{(0, 0), (0, 2), (2, 2), (2, 4), (3, 1), (3, 3), (5, 3), (5, 5)}"
      ]
     },
     "execution_count": 41,
     "metadata": {},
     "output_type": "execute_result"
    }
   ],
   "source": [
    "paralelogram(2,0,0,2)"
   ]
  },
  {
   "cell_type": "code",
   "execution_count": 42,
   "metadata": {},
   "outputs": [],
   "source": [
    "w = graf(2,0,0,2)"
   ]
  },
  {
   "cell_type": "code",
   "execution_count": 43,
   "metadata": {},
   "outputs": [
    {
     "data": {
      "image/png": "[encoded data removed]",
      "text/plain": [
       "Graphics object consisting of 9 graphics primitives"
      ]
     },
     "metadata": {},
     "output_type": "display_data"
    }
   ],
   "source": [
    "show(w)"
   ]
  },
  {
   "cell_type": "code",
   "execution_count": 44,
   "metadata": {},
   "outputs": [
    {
     "data": {
      "text/plain": [
       "[0, 0, 0, 0, 0, 0, 0, 0]"
      ]
     },
     "execution_count": 44,
     "metadata": {},
     "output_type": "execute_result"
    }
   ],
   "source": [
    "w.degree()"
   ]
  },
  {
   "cell_type": "code",
   "execution_count": 48,
   "metadata": {},
   "outputs": [
    {
     "data": {
      "text/plain": [
       "False"
      ]
     },
     "execution_count": 48,
     "metadata": {},
     "output_type": "execute_result"
    }
   ],
   "source": [
    "(2, 2) in sosedi((3,3)) #ne stekam, zakaj to ne dela"
   ]
  },
  {
   "cell_type": "code",
   "execution_count": 50,
   "metadata": {},
   "outputs": [
    {
     "data": {
      "text/plain": [
       "(2, 4)"
      ]
     },
     "execution_count": 50,
     "metadata": {},
     "output_type": "execute_result"
    }
   ],
   "source": [
    "sosedi((3,3)).pop()"
   ]
  },
  {
   "cell_type": "code",
   "execution_count": null,
   "metadata": {},
   "outputs": [],
   "source": []
  }
 ],
 "metadata": {
  "kernelspec": {
   "display_name": "SageMath 8.9",
   "language": "sage",
   "name": "sagemath"
  }
 },
 "nbformat": 4,
 "nbformat_minor": 2
}
