{
 "cells": [
  {
   "cell_type": "code",
   "execution_count": 63,
   "metadata": {},
   "outputs": [],
   "source": [
    "class Vektor:\n",
    "    def __init__(self, x, y):\n",
    "        self.x = x\n",
    "        self.y = y\n",
    "        \n",
    "    def __repr__(self):\n",
    "        x, y = self.koordinate()\n",
    "        return ('{}(x = {}, y = {})'.format(self.__class__.__name__, x, y))\n",
    "    \n",
    "    def __add__(self, other):\n",
    "        x1 = self.x\n",
    "        x2 = other.x\n",
    "        y1 = self.y\n",
    "        y2 = other.y\n",
    "        return(Vektor(x1 + x2, y1 + y2))\n",
    "    \n",
    "    def __sub__(self, other):\n",
    "        x1 = self.x\n",
    "        x2 = other.x\n",
    "        y1 = self.y\n",
    "        y2 = other.y\n",
    "        return(Vektor(x1 - x2, y1 - y2))\n",
    "    \n",
    "    def __rmul__(self, konstanta):\n",
    "        x1 = konstanta * self.x\n",
    "        y1 = konstanta * self.y\n",
    "        return(Vektor(x1, y1))\n",
    "    \n",
    "    def koordinate(self):\n",
    "        return self.x, self.y\n",
    "    \n",
    "class Premica:\n",
    "    def __init__(self, u1, u2): # u tocka; rabili bomo koordinate\n",
    "        u1x, u1y = u1.koordinate()\n",
    "        u2x, u2y = u2.koordinate()\n",
    "        if u2x - u1x != 0:\n",
    "            self.koef = (u2y -u1y) / (u2x - u1x)\n",
    "            self.n = u1y - self.koef * u1x\n",
    "        else:\n",
    "            self.koef = \"NaN\"\n",
    "            self.x = u1x\n",
    "        \n",
    "    def parametri(self):\n",
    "        if self.koef != \"NaN\":\n",
    "            return self.koef, self.n\n",
    "        else:\n",
    "            return self.x\n",
    "    \n",
    "    def __repr__(self):\n",
    "        if self.koef != \"NaN\":\n",
    "            k, n = self.parametri()\n",
    "            return ('{}(y = {} * x + {})'.format(self.__class__.__name__, k, n))\n",
    "        else:\n",
    "            x = self.parametri()\n",
    "            return ('{}(x = {})'.format(self.__class__.__name__, x))\n",
    "    \n",
    "class U:\n",
    "    def __init__(self, a, b):\n",
    "        self.a = a # a konstanta ... koliko \"prvih\" vektorjev uporabimo\n",
    "        self.b = b\n",
    "        \n",
    "    def __repr__(self):\n",
    "        a,b = self.podatki()\n",
    "        return ('{}({}a, {}b)'.format(self.__class__.__name__, a, b))\n",
    "    \n",
    "    #def __eq__(self, other):\n",
    "    #    return self.a == other.a and self.b == other.b\n",
    "    \n",
    "    def podatki(self):\n",
    "        return self.a, self.b\n",
    "    \n",
    "    def koordinate(self):\n",
    "        vektor = self.a * A1 + self.b * A2\n",
    "        koordinate = vektor.koordinate()\n",
    "        return [koordinate[0], koordinate[1]]\n",
    "    \n",
    "    def sosedi(self):\n",
    "        s = set({V(self.a, self.b), V(self.a, self.b - 1), V(self.a + 1, self.b - 1)})\n",
    "        return s\n",
    "    \n",
    "    def premakni(self, x, y):\n",
    "        return U(self.a + x, self.b + y)\n",
    "    \n",
    "    def na(self, premica): \n",
    "        x, y = self.koordinate()\n",
    "        if premica.koef != \"NaN\":\n",
    "            if y == premica.koef * x + premica.n:\n",
    "                return True\n",
    "            else:\n",
    "                return False\n",
    "        # navpicnica:\n",
    "        else:\n",
    "            if x == premica.x:\n",
    "                return True\n",
    "            else:\n",
    "                return False\n",
    "            \n",
    "    def vsebovana(tocka, M):\n",
    "        for m in M:\n",
    "            if m.a == tocka.a and m.b == tocka.b:\n",
    "                return True\n",
    "        return False\n",
    "\n",
    "class V:\n",
    "    def __init__(self, a, b):\n",
    "        self.a = a # a konstanta ... koliko \"prvih\" vektorjev uporabimo\n",
    "        self.b = b\n",
    "        \n",
    "    def __repr__(self):\n",
    "        a,b = self.podatki()\n",
    "        return ('{}({}a, {}b)'.format(self.__class__.__name__, a, b))\n",
    "    \n",
    "    def podatki(self):\n",
    "        return self.a, self.b\n",
    "    \n",
    "    def koordinate(self):\n",
    "        vektor = self.a * A1 + self.b * A2 + Vektor(1, 0)\n",
    "        koordinate = vektor.koordinate()\n",
    "        return [koordinate[0], koordinate[1]]\n",
    "    \n",
    "    def sosedi(self):\n",
    "        s = set({U(self.a, self.b), U(self.a - 1, self.b + 1), U(self.a, self.b + 1)})\n",
    "        return s\n",
    "    \n",
    "    def premakni(self, x, y):\n",
    "        return V(self.a + x, self.b + y)\n",
    "    \n",
    "    def na(self, premica): \n",
    "        x, y = self.koordinate()\n",
    "        if premica.koef != \"NaN\":\n",
    "            if y == premica.koef * x + premica.n:\n",
    "                return True\n",
    "            else:\n",
    "                return False\n",
    "        # navpicnica:\n",
    "        else:\n",
    "            if x == premica.x:\n",
    "                return True\n",
    "            else:\n",
    "                return False\n",
    "    \n",
    "    def vsebovana(tocka, M):\n",
    "        for m in M:\n",
    "            if m.a == tocka.a and m.b == tocka.b:\n",
    "                return True\n",
    "        return False\n",
    "            \n",
    "        \n",
    "\n",
    "A1 = Vektor(0, - sqrt(3))\n",
    "A2 = Vektor(3 / 2, - sqrt(3) / 2)\n",
    "\n",
    "def grid(k, l, m, n):\n",
    "    # oglisca = ([0, 0], [k, l], [m, n], [k + m, l + n])\n",
    "    # print U(0,0).koordinate(), U(k, l).koordinate(), U(m, n).koordinate(), U(k + m, l + n).koordinate()\n",
    "    # lahko bi dali vsa vozlisca kar v mnozico??\n",
    "    mina = min(0, k, m, k + m)\n",
    "    maxa = max(0, k, m, k + m)\n",
    "    minb = min(0, l, n, l + n)\n",
    "    maxb = max(0, l, n, l + n)\n",
    "    \n",
    "    #matrika = []\n",
    "    #for i in range(mina, maxa + 1):\n",
    "    #    vrstica = []\n",
    "    #    for j in range(minb, maxb + 1):\n",
    "    #        vrstica += [U(i, j)]\n",
    "    #        # print U(i,j), U(i, j).koordinate()\n",
    "    #    matrika += [vrstica]\n",
    "    #    \n",
    "    #return matrika\n",
    "    \n",
    "    mnozica = set()\n",
    "    for i in range(mina, maxa + 1):\n",
    "        for j in range(minb, maxb + 1):\n",
    "            mnozica.add(U(i, j))\n",
    "    \n",
    "    return mnozica\n",
    "\n",
    "from matplotlib.path import Path\n",
    "# mogoce to celo dela?? # trenutno vrne vse tocke v paralelogramu. odstraniiti je potrebno se tiste na obeh premicah\n",
    "# premisliti je treba se tiste pogoje, ce je use uredu... to, da lezi na premici pa to\n",
    "# (sem zdej naredu, lih prej k sm su u lj, pa nism preverju)\n",
    "\n",
    "def paralelogram(k, l, m, n):\n",
    "    G = grid(k, l, m, n)\n",
    "    oglisca = [U(0,0).koordinate(), U(k, l).koordinate(), U(k + m, l + n).koordinate(), U(m, n).koordinate()]\n",
    "    p = Path(oglisca[::-1])\n",
    "    premica1 = Premica(U(0, 0), U(k, l))\n",
    "    premica2 = Premica(U(0, 0), U(m, n))\n",
    "    Uji = set()\n",
    "    Vji = set()\n",
    "    for i in range(len(G)):\n",
    "        for j in range(len(G[0])):\n",
    "            izbrana = G[i][j]\n",
    "            tockaU = [izbrana.koordinate()]\n",
    "            a = izbrana.a\n",
    "            b = izbrana.b\n",
    "            izbranaV = V(a, b)\n",
    "            tockaV = [izbranaV.koordinate()]\n",
    "            vsebuje_u = p.contains_points(tockaU, radius = 1e-3)[0] # ker vrne array[True]\n",
    "            vsebuje_v = p.contains_points(tockaV, radius = 1e-3)[0] #####ZAKAJ JE TREBA TUKEJ RADIUS?\n",
    "            if vsebuje_u and not izbrana.na(premica1) and not izbrana.na(premica2): \n",
    "                Uji.add(G[i][j])\n",
    "            elif vsebuje_v and not izbranaV.na(premica1) and not izbranaV.na(premica2):\n",
    "                Vji.add(izbranaV)\n",
    "    return Uji, Vji\n",
    "\n",
    "\n",
    "def sos_v_par(tocka, k, l, m, n):\n",
    "    Uij, Vij = paralelogram(k, l, m, n)\n",
    "    povezave = set()\n",
    "    P = union(Uij, Vij)\n",
    "    for s in tocka.sosedi():\n",
    "        if vsebovana(s, P):\n",
    "            povezave.add(s)\n",
    "        elif vsebovana(s.premakni(k, l), P):\n",
    "            s1 = s.premakni(k, l)\n",
    "            povezave.add(s1)\n",
    "        elif vsebovana(s.premakni(m, n), P):\n",
    "            s1 = s.premakni(m, n)\n",
    "            povezave.add(s1)\n",
    "        elif s.a == s.b == 0:\n",
    "            s1 = s.premakni(k + m, l + n)\n",
    "            povezave.add(s1)\n",
    "    return povezave\n",
    "\n",
    "def graf(k,l,m,n):\n",
    "    Uij, Vij = paralelogram(k,l,m,n)\n",
    "    T = set()\n",
    "    for tocka in union(Uij, Vij):\n",
    "        T.add(str(tocka))\n",
    "    Graph([T, lambda u, v: vsebovana(eval(u), sos_v_par(eval(v), k, l, m, n))])    "
   ]
  },
  {
   "cell_type": "code",
   "execution_count": 28,
   "metadata": {},
   "outputs": [],
   "source": [
    "u, v = paralelogram(-1,1, 0, 1)"
   ]
  },
  {
   "cell_type": "code",
   "execution_count": 29,
   "metadata": {},
   "outputs": [
    {
     "data": {
      "text/plain": [
       "({U(-1a, 2b)}, {V(0a, 0b)})"
      ]
     },
     "execution_count": 29,
     "metadata": {},
     "output_type": "execute_result"
    }
   ],
   "source": [
    "u, v"
   ]
  },
  {
   "cell_type": "code",
   "execution_count": 30,
   "metadata": {},
   "outputs": [],
   "source": [
    "tocka = V(0,0)"
   ]
  },
  {
   "cell_type": "code",
   "execution_count": 31,
   "metadata": {},
   "outputs": [
    {
     "data": {
      "text/plain": [
       "True"
      ]
     },
     "execution_count": 31,
     "metadata": {},
     "output_type": "execute_result"
    }
   ],
   "source": [
    "vsebovana(tocka, union(u,v))"
   ]
  },
  {
   "cell_type": "code",
   "execution_count": 34,
   "metadata": {},
   "outputs": [
    {
     "data": {
      "text/plain": [
       "{U(-1a, 2b), U(-1a, 2b), U(-1a, 2b)}"
      ]
     },
     "execution_count": 34,
     "metadata": {},
     "output_type": "execute_result"
    }
   ],
   "source": [
    "sos_v_par(tocka, -1,1,0,1)"
   ]
  },
  {
   "cell_type": "code",
   "execution_count": 16,
   "metadata": {},
   "outputs": [
    {
     "ename": "AttributeError",
     "evalue": "U instance has no attribute 'make_a'",
     "output_type": "error",
     "traceback": [
      "\u001b[0;31m---------------------------------------------------------------------------\u001b[0m",
      "\u001b[0;31mAttributeError\u001b[0m                            Traceback (most recent call last)",
      "\u001b[0;32m<ipython-input-16-ef450daae51c>\u001b[0m in \u001b[0;36m<module>\u001b[0;34m()\u001b[0m\n\u001b[0;32m----> 1\u001b[0;31m \u001b[0mtocka\u001b[0m\u001b[0;34m.\u001b[0m\u001b[0mmake_a\u001b[0m\u001b[0;34m(\u001b[0m\u001b[0;34m-\u001b[0m\u001b[0mRealNumber\u001b[0m\u001b[0;34m(\u001b[0m\u001b[0;34m'3.'\u001b[0m\u001b[0;34m)\u001b[0m\u001b[0;34m-\u001b[0m\u001b[0mInteger\u001b[0m\u001b[0;34m(\u001b[0m\u001b[0;36m2\u001b[0m\u001b[0;34m)\u001b[0m\u001b[0;34m)\u001b[0m\u001b[0;34m\u001b[0m\u001b[0m\n\u001b[0m",
      "\u001b[0;31mAttributeError\u001b[0m: U instance has no attribute 'make_a'"
     ]
    }
   ],
   "source": [
    "tocka.make_a(-3.-2)"
   ]
  },
  {
   "cell_type": "code",
   "execution_count": 64,
   "metadata": {},
   "outputs": [
    {
     "ename": "SyntaxError",
     "evalue": "invalid syntax (<string>, line 1)",
     "output_type": "error",
     "traceback": [
      "\u001b[0;36m  File \u001b[0;32m\"<string>\"\u001b[0;36m, line \u001b[0;32m1\u001b[0m\n\u001b[0;31m    U(-1a, 2b)\u001b[0m\n\u001b[0m        ^\u001b[0m\n\u001b[0;31mSyntaxError\u001b[0m\u001b[0;31m:\u001b[0m invalid syntax\n"
     ]
    }
   ],
   "source": [
    "graf(-1,1,0,1)"
   ]
  },
  {
   "cell_type": "code",
   "execution_count": 54,
   "metadata": {},
   "outputs": [
    {
     "data": {
      "image/png": "[encoded data removed]",
      "text/plain": [
       "Looped graph on 2 vertices"
      ]
     },
     "execution_count": 54,
     "metadata": {},
     "output_type": "execute_result"
    }
   ],
   "source": [
    "Graph([{'a','b'}, lambda u, v: True])"
   ]
  },
  {
   "cell_type": "code",
   "execution_count": 58,
   "metadata": {},
   "outputs": [
    {
     "data": {
      "text/plain": [
       "'U(1a, 1b)'"
      ]
     },
     "execution_count": 58,
     "metadata": {},
     "output_type": "execute_result"
    }
   ],
   "source": [
    "str(U(1,1))"
   ]
  },
  {
   "cell_type": "code",
   "execution_count": null,
   "metadata": {},
   "outputs": [],
   "source": []
  }
 ],
 "metadata": {
  "kernelspec": {
   "display_name": "SageMath 8.9",
   "language": "sage",
   "name": "sagemath"
  },
  "language_info": {
   "codemirror_mode": {
    "name": "ipython",
    "version": 2
   },
   "file_extension": ".py",
   "mimetype": "text/x-python",
   "name": "python",
   "nbconvert_exporter": "python",
   "pygments_lexer": "ipython2",
   "version": "2.7.15"
  }
 },
 "nbformat": 4,
 "nbformat_minor": 2
}
