{
 "cells": [
  {
   "cell_type": "markdown",
   "metadata": {},
   "source": [
    "# NANOTORI"
   ]
  },
  {
   "cell_type": "markdown",
   "metadata": {},
   "source": [
    "## Potrebne funkcije"
   ]
  },
  {
   "cell_type": "code",
<<<<<<< HEAD
   "execution_count": 3,
=======
   "execution_count": 1,
>>>>>>> 1fb07d24ffdd118d4ac77e5d583a172a9d42b9da
   "metadata": {},
   "outputs": [],
   "source": [
    "# imamo grid... sestkotnik je 4 enote sirok in 2 enoti visok\n",
    "\n",
    "A2 = vector([3, - 1]) # vektor desno dol\n",
    "A1 = vector([0, - 2]) # vektor dol\n",
    "\n",
    "############## Razredi #############\n",
    "\n",
    "class U:\n",
    "    def __init__(self, a, b):\n",
    "        self.a = a # a konstanta ... koliko A1 vektorjev uporabimo\n",
    "        self.b = b\n",
    "        \n",
    "    def __repr__(self):\n",
    "        a,b = self.podatki()\n",
    "        return ('{}({}a, {}b)'.format(self.__class__.__name__, a, b))\n",
    "    \n",
    "    def __eq__(self, other):\n",
    "        return (self.a == other.a and \n",
    "               self.b == other.b and\n",
    "               self.__class__.__name__ == other.__class__.__name__)\n",
    "    \n",
    "    def __hash__(self): \n",
    "#         return hash((self.a, self.b))\n",
    "        return hash(exp(self.a + exp(self.b)))\n",
    "    \n",
    "    def podatki(self):\n",
    "        return self.a, self.b\n",
    "    \n",
    "    def koordinate(self):\n",
    "        vektor = self.a * A1 + self.b * A2\n",
    "        x = vektor[0]\n",
    "        y = vektor[1]\n",
    "        return [x, y]\n",
    "    \n",
    "    def sosedi(self):\n",
    "        s = set({V(self.a, self.b), V(self.a, self.b - 1), V(self.a + 1, self.b - 1)})\n",
    "        return s\n",
    "    \n",
    "    def premakni(self, c, d):\n",
    "        return U(self.a + c, self.b + d)\n",
    "    \n",
    "class V:\n",
    "    def __init__(self, a, b):\n",
    "        self.a = a # a konstanta ... koliko A1 vektorjev uporabimo\n",
    "        self.b = b\n",
    "        \n",
    "    def __repr__(self):\n",
    "        a,b = self.podatki()\n",
    "        return ('{}({}a, {}b)'.format(self.__class__.__name__, a, b))\n",
    "    \n",
    "    def __eq__(self, other):\n",
    "        return (self.a == other.a and \n",
    "               self.b == other.b and\n",
    "               self.__class__.__name__ == other.__class__.__name__)\n",
    "    \n",
    "    def __hash__(self): \n",
    "#         return hash((self.a, self.b))\n",
    "        return hash(exp(self.a + exp(self.b)))\n",
    "    \n",
    "    def podatki(self):\n",
    "        return self.a, self.b\n",
    "    \n",
    "    def koordinate(self):\n",
    "        vektor = self.a * A1 + self.b * A2 + vector([2, 0])\n",
    "        x = vektor[0]\n",
    "        y = vektor[1]\n",
    "        return [x, y]\n",
    "    \n",
    "    def sosedi(self):\n",
    "        s = set({U(self.a, self.b), U(self.a - 1, self.b + 1), U(self.a, self.b + 1)})\n",
    "        return s\n",
    "        \n",
    "    def premakni(self, c, d):\n",
    "        return V(self.a + c, self.b + d)\n",
    "\n",
    "############## Funkcije #############\n",
    "\n",
    "def grid(k, l, m, n):\n",
    "    # oglisca = ([0, 0], [k, l], [m, n], [k + m, l + n])\n",
    "    # print U(0,0).koordinate(), U(k, l).koordinate(), U(m, n).koordinate(), U(k + m, l + n).koordinate()\n",
    "\n",
    "    mina = min(0, k , m , k + m)\n",
    "    maxa = max(0, k , m , k + m)\n",
    "    minb = min(0, l , n , l + n)\n",
    "    maxb = max(0, l , n , l + n)\n",
    "\n",
    "    mnozica = set()\n",
    "    for i in range(mina-1, maxa + 1):\n",
    "        for j in range(minb -1, maxb + 1):\n",
    "            mnozica.add(U(i, j))\n",
    "    \n",
    "    return mnozica\n",
    "\n",
    "# lahko bi poskusili dodati le tiste, ki so \"blizje\" paralelogramu, ne celege pravokotnika\n",
    "# def grid1(k, l, m, n):\n",
    "#     mina = min(0, k, m, k + m)\n",
    "#     maxa = max(0, k, m, k + m)\n",
    "#     minb = min(0, l, n, l + n)\n",
    "#     maxb = max(0, l, n, l + n)\n",
    "\n",
    "#     mnozica = set()\n",
    "#     for i in range(mina, maxa + 1):\n",
    "#         for j in range(minb, maxb + 1):\n",
    "#             mnozica.add(U(i, j))\n",
    "    \n",
    "#     return mnozica\n",
    "\n",
    "# 3x3 matrika\n",
    "def determinanta3x3(matrika): \n",
    "    a11 = matrika[0][0]\n",
    "    a12 = matrika[0][1]\n",
    "    a13 = matrika[0][2]\n",
    "    \n",
    "    a21 = matrika[1][0]\n",
    "    a22 = matrika[1][1]\n",
    "    a23 = matrika[1][2]\n",
    "    \n",
    "    a31 = matrika[2][0]\n",
    "    a32 = matrika[2][1]\n",
    "    a33 = matrika[2][2]\n",
    "        \n",
    "    det = (\n",
    "          a11 * (a22 * a33 - a32 * a23) - \n",
    "          a12 * (a21 * a33 - a31 * a23) + \n",
    "          a13 * (a21 * a32 - a31 * a22)\n",
    "          )\n",
    "            \n",
    "    return det\n",
    "\n",
    "# gledamo kje je tocka w glede na vektor uv\n",
    "# ce je tocka levo, je predznak determinante pozitiven,\n",
    "# ce desno, je predznak negativen,\n",
    "# ce pa so kolinearne je determinanta 0.\n",
    "# sprejme tocke U ali V\n",
    "def zavoj(u, v, w):\n",
    "    u_x, u_y = u.koordinate()\n",
    "    v_x, v_y = v.koordinate()\n",
    "    w_x, w_y = w.koordinate()\n",
    "    \n",
    "    matrika = matrix([[1, 1, 1], [u_x, v_x, w_x], [u_y, v_y, w_y]])\n",
    "    \n",
    "    return sgn(determinanta3x3(matrika))\n",
    "\n",
    "def v_paralelogramu(G, u0, u1, u2, u3):\n",
    "    # G mnozica Ujev, ki jih bomo pregledali,\n",
    "    # ui zaporedna oglisca v paralelogramu, tako da je notranjost na levi,\n",
    "    # u0 pa je izhodisce \n",
    "    # dopuscamo tocke na daljici u0u1 in na daljici  u3u0\n",
    "    \n",
    "    Uji = set()\n",
    "    Vji = set()\n",
    "    \n",
    "    for u in G:   \n",
    "        v = V(u.a, u.b) # \"pripadajoce\" vozlisce V\n",
    "\n",
    "        pogoj_u = (zavoj(u0, u1, u) >= 0 and\n",
    "                   zavoj(u1, u2, u) >  0 and\n",
    "                   zavoj(u2, u3, u) >  0 and\n",
    "                   zavoj(u3, u0, u) >= 0)\n",
    "        \n",
    "        pogoj_v = (zavoj(u0, u1, v) >= 0 and\n",
    "                   zavoj(u1, u2, v) >  0 and\n",
    "                   zavoj(u2, u3, v) >  0 and\n",
    "                   zavoj(u3, u0, v) >= 0)\n",
    "        if pogoj_u:\n",
    "            Uji.add(u)\n",
    "        if pogoj_v:\n",
    "            Vji.add(v)\n",
    "    \n",
    "    return Uji, Vji\n",
    "    \n",
    "def vozlisca_na_torusu(k, l, m, n):\n",
    "    G = grid(k, l, m, n)\n",
    "    \n",
    "    u_00 = U(0,0)\n",
    "    u_kl = U(k, l)\n",
    "    u_klmn = U(k + m, l + n)\n",
    "    u_mn = U(m, n)\n",
    "\n",
    "    # ugotovimo orientacijo\n",
    "    if zavoj(u_kl, u_mn, u_00) == 0:\n",
    "        Uji, Vji = \"Izrojen\", \"Izrojen\" # niso mnozice\n",
    "    elif zavoj(u_kl, u_mn, u_00) > 0:\n",
    "        # u_00 lezi levo od vektorja u_kl u_mn\n",
    "        Uji, Vji = v_paralelogramu(G, u_00, u_kl, u_klmn, u_mn)\n",
    "    elif zavoj(u_kl, u_mn, u_00) < 0:\n",
    "        # u_00 lezi desno od vektorja u_kl u_mn\n",
    "        Uji, Vji = v_paralelogramu(G, u_00, u_mn, u_klmn, u_kl)\n",
    "    \n",
    "    return Uji, Vji\n",
    "\n",
    "def povezave_na_torusu(k, l, m, n):\n",
    "    Uij, Vij = vozlisca_na_torusu(k, l, m, n)\n",
    "    if Uij == \"Izrojen\":\n",
    "        return Uij # paralelogram je izrojen\n",
    "    else:\n",
    "        vozlisca = union(Uij, Vij) # vozlisca znotraj paralelograma (brez stranic)\n",
    "        pregledane = set()\n",
    "        povezave = []\n",
    "        for tocka in vozlisca:\n",
    "            for sosed in (tocka.sosedi() - pregledane): # tocka.sosedi().difference(pregledane)\n",
    "                sosed_kl = sosed.premakni(k, l)\n",
    "                sosed_mn = sosed.premakni(m, n)\n",
    "                if sosed in vozlisca:\n",
    "                    povezave.append((tocka, sosed))\n",
    "                else:\n",
    "                    if sosed_kl in vozlisca:\n",
    "                        povezave.append((tocka, sosed_kl))\n",
    "                    elif sosed_mn in vozlisca:\n",
    "                        povezave.append((tocka, sosed_mn))\n",
    "                    elif sosed == U(k + m, l + n):\n",
    "                        povezave.append((tocka, U(0, 0))) # to je sosed_klmn, nasprotno oglisce\n",
    "            pregledane.add(tocka)\n",
    "        return povezave \n",
    "\n",
    "def nanotorus(k, l, m, n):\n",
    "    p = povezave_na_torusu(k, l, m, n)\n",
    "    if p == \"Izrojen\":\n",
    "        print(\"Paralelogram je izrojen!\")\n",
    "    else:\n",
    "        G = Graph(p, multiedges = True)\n",
    "        G._pos = {v: v.koordinate() for v in G}\n",
    "        return G\n"
   ]
  },
  {
   "cell_type": "code",
   "execution_count": 4,
   "metadata": {},
   "outputs": [],
   "source": [
    "def vozlisca_na_razdalji_d(graf, start, dodane, d=0):\n",
    "    # dodane je na zacetku prazna mnozica\n",
    "    # start je vozlisce, kjer zacnemo\n",
    "    if d == 0:\n",
    "        dodane.add(start)\n",
    "    elif d < 0:\n",
    "        print(\"Negativna dolzina!\")\n",
    "    else:\n",
    "        dodane.add(start)\n",
    "        for povezava in graf[start]:\n",
    "            vozlisca_na_razdalji_d(graf, povezava, dodane, d - 1)\n",
    "    return dodane\n",
    "\n",
    "# zanima nas za razdalje d, 1 <= d <= diam(graf)\n",
    "# poskusi dobiti formulo za stevilo teh vozlisc v odvisnosti od k, l, m, n, d"
   ]
  },
  {
   "cell_type": "markdown",
   "metadata": {},
   "source": [
    "## Primeri nanotorov"
   ]
  },
  {
   "cell_type": "code",
   "execution_count": 4,
   "metadata": {},
   "outputs": [
    {
     "name": "stdout",
     "output_type": "stream",
     "text": [
      "(True, 40, 60, True, 6)\n"
     ]
    },
    {
     "data": {
      "image/png": "iVBORw0KGgoAAAANSUhEUgAAAaQAAAGDCAYAAABk5WS7AAAABHNCSVQICAgIfAhkiAAAAAlwSFlzAAAPYQAAD2EBqD+naQAAADl0RVh0U29mdHdhcmUAbWF0cGxvdGxpYiB2ZXJzaW9uIDIuMi4zLCBodHRwOi8vbWF0cGxvdGxpYi5vcmcvIxREBQAAIABJREFUeJzsnXlcjen7xz+nPbLLVhj7XnSqUQwVM4xRZBpSoVKpFEOEaJisU8jIlEoLKoRQmilLhRRTp9E+lF2WjCTa69y/P/z0FZXO2jmn+/169arXOc9z3dfzdM7zuZfrvi4GIYSAQqFQKJQ2RqqtHaBQKBQKBaCCRKFQKBQRgQoShUKhUEQCKkgUCoVCEQmoIFEoFApFJKCCRKFQKBSRgAoShUKhUEQCKkgUCoVCEQmoIFFEBjab3dYutFvovaeIAlSQKG1GRkYGnJ2doclkQkFBAdLS0lBQUIAmkwlnZ2dkZGS0tYsSC733FFGEQVMHUYRNYWEh7GxtkZiUBJVeypiuqQ71YUPQuWMHlJVXILPgLi6lZ6Ko+CX09fQQEBiIoUOHtrXbEgG99xRRhgoSRahERETAxsYGfbt3g5fTUhhOnggZGenPjqurq0dM8g2sPRCEZyWvERQUhIULF7aBx5IDvfcUUYcKEkVoREREwMLCAhYzDODr6oyOigpfPKe8sgqOnj4Ii09AWFgYzMzMhOCp5EHvPUUcoIJEEQoFBQVQV1eHyVRdhLi7QEqq9cuXbDYbVlv34NSVFGRlZdEpJA6h954iLlBBoggFA319PCq8g1tHfFvVO/+U8soqqC9yxMBhw5GQmCgADyUXeu8p4gKNsqMIHBaLhcSkJHguX8rVAxEAOioqwNPJGolJSTQCjAPovaeIE1SQKAInNDQUqr17wXDyRJ7sGE3WgUovZYSEhPDJM8mH3nuKOEEFiSJwUlNSMI2p1mREFyfIyEhjGlMdN1JT+eSZ5EPvPUWckGlrByiST05uLsy/seSLLfVhgxFxMRgbN24EAHC7BMrNecJsi1/nZWZlwfybpVzZ+RT1YYNxIuEwX2xRKE1BBYkiUNhsNqqrq9G5Ywe+2Oui1BF1dXUIDw/nKFoMABgMRrs6HgDq6ur4eu+rq6vBZrM5vvcUSmuggkQRKFJSUpCXl0dZeQVf7L15Vw55eXk8ePCAL/YkHQUFBb7feypGFEFBP1kUgTN2zBhkFtzli63MgnsYN3YsX2y1B+i9p4gTVJAoAkdHVxeX0jNRV1fPk526unpcZmVioo4OnzyTfOi9p4gTVJAoAsfKygpFxS8Rk3yDJzvRyakoKn4JKysrPnkm+dB7TxEnaKYGisApLCyEtpYWOsnLIvdYIM0WIGQM9PXxsOAOMo/STA0U0YaOkCgCg81mw9fXF+rq6lDq1AnFpWVw9PThuBgcm82Go6cPnpW8RkBgoIC8lVwCAgPxrOQ11/fegd57ipCggkQRCI8ePcJ3332H5cuXY8mSJcjLy0NwSAjC4hNgtXUPyiurWmWnvLIKVlv3ICw+AUFBQTS5JxcMHToUQUFBXN37JR67ER53GX5+fvTeUwQOFSQKXyGEIDg4GOPGjcPt27dx4cIF+Pr6QklJCQsXLkRYWBhOXUmB+iIHRCUlN7vYXldXj6ikZKgvcsSpKykIDw+nNXl4oPG9d2zlvXfA8YtJAIOBqKgo1NfzFhhBoXwJuoZE4RvPnj2Dra0tYmNjYWVlBW9vb3Tp0uWz4woLC/HDrFm4U1AAlV49MY05HurDBqOLUke8eVeOzIJ7uMx6X7XUQF8f/gEBtHfOJz6tGDuNqd7ivbdbtgxmZmYghMDBwQEHDhzgaoMuhdIaqCBReIYQguPHj2P58uWQk5NDYGAgDA0NWzx+5MiRGDhwIEaMGIEbqanIzslBdXU15OXlMW7sWEzU0YGVlRU0NDSEeCXth4yMDISEhLTq3h84cADOzs4AgO3bt8PNza0tXadIMFSQKDzx8uVLODo64tSpUzA1NcWBAwfQo0ePFs+5dOkSvv32W1y9ehXffPNNw+s0JU3b0dK9J4RgyZIlOHbsGOrq6hASEgJLS0vhOkhpF1BBonDN2bNnYWdn1xBNN3/+/FadN2/ePBQUFCArK4tO/4gJFRUV0NXVxb1791BRUYHz589j5syZLZ5DOxgUTqGfFgrHvH79GosWLYKxsTF0dXWRm5vbajF68uQJzp07B0dHRypGYkSHDh1w5swZSEtLo0ePHjAxMUF6enqjYzIyMuDs7AxNJhMKCgqQlpaGgoICNJlMODs70+J+lC9CR0gUjoiLi8PSpUtRXl4OHx8fWFhYcCQs7u7u+P3331FUVIROnToJ0FOKIIiPj8fMmTOhoqKC2tpapKSkgBDSKFBiuqY61IcNQeeOHVBWXoHMgru4lP4+UEJfTw8BgYE0SIXSJFSQKK3i7du3cHFxQWBgIL777jsEBQVBVVWVIxs1NTUYMGAATExMcODAAQF5ShE027dvx6ZNmxpE6W1ZGfr26A4vp6UwnDyxyWKAdXX1iEm+gbUHgvCs5DWCgoJoGD/lM6ggUb5IYmIirK2t8fLlS+zduxe2trZcTbedOHECpqamyMnJwZgxYwTgKUUYsNlszJs3D/Hx8aiqqoL5TAMcdF3RqrRE5ZVVcPT0QVh8AsLCwmBmZiYEjyniAhUkSrNUVFRgw4YN2L9/P6ZOnYrg4GAMHjyYa3tTpkyBlJQUkpKS+OckpU3IyMiAtrYWTL/Vw2H3NRwFL7DZbFht3YNTV1KQlZVFp+8oDVBBojRJSkoKLC0t8fjxY+zatQvOzs48RUxlZ2dDTU0NkZGR+Omnn/joKaUtMNDXx8PCO8g8QhO2UvgHjbKjNKK6uhrr16/HN998gx49euDWrVtYuXIlz+G7fn5+6NOnD+bOncsnTyltBYvFQmJSEryWL+VKjACgo6ICPJ2skZiURKPvKA1QQaI0wGKxwGQy4e3tje3bt+PatWsYMWIEz3bLyspw9OhR2NnZQVZWlg+eUtqS0NBQqPbuBcPJE3myYzRZByq9lBESEsInzyjiDhUkCmpra7FlyxZMnDgRcnJySE9Px/r16yEjI8MX+0ePHkVlZSXs7Oz4Yo/StqSmpGAaU63JaDpOkJGRxjSmOm6kpvLJM4q4QwWpnZOTk4OJEydi27Zt2LhxI27evIlx48bxzT4hBL6+vpg7dy5UVFT4ZpfSduTk5kJ92BC+2FIfNhjZOTl8sUURf6ggtVPq6+vx22+/gclkoqqqCjdv3sSWLVv4PqV25coV5OXlwdHRka92KW0Dm81GdXU1OnfswBd7XZQ6orq6muPCgRTJhApSO+TOnTuYPHkyNmzYgJ9//rlh7UgQ+Pr6YuTIkdDX1xeIfYpwkZKSgry8PMrKK/hi7827csjLy9OcdxQAAH8WCShiAZvNho+PDzZs2AAVFRUkJydDV1dXYO09ffoUZ86cwd69e2neOjHn1atX+PPPPxEdHQ3CZiOz4C5f7GYW3MO4sWP5Yosi/lBBaifcv38f1tbWSEpKgrOzM3bu3ImOHTsKtM3AwEDIyclh8eLFAm2HIhhu376NmJgYREdH4/r162Cz2dDS0sIEDQ1cTLuFurp6ngIb6urqcZmVCeP5C/joNUWcoYIk4RBCEBgYCBcXF/To0QOXL1+GgYGBwNutra1FQEAALCwsmqwaSxE96urqkJKS0iBCd+7cgYKCAqZPn46DBw/ihx9+QL9+/ZCRkQEmk4mY5Bsw1pvEdXvRyakoKn5J00hRGqCZGiSYoqIiLF26FPHx8bC1tcXu3bvRuXNnobR9+vRpmJiY4NatW1BXVxdKmxTOKSsrQ3x8PGJiYhAbG4uSkhL07t0bs2fPhpGREaZPn44OHT4PYDDQ18fDgjvIPMp9pgY1C3uUlFfgzZsy6OnpYevWrZg8eTI/LosiplBBkkAIIQgLC8OKFSvQoUMHHDp0CN9//71QfTAwMEBNTQ2Sk5OF2i7lyzx8+LBhFJSUlITa2lqMGzcOhoaGMDIygpaW1heDDAoLC6GmpgaTqboIcXfhOpddZmYm8vPz8csvvyAzMxMzZszA1q1boaWlxetlUsQRQpEonj9/TubMmUMAEAsLC1JSUiKUduvr6xv+zsvLIwBIeHi4UNqmtEx9fT35+++/yaZNm4iamhoBQGRkZMj06dPJ/v37yf3797myGxERQRgMBlk0cxp5m3CWsFPjvvjzNuEsWTRzGmEwGCQiIqKRjydPniSjRo0iAIiRkRG5desWn+4ARVygIyQJ4tSpU7C3t4eUlBT8/f1hbGwssLYyMjIQEhKC1JQU5OTmorq6GvLy8hg7Zgxq6+rw+PFjPHv2DPLy8gLzgdI8FRUVuHz5MmJiYhATE4Pnz5+jW7dumDVrFoyMjDBjxgy+rO1FRETAxsYGfbt3g6eTNYwm6zRbDyk6ORWuB4LwrKS02XpI9fX1OH78OLZs2YLCwkKYmJjg119/xejRo3n2lSL6UEGSAF69egUnJyccP34cP/74I/z8/KCsrCyQtgoLC79YHTTuBgsvSl7T6qBC5vnz5zh//jxiYmJw8eJFVFZWYujQoTAyMoKRkREmTZrEt3RQH/PpZ2IaUx3qwwaji1JHvHlXjsyCe7jMuoWi4v/Qq5cyrl1LxvDhw1u0WVdXhyNHjsDDwwOPHj2CmZkZNm/ejGHDhvHdf4oI0bYDNAqvxMTEkD59+pBu3bqRiIgIwmazBdZWeHg4UVRUJINV+pHTO91JzbXYJqdlaq7FktM73clglX5EUVGx0dQMhX+w2WySlZVFtm3bRrS1tQkAIiUlRSZPnkx+++03kp+fL9DPw6ewWCzi5ORENJlMIi8vTwAQeXl5oslkEicnJ+Lt7U0AkO3bt7faZnV1NfHz8yMqKipEWlqaWFlZcT3FSBF9qCCJKaWlpcTKyooAILNmzSJFRUUCbS88PJyn9QK6nsQfqqurycWLF4mzszMZOHAgAUCUlJTIjz/+SEJDQ0lxcXFbu9jAx+uKH3B3dycMBoPExcVxZKuyspLs27eP9O7dm8jKyhJ7e3vy+PFjfrlKERHolJ0YcunSJVhbW6O0tBT79u2DlZWVQDMhFBQUQF1dneeIKlodlDtKSkrw559/IiYmBnFxcSgrK4OqqmrDVJyenp7YrNXV19fD0NAQN2/eRHp6OgYNGsTR+eXl5fD19cVvv/2Gd+/eYdmyZdiwYQP69OkjII8pwoQKkhjx7t07rFu3Dr6+vjAwMEBwcDAGDhwo8HYN9PXxqPAObtHqoEKjoKAA0dHRiImJQXJyMurr68FkMhtESF1dXWzTMZWUlEBTUxNdunTB9evXm9zn9CXevn2L33//HXv27EF1dTWcnJzg6uqKnj17CsBjirCggiQmXLt2DZaWlnj+/Dk8PT3h4OAglISULBYLmpqaOL3Tnadd+VFJyTDZsA0sFgsaGhp89FAyqK+vR2pqaoMI/fvvv5CXl8f06dNhaGiI2bNnS1T5jszMTOjo6MDExASHDx/mWlxLS0uxd+9eeHt7AwBWrlwJFxcXdOvWjZ/uUoQEFSQRp7KyEu7u7ti7dy90dXURGhoq1GkvZ2dnnD0ZiXunQnjOWzboR0sYz18AHx8fPnrIO2w2u02yTb99+xYXLlxAdHQ0YmNj8erVK/Tq1atRlgRB5xtsS8LCwrBo0SIcOHAAy5cv58nWf//9By8vL/j4+EBOTg4uLi5YuXKl0DKTUPgDFSQR5u+//8aSJUtw//59bNu2DatWrYK0NG9VOjlFk8nE2D7dEeK+hmdblh67kVf8Gmnp6XzwjHta2kOlo6sLKysrgY3iHj161LA3KDExETU1NRgzZkzDVJy2tna7KsWwcuVK+Pr64sqVK3zJPP/ixQvs2rULfn5+6NixI1xdXeHk5CTRwi5JUEESQWpqauDh4YFdu3ZhwoQJOHz4cJttDFRQUMBOe0v8bMr7JlvvY1Fw8z+MqqoqPnjGOa3ZQ3UpPRNFxS/5toeKzWYjIyOjYSru1q1bkJGRwdSpU2FoaAhDQ0MMHjyYT1coftTW1sLAwAB3794Fi8VC3759+WL3yZMn2LFjBw4dOoRu3bphw4YNsLe3h4IC52ugFOFBBUnEyMzMxJIlS5Cbm4vNmzdj3bp1fK/i2lrYbDakpaVxyG0VrA1n8GwvOCYeNju8UV9fL/RRwMcZBbyclsJw8sRmMwrEJN/A2gNBeFbyutmMAi1RWVmJhIQEREdH4/z583j69Cm6du2KWbNmwdDQEDNnzkTXrl35dWliz7Nnz8BkMjFkyBAkJCTw9fP+4MEDbNu2DaGhoejduzc2bdqEpUuXQk5Ojm9tUPhH+5kbECLclGOuq6vD9u3boaWlBUII0tLSsGnTpjYTI0Aw1UFlZWSQnJyMt2/f8sVma4iIiICFhQVMpuoi86gvjPUmNbseJiMjDWO9Scg86guTqbowNzdHRETEF9t48eIFgoODMXfuXPTs2ROzZ8/G5cuXsWDBAiQkJKC4uBjh4eEwNTWlYvQJffv2xalTp3Dz5k2sWcP71PDHfPXVVzh06BD+/fdfGBgYYPny5Rg+fDiCgoJQW1vL17YovENHSHyA1zWJ/Px8LFmyBCwWC+vXr8cvv/wiMvtK+L2GdOxiEmrr6sBgMDBy5EgwmUxoampCU1MT48eP5/tcv6D2UBFCkJub25A1++bNmwAAHR0dGBkZwdDQEKNGjRLb0Oy2wNfXF8uXL8fRo0dhYWEhkDby8vKwZcsWnDx5EkOGDMHmzZthZmYm9LVZStNQQeIBXtck6uvrsW/fPmzcuBFfffUVDh8+jK+//roNr+hznJ2dcSbyBO6fDuVLlN0ck59gb2+P9PR0sFgspKenIzMzE1VVVZCSksKoUaOgqanZIFTq6upc7VP5AD/3UMVfuICrV682rAfdv38fHTt2xIwZM2BoaIhZs2ahV69eXPva3iGEwNLSEidPnkRKSgrGjx8vsLYyMzOxefNmnDt3DqNGjcKWLVtgYmLSrgJKRBEqSFzC65rE3bt3YWlpievXr+Pnn3/G9u3boaio2AZX0jIfqoMKch9SbW0t8vLyPhOpmpoaSEtLY/To0Q2jKCaTCXV19VYtTvN7D5WSkhLevXsHFRWVhlGQvr4+XSjnI5WVldDV1cWbN2+Qnp6O7t27C7S99PR0/PLLL/jrr7+gpqYGDw8PGBkZ0ZFtG0EFiQs+rElYzDCAr6tzq3re5ZVVcPT0QVh8ApYsWYLIyEj07t0boaGhmDJlihC85pznz59j1apVOBkZCdVeysiJ8Bdapoaamhrk5uYiPT29QaiysrJQW1sLGRkZjB07tmEUxWQyoaam9tk0Jz/3UPWfY4GBQ4fBz88PEyZMoA8sAXL//n1oampCW1sb58+fF8p0WkpKCtzd3ZGQkABNTU14eHhg5syZ9P8sZKggcQivaxJLtu7GsQuJMDVdCH9/fygpKQnQW+6or6+Hv78/3NzcICcnB1dXV/zyyy9tnsuuuroa2dnZDaOo9PR05OTkoK6uDrKyshg3blyjNSlbGxuM69tDovZQtRcuXLiAmTNnYtOmTfDw8BBau4mJiXB3d8f169ehq6uLrVu3wsDAQGjtt3eoIHEIP9Yk1Cwc8NXwESKZ1+2ff/6Bvb09/v77b9ja2mLXrl3o3r07jh07BnNzc65HheHh4RyHT7eGqqoqZGVlNZruy83NfR9azmBg9wo7idhD1R7ZsWMHNm7ciHPnzsHIyEho7RJCcOHCBbi7uyMtLQ16enrYunUrJk+eLDQf2it0BY8DWCwWEpOS4Ll8KVdiBAAdFRXg5bwUiUlJyMjI4LOH3PP27VusXr0ampqaqKioQHJyMgICAhrm8BcuXIiwsDCcupIC9UWOiEpKRl1dfZO26urqEZWUDPVFjjh1JUVgYgS837irra0NR0dHBAUFITMzE2/fvsX169fBJgSdO3IfEPExXZQ6orq6mquQfgp3rF+/HnPnzsWiRYtw584dobXLYDAwY8YM3Lx5E9HR0Xj9+jW++eYbzJw5E3///bfQ/GiP0BESB0hiXjdCCM6ePYsVK1bg1atX2LJlC1atWtXs/qfWVQd9H1looK8P/4CANis5IUlZJtorZWVl0NLSgqysLG7cuNEmU9xsNhtRUVHYvHkz8vLyYGhoCA8PD4FGAbZX6AiJA1JTUjCNqcaTGAHvN19OY6rjRmoqnzzjjocPH2LOnDmYN28exo8fj7y8PLi6ura4GXfo0KFISEwEi8WC8fwFyCt+DTf/w7DZ4Q03/8PIK34N4/kLwGKxcDkhoU3rH40dMwaZBXf5Yiuz4B7GjRnDF1vCQhJGc507d8aZM2fw4MEDLF26FG3Rf5aSkoKJiQmysrIQFhaG/Px8TJgwAT/99BNyc3OF7o8kQwWJA3Jyc6E+bAhfbKkPG4zsnBy+2OKU2tpaeHl5YfTo0cjIyMDp06cRHR2Nr776qtU2NDQ04OPjg7T0dFRVVaG+vh5VVVVIS0+Hj4+PSJSY0NHVxaX0zGanFltLXV094m+mIzM7G1OmTMHq1asRERGB27dvi9RDPyMjA87OztBkMqGgoABpaWkoKChAk8mEs7OzSE0Rc8Lo0aMRGhqKyMhI7N27t838kJaWhrm5OfLz8xEcHIz09HSMGzcO5ubmfJ1SFKXPlLChgtRK2Gw2qqurxX5NIiUlBUwmE+vXr4ednR3y8/Mxb948nsNbRXFD4aJFi1BU/BIxyTd4shOdnIoXJaVwcHBA3759ce7cOZibm2PkyJHo2rUr9PX1sWbNGhw/fhyFhYVC78UXFhbCQF8fTCYTZyJPYGyf7thpb4lDbquw094SY/t0x5nIE2AymTDQ10dhYaFQ/eMHJiYmcHV1haurKxLbOBhIRkYGVlZWuH37Nvz8/HDlyhWMHj0a1tbWuH//Psf2JLUjwQ10DYkDxHlNoqSkBBs2bEBAQAC0tLTg7++PCRMmCKXttiAzMxPW1tbIzLyF/r2UkR3O3z1UJSUlyMjIaBTd9+DBAwBAly5dGu2R0tTUxKBBgwSyp0WYSWPbmrq6OsycORNZWVlgsVjo379/W7sE4H2kZ0BAAHbs2IFXr15h6dKl2Lhx4xf9a4vs86IOFSQOEMfaQIQQhIeHY/Xq1aiursbOnTuxbNkyic3dVV1djW3btmHXrl0YOXIkfv3114bEqoLeQ/Xq1asGcfrw+9GjRwCAbt26NdojxWQyMXDgQJ5EitcN2mFhYTAzM+O6/bbg5cuXYDKZ6NOnD65evSpSWTIqKirwxx9/4LfffsPbt2+xbNkybNiwocmSGu2pI8EJVJA4gN953QQdZXf79m04OjoiISEBCxYsgLe3N9/qzYgiqampWLp0KQoLC7Fp0yasX78ecnJyDXuozGcYwE/Ie6iKi4vBYrEaCdWTJ08AAD169Gg0imIymejfv3+rREpQSWPFgfT0dEyePBmLFy9GQEBAW7vzGW/fvsX+/fuxe/duVFdXY/ny5XB1dYWysjKA9tmRaC1UkDhAGHnd+EFVVRV27tyJXbt2QVVVFb6+vpgxg/d6RqJKeXk5Nm7ciP3790NLSwtBQUEYO3Zso2N27tyJTZs2YkCf3tjtbAOjyTrN9kijk1PheiBYYD3S58+fNxKp9PR0PHv2DACgrKzcSKQ0NTXRr1+/z0SKn0ljRXGD9pcIDg7G0qVLERgYCBsbm7Z2p0lKS0uxd+9e7Nu3D4QQrFy5EnPnzsWUKVPaZUeiNVBB4hADfX08LLiDzKOi+SC4dOkSHB0d8eDBA6xbtw5ubm4imbSVX1y6dAm2trZ48eIFtm/fjhUrVnw2HUkIwZQpU/Ds2TP0V1VF0pUrIreH6unTp41GUWlpaSguLgYA9O7du9FUn5ycHGbOnCnyHSNBY29vj5CQEFy7dg3a2tpt7U6zvHr1Cl5eXvDx8UFdXS1UevZAVthBkXx+tDVUkDiksLAQampqItfDefHiBVxcXBAeHo6pU6fCz88Po0aN4pt9UaO0tBQuLi4IDg6Gvr4+AgMDMWRI0yH5YWFhWLRoES5fvgwDA4OG+lU3UlORnZPTUL9q3NixmKij88X6VcKAEIKioqJGo6j09HT8999/AIA+Pbrh0dkwsZg6FhTV1dWYOnVqw30S9dIfFy5cwIwZM9p9R6IlZNraAXFj6NChCAoKgrm5OQBwNAds77kfEfGJCA8P55sYsdlsBAYGYv369ZCWlkZoaCgWL14s0VmKz549C0dHR5SXlyMgIAA2NjbNXm9ZWRnWrl2L+fPnNyTJ1NDQaPRFZrPZIhe2zmAwoKqqClVVVcyZMwfAe5F6/PgxphkYYNKIQRKzQZtb5OXlcerUKWhoaMDU1BQXLlyAjIzoPtJiYmKg2rsXDCdP5MmO0WQdqPRSRkhIiMQJkmh9C8WExnndHFqV101tkQOOXUjCxIkTYWpqyhc/MjMzMWnSJNjb22PevHm4ffs2lixZIrFi9OLFC8yfPx/GxsbQ1NREXl4ebG1tW7zeX3/9FWVlZdi9e3ezx4iaGDUHg8HAgAED8PjJE4nYoM0PVFVVERkZiatXr8LNza3FY9t6w6mkZXoRBOLxTRRBzMzMkJWVBbasPEw2bMOgHy1h6bEb3seiEBwTD+9jUbD02I1BP1q+f3/4SHh7eyM1NRX79u3jqe13795hzZo1YDKZKCsrw9WrVxEUFIQePXrw6epEC0IIwsLCMHr0aCQmJuLYsWM4d+4cVFRUWjwvNzcXv//+O9zd3UVmzwqvSMoGbX6ip6cHT09PeHl54eTJkw2vi9qGU0nJ9CJIRHd8Kwb0798fFRUVWLBgAZSVlXEjNRUnEg43WpMwnr+g0ZrEkydPsHbtWowfPx76+voctxkdHQ0nJyf8999/2LZtG1avXg05OTl+X5rI8OjRI9jb2+Ovv/6CmZkZ9u3b1xA+2xKEEDg7O2Pw4MFYtWqVEDwVDlJSUpCXl0dZeQVf7L15Vw55eXmxGSU2x6pVq/D333/DysoKSkpK8PL0bLTh1Pwby0YbTs9EnsCBAweEtuFUkB0Jcf/ffQwVJB6IiopCcXExNm/e3CiAoKUPyY4dO5CRkYEFCxZwtNv88ePHcHbpJl2tAAAgAElEQVR2xrlz5/D999/jjz/+wKBBg/hyHaIIm82Gv78/XF1d0aVLF0RHR8PQ0LDV50dGRiIxMRFxcXGfVZIVd/ieNPaTEHlxhMFgICgoCCNHjoSh4WwM7NMbp3e6t2rDqZqamsA3nNKOROuQrKsRMr6+vtDX1/8smq2lD4mMjAyOHz8ORUVFzJs374upg+rq6rB3716MGjUKaWlpOHnyJGJjYyVajAoKCqCvrw9HR0eYm5sjNzeXIzF69+4dXFxcMHfuXIncf8XPpLGXWZmYqKPDJ8/alnPnzqGoqAim0/WQedQPxnqTml2vkZGRhrHeJGQe9YXJVF2Ym5sjIiJCoP7RjsSXoYLEJVlZWUhOToajoyPH5/bs2RNRUVHIzs7G8uXLm03GeePGDWhqamLt2rWwtrZGfn4+TExMJDZooa6uDp6enlBTU0NRURESEhJw8OBBdOnShSM727Ztw6tXr+Dt7S0gT9sWKysrviWNLSp+CWNj3nMztjUFBQWwsbGBxQwDHP5lTav3+HRUVECIuwssZhjAxsZGoIlnaUfiy1BB4hI/Pz/07du3ISSXU5hMJvz9/REcHAx/f/9G75WWvs8sraurCxkZGdy8eRP79+9H586d+eG6SJKZmYmJEydiw4YNcHJyQlZWFldrbLdv38bevXuxYcMGjsppiBMaGhrQ19PD2gNBKK/kLjlveWUV1vgcgpycLBYsWIDDhw+3Sa0hfrHMzg79enSDr6szx9NYUlJS8HV1Rt/u3WBnaysgD/nfkbCysuKTZ6IDFSQuKCsrw9GjR2FnZ9diMbsvsWTJEixfvhwrVqxAamoqCCE4duwYRo4cifDwcPz++++4efMmNDU1+ei9aFFdXQ13d3doamqiuroaqamp8PLyQocOnC/+EkKwYsUK9O/fH66urgLwVnQICAzEs5LXcPT04ThCjs1mw9HTBy9ev0FS0hV89913sLS0hL6+PvLz8wXkseBgsVhITEqC5/KlXGU/AN6PlDydrJGYlCSw6Dt+dSRcDwRDX09P4vYgAVSQuOLo0aOoqqqCLR96U3v37oW2tjbmzJkDPT09mJmZYcqUKcjPz4ezs7PEZuUG3k9JTpgwAb/99hs2bdoEFovFUwqYM2fO4MKFC9i3b59IZYEWBB82aIfFJ8Bq655WP+DKK6tgtXUPwuITEBQUBB0dHYSHh+PChQsoKiqCuro6Nm3ahMrKSgFfAf8IDQ3l+4ZTQcGPjsSzktcICAwUkIdtCxUkDiGEwNfXF3Pnzv3iPpjW2tPV1cXLly9x8+ZNnD17FpGRkXyxLaqUl5dj1apV0NXVRadOnZCRkYHNmzfzFL5eUVGBVatW4YcffuAoAEKcabxB27F1G7Qt7HHqSspnGcy//fZbZGdnw83NDV5eXhg7dizi4uKEdSk8IU4bTvnVkZDExKoADfvmmKtXryIvL48vub8SExNhb2+Pe/fuYfHixYiIiMClS5e4XpcSBy5fvgxbW1s8f/4cu3fvxsqVK/kyCty5cyeeP3+Oy5cv88FL8cHMzAza2tqws7WFyYZtX0wa27VLF2RmZmLYsGGf2VJQUMCWLVuwcOFCODo64vvvv8f8+fPh7e2Nfv36tcHVtY6c3FyYf2PJF1vqwwbjRMJhvthqjoULF4IQAhsbG1zPzoenk3Wrs8/zUgpFHKCCxCF+fn4YMWIEVwvuHyguLsaaNWtw9OhRTJ48GVFRURgzZgx0dHTg4OAALS0tLF68mI9etz2lpaVYs2YNgoKCoKenhwsXLvCtl1dYWAhPT0+4urpKbM+xJYYOHYqExMRGSWOb2qA9fPhwrFixAs+ePWtSkD4wYsQIXLp0CREREVi9ejVGjhyJ7du3w9HRUeSmkMV1w+mnHYl+yj0wXXNCi9nn44WYfb7NIJRW8+zZMyIjI0N+//13rs6vr68nAQEBpFu3bqR79+4kKCiI1NfXN7zPZrOJtbU1UVBQICwWi19utzlnz54lffv2JZ07dyb+/v6Nrpkf/PDDD2TAgAGkvLycr3bFnU/vM5vNJmPHjiU//PDDF4/9QElJCVm2bBkBQJhMJklPTxeIr7wgLy9P9q5cRtipcTz/7FlhR+Tl5YXqP4vFItra2kReTo5IS0kRAEReXp5oMpnEyclJop4FX4KuIXHAoUOHICcnx9XoJScnB1OmTIGdnR3mzJmD27dvw9raulEvjMFg4I8//sDYsWNhbGzcUGpAXCkuLoapqSnmzp0LJpOJ3Nxc2NnZ8bXnef78ecTGxsLb25uryDxJ5tP7zGAw4OrqitjYWERGRrYqz1u3bt1w8OBBpKSkoLa2Ftra2lixYgXevHnTFpfUJOK+4VRDQwPKysqYqqcHNXV12Nvbo6qqCmnp6fDx8ZHIaLrmoILUSurq6uDv7w9zc3N07dq11eeVl5dj3bp1mDBhAl69eoWkpCSEhISgZ8+eTR6voKCA06dPo6KiAqampqirq+PXJQgN8v/JUEeNGoXLly8jIiIC0dHRUFVV5Ws7VVVVWLlyJb799luJ2NwpDDQ1NdFBURELFizAmcgTGNunO3baW+KQ2yrstLfE2D7dcSbyBJhMJgz09Rs2iuro6IDFYsHT0xPBwcEYNWoUTp48KRJ7l8R9wykhBGlpadDS0kJFRUX77li18QhNbDhz5gwBQP75559WnxMTE0MGDhxIFBQUyLZt20hVVVWrz01ISCDS0tJk7dq13LjbZjx69IjMmjWLACALFy4kxcXFAmvLw8ODyMrKkn///VdgbUgS4eHhRFFRkXzVrw85vdOd1FyLbXLaquZaLDm9050MVulHFBUVSURERCM7Dx8+JHPnziUAyMyZM8ndu3fb6Irew2KxCAByeqc7T9N1p3ZuIgCEPkX28OFDAoCcPXuW9O/fn2zatEmo7YsSdITUSnx9faGjo4Px48d/8dgnT57gxx9/hKGhIUaMGIGcnBxs3LiRoySf+vr6DSn1IyMjeXFdKLDZbPj5+WHMmDHIzMxEdHQ0IiIiWpWZmxsePHiAHTt2YNWqVRgxYoRA2pAkIiIiYGFhAZOpusgOO8hTnrcBAwbgzJkzOHfuHHJzczFmzBjs2LEDNTU1wrqcRoj7htP09HQAoCMk0Cm7VnHnzh1cvHgRDg4OLR5XV1eHffv2YdSoUUhJScHx48cRFxfXbGntL7Fq1SqYmprC2toaOSJc++TjZKgLFy7kOBkqN6xevRrdu3eHu7u7QNuRBD7O8xbi7sK3PG9GRkbIy8uDs7MzfvnlF4wfPx5XrlwRxCV8EXHecJqWloZ+/fqhX79+VJDa2gFx4ODBg+jRowd++umnZo/5+++/oa2tjdWrV2PJkiX4999/sWDBAp4SoTIYDBw6dAhDhgyBsbExSktLubYlCOrq6uDl5dUoGaq/vz/HyVBboqmHS3x8PM6cOYM9e/ZASUmJb21JKoLM86akpARPT09kZGSga9eu0NPTg6WlJV6+fMkv91uFOG84/bB+xGazUVlZSQWpvdNSj6qiogIhISFYunRpk+lo3rx5AycnJ0ycOBGEENy4cQMHDhzg20O5Y8eOiIqKwn///YdFixaJTGXPrKws6OjoYP369XB0dOQ6GeqnfKnK540bN+Ds7Aw9PT0sWLCAD1ci2Qgrz5uamhqSk5MREBCA6OhojBgxAocOHRLq55WbzBXqixybzFwhLNhsNtLT06GlpdVQiqY9C1K7DGpgsVjEycmJMDU0iLy8fEPcP1ND47O4/6CgIMJgMD5buGWz2eT48eOkT58+RElJiXh7e5Pa2lqB+fzXX38RBoNBNm/eLLA2WkNVVRVxd3cnMjIyZMyYMeTGjRt8sVtQUED09fQIAKLSS5ksmTWd7F25jBxyW0X2rlxGlsyaTlR6KRMARFpamsTGxvKlXUnHycmJqPbu1WwAQ2t/aq7FEpVeysTJyemLbb548YIsXryYACCTJk0i2dnZQrjS//HpZ2nx99PJnhV25JDbKrJnhR1Z/P100rt7VwKAGOjrk4KCAqH69zG3b98mAEh8fDx5+fIlAUCioqLazJ+2hkGICMRtConCwkLY2do2Km2sPmxIo9LGl9Lf74zW19ODf0AATE1N0adPH8TGxjbYuXv3LpYvX474+HjMmzcPv//+O99Dmpti+/bt2LRpE8fVU/nFjRs3sHTpUhQUFMDNzQ1ubm58KZ8eEREBGxsb9O3eDV5OS79Y5dNlfwBelJYJvMqnJKDJZGJsn+4IcV/Dsy1Lj93IK36NtP9fhP8SiYmJcHBwwN27d7F69Wr88ssv6NixI89+tJaPM1dk5+SguroaMjIykJWRQZeuXTFo0CCkpKQIzZ+mCA8Ph4WFBV69eoXy8nIMGDAAcXFxEllYsjW0m9RBHz/0Wl3aeNw4VFVX4/z58wCAmpoaeHl5Ydu2bejduzdiYmIwe/ZsoV3Dhg0bkJ6eDgsLC6SlpWH48OFCabe8vBzu7u7Yt28fNDU1wWKxMG7cOL7Y/hD9ZTHDAL6uzi1OK32I/vruayYcPX1gbm4OQgjMzMz44osk0pZ53vT19ZGZmdnwnTlx4gQOHDggtO+MhoZGo4g5NpuNqKgo/PTTT9i6Zg1cXV3x5MkToXQmmyMtLQ1DhgxB9+7dG9bd2vOUXbsQJG4feg6e+xEWl4DXr1/jypUrcHBwQEFBQZv09oD3C8yHDx+GtrY2jI2NcePGDXTq1EmgbX6cDNXLyws///wz3/KZfRr91doF9w/RXwBgY2MDbW1tyc/x9RHV1dV48+YN3rx5g7Kysoa/P/4pKytDaWlpm+d5k5eXx6ZNm2Bqaorly5fD0NAQxsbG2L9/v9CFQEpKClpaWgAAVVVVyMvL48iRI3BzcxOqHx9gs9kNAQ3A+/VqgAqSRMPLQy/UfQ0ABqytrFBbVwddXV1kZGTwbXTADZ07d8aZM2egra0Na2trREZGCqSkeWlpKdauXYtDhw7xPRnqB/gR/XU9Ox92trZISEzkq2+CgBCCysrKZgWkqdebeq+6urrZNhQVFdGlSxd07twZXbp0gbS0NMrKK/ji/5t35ZBiMNCtWzf0798fqqqqn/3+8PenHaWhQ4ciLi4OkZGR+PnnnzFq1Ch4eHjA2dkZMjLCewwNGDAAysrKyM3NhYmJCUJCQrBhwwaBfIc+5cMUYmpKCnJyc1FdXQ0pBgNPHj+Gs7MzJkyYAKB9C5LEryEZ6OvjUeEd3Driy1WUUXllFcaY2aFj1+7Iyc0VaAZgTjhz5gzmzZuHXbt2Yd26dc0ex03W4ujoaDg4OODt27fYvXs3bGxs+H7dLBYLmpqaOL3THcZ6k7i2E5WUDJMN28BisQS6oZHNZuPdu3etEpGWXm8pFZSSkhK6dOnS6OeDsDT18+l7nTt3/mxNj99rSNdv38Mye3s8fvwYT548afj94sWLRmmEOnfu3KxYdenSBcHBwQgMDISamhr8/f3x9ddf8+xfa/nhhx/AZrOxbt066Ovr49q1a5g8ebLA2uNk7VpaSgqXExIwdepUgfkjyki0IInbQ49TNm7ciF27diEuLg7ffvstgKZ7YfLy8hg7Zgx0dHVhZWXV7DUUFxdjxYoVOHHiBH744QccPHhQYNMqzs7OOHsyEvdOhfBUWK2urh6DfrSE8fwFzdaoqqurQ1lZGccC8vF7ZWVlzeZtk5KSaiQOzYlIS+LSqVMngZR2cHZ2xpnIE7h/OlSg97mmpgZPnz5tJFIf//348ePPRKtjx46or69HVVUVRo4ciTlz5mDYsGGNBKxz585c+9wcW7ZswYEDB/DixQsMGzYMenp6CA4O5ns7AOcBO6v2HcTLN28RFBzcLgN2JFqQhPnQawvq6+vxww8/IC0tDadPn4bHr7+2OoIwIDCwYQqOEIKIiAisXLkSDAYD+/fvh6mpqUCnMfjdc49nZWLKVL0mxaW8vLzZc2VkZJoVidaKi5KSklCmfLghIyMDTCZTJDplH4vWB5F69OgRrl692pCJ5NN9S507d25xapAb0YqNjcXs2bNx7949HD16FJ6ennj+/DnfN1lzsnb9gfLKKjh4+iA8PgFhYWHtLmBHogWpLUNehUVJSQlGjRqFklevMKBP71b1wtYeCMKzktcICgrC5MmT4eDggNjYWJiammL//v0Cyz/3MQoKCthpb4mfTXnP0u19LAquBw5B38CA49GJgoKCyIoJvzDQ18fDgjvIPMr9tLX6IkcMHDZcYGt1RUVF+Pnnn3Hq1ClMnjwZjo6OYDAYTY62nj9//tn04Kci9envj0WruLgYvXv3xokTJ/D1119j0KBBCA4OhqWlJd+up6CgAOrq6jCZqsvR2jXwXpSttu7BqSspyMrKalcBOxId1CBupY25IS4uDi9fvoTZd/o4uG4FBxGE78Om5eXl0b17d5w7dw5GRkZC8VkQVT7r2WzEx8eLzBqfKBHw/2s1jp4+XD0cP+R5ixdgnjcVFRWcPHkSf/75J5YvXw4rKyts2LAB69ev/ywpcU1NDZ49e9akWGVlZeHPP//8TLQ6derUSKQ+rGN16dIFX3/9NQIDA/kqSO0tYIdfSKwgiWtpY07gLYLQBYQQRF6+ivPnzzdE+AgDKSkpyMvL8zX6S15eXmT+L6LGhzxv5ubmAMDR9JGjpw/C4hMQHh4ulJ76rFmzkJubi23btmHbtm2IiIiAr68vpk2b1nCMnJwcBg4ciIEDBzZrp7a29rM1rQ+/s7OzUV1djfj4eMTHxzeco6SkhIEDBzY7Ndi/f/9WTQ9+SNd0eqc7z+maTDZsQ0ZGhkitXQsSiRWk9vDQ47UXdnDdCqTm/AuX1auF3gsT9yqf4sbChQtBCIGNjQ2uZ+fD08kaRpN1mp3ajU5OheuBYDwreS30PG8dOnTAjh07YG5uDgcHB0yfPh3m5ubYs2cPevfu3SobsrKyLYqWp6cnPDw8kJWVhQcPHsDQ0BATJ07E2LFj8fjxY2RnZzc70mppalBVVRWhoaFQ7d0LhpMn8nQfjCbrQKWXMkJCQqggSQKS/NAT916Yjq4uok4cR11dPc8BJ5dZmTCeTxOtfgkzMzNoa2vDztYWJhu2QaWXMqYx1aE+bDC6KHXEm3flyCy4h8us98EvBvr6iA8IaLM1jDFjxuDKlSsIDQ3F2rVrERsbi127dsHW1pbnjqGWlhbKy8tRWVkJAwMDLF68GDExMYiPj28U7VhbW9toevDj3zk5OYiLi8OzZ88aiZacrCwWfjuVp8818H6KfRpTHTdSU3myI05ItCDp6OriTOQJiXzoiXMvrKioCI8ePcLTl/8hJvkGT9Ff0cmpKCp+CSsrKz56KLkMHToUCYmJjfK8nUg43LA9YNzYsTCev6DF7QHChMFgwMrKCoaGhli3bh3s7e0RGhqKgwcPQl1dnWu7TCYTDAYDaWlpGDNmDKysrHDw4EFcunSpUR45WVlZDBgwAAMGDGjW1qeitcjCAurDuKuB9imiunYtKERn/kkAWFlZoaj4JWKSb/BkRxQfeqkpKZjGVBOrXtjbt2/h7u6OYcOG4fr16xg+fJjYVvkUdzQ0NODj44O09HRUVVU17AdKS0+Hj4+PyN3Pnj17IigoCFeuXEFZWRmYTCbWrFmDd+/ecWWvc+fOGDFiBNLS0gC8HzGNGTMGISEhHNv6IFqTJk3CTz/9hNq6OoGsXbcHJFqQxL20cUvk5ObytReWLcCKtHV1dTh48CCGDh0KLy8vrFixAnfv3kVs7J9iW+VT0hCltdGWmDJlCv755x9s27YNvr6+GDVqFM6ePcuVLS0trQZB+jASO3PmDEpKSrj2rz2sXQsSib9KcS5t3ByCjCDkJ4QQxMTEQE1NDQ4ODpgxYwbu3LmDXbt2oUuXLmJd5ZPSdsjJyWH9+vXIzc3FuHHjYGxsjDlz5uDhw4cc2dHS0kJmZiZqamoAABYWFqivr8exY8d48k+S164FjcQL0scPPUsJeeiJQy+MxWLBwMAARkZG6Nu3L1gsFo4cOfLZXLw4VvmkiAaDBg1CbGwsTp06hfT0dIwePRpeXl6ora1t1flaWlqoqalBVlYWAKB3796YPXs2V9N2H6Ojq4tL6ZnNfo5by4e164k6OjzZESckXpCA/z30Ii9fxZiFdq166I1ZaIvIhGsi+9AT1V7YgwcPYG5uDk1NTRQXFyM2NhaXLl1qcbrTzMwMWVlZGDhsOEw2bMOgHy1h6bEb3seiEBwTD+9jUbD02I1BP1rCZMM2fDV8BLKyskTy/0IRLgwGAz/++CPy8/Nha2uL9evXg8lktqrw3vjx4yEjI9MwbQe8X3dmsVgNIsUNkrx2LWgkOnXQxzx8+BAjRoxAnz698fDhoy+GvKqo9ENp6Rvk5eW1GGHTVggraWZrKS0txY4dO7B//3507doVW7duhZWVFcelBZqq8vkh+muijo7IRH9RRJOMjAwsW7YM6enpsLW1xa5du9C9e/dmj9fQ0MD48eMbkqvW1tZCVVUVZmZm8Pb25toPcUjXJIq0G0EyMTFBSkoKbt++jYKCgoaH3q1bt1BXX//ZQ2/IkCEYO3YsRo0ahfj4eJHLdyYqSTNramrg5+cHDw8PVFVVYe3atVizZg3fElWKUmYMinhQX1+PgwcPws3NDfLy8tizZw8sLCya/A4vW7YMKSkpyM7ObnhtzZo1OHz4MIqKij4r59FaCgsLoaamRnPZcQppB1y8eJEAIOHh4Y1ef/r0KZGRkSHe3t5NnhcXF0cAEH9/f2G4yTH6enpksEo/8jbhLGGnxnH88zbhLBms0o/o6+lx3DabzSYnT54kQ4YMIVJSUsTGxoY8ffpUAFdJoXDH06dPiampKQFA9PT0SH5+/mfHBAYGEikpKfLu3buG13JycggAcvr06UbH1tfXc9R+REQEYTAYZNHMaa3+jr5NOEssZk4jDAaDREREcHfhYozEdz1ramrg7OyMb7755rM1h0OHDkFOTq7ZpIozZsyAjY0NXFxcOI7gEQZtFUGYkpLSsOdixIgRyMzMRGBgIPr27cuRHQpFkPTt2xfHjh1DXFwcHj9+DDU1Nbi7u6OysrLhGC0tLbDZbGRkZDS8NmbMGGhpaWHfvn1wdnaGJpMJBQUFSEtLQ0FBAZpMJpydnRud0xTcBOyMWWiH4xeTcPTo0fa5RtrWiihodu/eTaSkpMitW7cavV5bW0tUVFSIra1ti+e/efOG9O/fn0yfPp2w2WxBusoV3PbCFnHRCysoKCA//vgjAUDGjx9PLl26JMAro1D4R0VFBXF3dyeysrJkyJAhJD4+nhDy/jmgqKhI9uzZ03BsQUEBGTliBAFAVHr1JEtmTSd7Vy4jh9xWkb0rl5Els6YTlV7KBADR19MjBQUFLbZdUFBA9PX0/t+eMln8/XSyZ4UdOeS2iuxZYUcWf/8/e/1VVQmAZmdtJB2JFqSnT58SJSUl4uTk9Nl7UVFRBAD5559/vmgnPj6eACAHDx4UhJs8Ex4eThQVFclglX7k1M5NpOZabJNCVHMtlpzauYkMVulHFBUVWy1GL1++JCtWrCAyMjJEVVWVHD58mOPpCwpFFMjPzyd6/y8OCxYsIE+fPiW6urrE1NSUEPLxd6kvOb3TvcXv0umd7hx9l1gsFnFyciKaTCaRl5cnAIi8vDzRZDLJ8uXLCQASFBREVq5cSeTl5Ul2dragb4fIIdFBDYsXL8Zff/2FO3fuoFu3bo3e+/bbb1FeXt6q8FAAsLOzw7Fjx5CdnY2vvvpKAN7yRmFhIexsbZGYlIR+yj0xXXN8i0kz/VuRNLOqqgr79+/H9u3bQQiBm5sbVq5cCUVFRSFdFYXCfwghCAsLg4uLC6qrq6GhoYFHjx5h69atXFV4/VCig9MKrx8H7Lx79w6dOnXCsWPHMGfOHGhqakJWVhY3b978rB6URNO2eig4rl27RgCQwMDAz967ffs2AUCOHj3aantv3rwhAwYMIAYGBiI9OmCxWGT27NlERlqayMvJNeqFOTk5ERaL9UUb9fX15OjRo2TAgAFERkaGODk5keLiYiF4T6EIj1evXhFbW1sCgAAgCvLyZNHMaaTu+p8cBQfVXf+TLJo5jSgqKn5x+q45Xrx4QQCQc+fOEUIIycjIILKysmTdunX8vGSRRyJHSPX19Q09jBs3bnwWcrl69WocOXIET548gYJC6/cIXLx4Ed999x18fX3h4ODAb7f5hr+/P5YvX47q6mowGAyOQk4TExOxZs0aZGRkwNjYGLt27cLw4cMF6C2F0rYcP34cFubmUO3VEzkRAW2yb+jBgwcYNGgQLl68iOnTpwMAdu3aBTc3NyQlJWHKlCkc2xRHJDLKLiAgALdu3cKBAwc+exhXVFQgJCQES5cu5UiMgPfTfHZ2dli7di3u37/PT5f5SlFREfr06QNpaelWi1FeXh5mz54NAwMDyMrK4tq1a4iKiqJiRJF4hgwZgno2G3tXLuO5tlhiUtIXo++aoqLifRqwDh3+l59y7dq1mDRpEhYvXoyysjKu/BI3JE6Q/vvvP2zcuBHW1tbQ1tb+7P3jx4/jzZs3WLZsGVf2vby80KNHDyxdulRkU8IXFRVBVVW1Vcc+f/4cy5Ytw7hx45CXl4cTJ04gNTUVkydPFrCXFIpocOTIEfTt0Z2vtcU4pSlBkpaWxpEjR1BSUoIVK1bw5Ju4IHGCtHHjRrDZbOzcufOz9wgh+OOPP/D9999j8ODBXNnv3LkzgoKCkJiYiIMHD/LqrkB48uQJVFRUWjymvLwcHh4eGDp0KE6ePIndu3cjPz8f8+fPF7msFBSKIElNScF3X2u0aW2xpgQJeJ9Adv/+/Th8+DBOnz7Nk3/igEQJEovFQmBgILZu3YpevXp99n5aWhoyMjLg6OjIUzvTp0/HsmXL4OrqKpJTd0VFRc0KUn19PYKCgjBs2DBs374d9vb2uHv3LlatWtW+onkolP9HFGqLNSdIAHmrvRIAACAASURBVLBkyRLMmzcPdnZ2ePbsGc8+ijISI0hsNhtOTk4YO3ZsswEHvr6++OqrrzBz5kye2/Py8kLPnj1hbW0tclN3TQkSIQR//fUXxo8fDxsbG0ydOhX//vsvdu/e/VlIPIXSXhCV2mItCRKDwYC/vz/k5ORgbW0NCYxDa0BiBOnIkSO4ceMGfHx8msww/erVKxw/fhz29vaQluZtaA4AnTp1QlBQEJKSkuDn58ezPX5RXl6O0tLSRmtIt27dwnfffYdZs2ahe/fu+Pvvv3Hs2DEMGjSoDT2lUNoeUakt9iGdUVOCBLwv4R4cHIy4uDiRet7wG4kQpDdv3mDdunVYuHAhpk6d2uQxISEhIITA2tqab+1OmzYN9vb2cHV1xb179/hmlxeKiooAACoqKnjy5AksLS2hoaGBx48f49y5c0hKSoKWllYbe0mhiA6iUFusoqICDAajxWnz77//Hg4ODlizZg1u377Ni5sii0QI0pYtW1BeXg4vL68m32ez2fDz88P8+fOhrKzM17Y9PT2hrKwsMlN3HwTpxIkTGDZsGP7880/88ccfyM7OhpGREQ1YoFA+QRQqvFZUVEBRUfGL38/du3ejf//+sLCwaHVlXHFC7AUpJycHPj4+cHd3b3Yh/8KFC7h37x7PwQxN0alTJwQHB+PKlSvw9fXlu31OqK2tRWhoKAAgNDQULi4uKCwshIODA2RlZdvUNwpFVBGFCq8VFRXNTtd9TIcOHRAWFoZ//vkHW7du5cZNkUasMzUQQjBt2jQUFRUhKyur2eGukZERHj9+jIyMDIGNEBwdHXH48GFkZWVhyBD+ROy0FkIIzp07h3Xr1uHOnTuQk5PD3bt3W70XiUJp77yv8HobmUf92iRTg7u7O44cOdLqMjceHh749ddfkZycDB0uRmSiiliPkE6ePInExET8/vvvzYrRgwcPcP78eTg6Ogp0usrT0xO9evUS+tTdzZs3MXXqVBgbG2PgwIEwNTXF8OHDqRhRKBzwvrZYKew99wu1ttgHWjtC+oCbmxu0tbWxaNEivHv3jqs2RRGxFaTy8nK4uLhgzpw5LYZxBwQEoFOnThxl4eUGJSUlBAcH4+rVq/jjjz8E2hYA3L9/H6amppg4cSJKS0sRFxeHCxcuoLq6+oubYikUSmOGDh2KoKAgRMQnYMnW3SivrGrVeeWVVbDaugdh8QkICgriutw4p4IkIyODo0eP4tmzZ1i9ejVXbYoiYitIO3bswMuXL+Ht7d3sMdXV1Th06BAsLS3RsWNHgfukr68PR0dHrF+/HnfvNh21w+voqaSkBC4uLhg5ciSuXbuGoKAg/PPPP5gxYwYAztIGUSiU/7Fw4UIsXGiGYxeSOKrwejIxGeHh4TxVeOVUkID3Iurt7Y3AwEBER0dz3bZI0VZpxnnhzp07RE5Ojvzyyy8tHhceHk4AkPz8fCF5Rsjbt2/JoEGDyJQpU0h9fX1DUS6mhkajolxMDY1Wl4MghJCqqiqyZ88e0q1bN6KkpEQ8PDzIu3fvPjuuX79+X7wvFAqlaZKSkggAoq2l1aoKr106dyZDhw4llZWVPLVrYmJCvvvuO47PY7PZZPbs2URZWZm8ePGCJx9EAbEUpFmzZpGBAweS8vLyFo+bNGkS0dfXF5JX/yMxMZEAIMOHDWv4UHNbBpnNZpPjx4+TQYMGEWlpaWJvb0+eP3/e5LG1tbVESkqK+Pv7C/LyKBSJpaysjDAYDBIUFNRihdcPncns7GwiJydH1q5dy1O7s2bNInPnzuXq3OfPnxNlZWViaGhI2Gw2T360NWInSDExMQQAiYqKavG4W7duEQDk5MmTQvLsf4SHhxNZWRkyoHcvnsogX716lWhraxMAxNDQkOTl5bXY7pMnTwgAcv78eUFeHoUi0YwePZrY29t/9npzhTl/++03wmAwSHJyMtdt6unpETMzM67PP3fuHAFAAgICuLYhCojVGlJVVRVWrlyJb7/9FnPnzm3xWD8/P/Tt2xdz5swRknfviYiIgIWFBRZMm4rcYwEw1pvUbBZhGRlpGOtNQuZRX5hM1YW5uTkiIiJw+/ZtGBsbY8qUKaivr0diYiKio6MxatSoFtv+sCmWriFRKNyjpaWFtLS0z15vLh2Qi4sLJk6ciCVLlqC8vJyrNrlZQ/oYIyMj2NjYYNWqVSgsLOTaTlsjVoK0+//YO/O4mvL/j7/uLSoxQ6lQliEKKboVslVSWcY2iFS0WkNlbZRdIxQi0150iwijmUmkmimilH2tsZQt2UK03s/vD9/6WYq7nHMXzvPx6A/3nvP+vE9u930+n/P+vF5btqC4uBg7duz4rIX7w2aBV69eIS4uDu7u7mLdEFpYWAhXV1fYW1sgxteb7/0MykqKiPb1xnRrC8ycOQO9evXC+fPnweVykZubCzMzM77i3L9/HwCYLjsGBhEwNjbGpUuXUFVVxdfxcnJyiI2NxcOHD7Fs2TKhxhS1IAFAYGAgNDQ04ODggNraWpFiSQqZKUj37t3Dxo0b4enpCV1dXRQUFMDDwwNGHA4UFRUhJycHRUVFGHE4+Pnnn/Hu3Tu4ubmJNcdZ7u7ooNoGIUs9BBZXZLPZ2L3UA+1VVNC160+4ceMG7OzsBIrz4MEDKCgoQFVVVdDUGRgY/oexsTFqampw8eJFvs/p3r07AgICsGvXLqSlpQk8JhUFqVWrVoiLi0Nubi5+++03kWJJCpkpSIsXL0br1q1hZ2cHC3NzcDgcHE7cD712KvCfPRMRPp7wnz0Teu1UcPPKZfB4PDjY24tt+pqfn4+MzEwEzHMRyQY5cJE7ior+w7Vr1wQ+v952gtGrY2AQHgMDAzRr1qzRZbsvMXfuXFhYWMDZ2Rnl5eUCnUtFQQKAgQMHwsfHB2vWrMG5c+dEjiduPvdpkELS0tJw8OBBzJ07F6ampmiv0gZJ/r74efCARp/P1NbWITn7DJbsjIS+vj4iIyNF2iPADzExMdDSUKfUBtnQ0FCgc/lximVgYPgyCgoK0NfXF7ggsdlsREVFoU+fPvD09ERUVBTf51JVkADAz88PKSkpsLe3R0FBAWVxxYHUz5BqamqwYMEC9OjRA7t378akYaa4uDdEqGYBOsk5fRrDOfoStUH+klMsAwMD/zTV2PA1OnfujG3btiE6OhrJycl8n/fu3TvKCkezZs0QFxeHe/fuYenSpZTEFBdSX5CCg4Nx48YNFN+7B3trC0QL0Sxgb20BV1dXWpfvpMEGmSlIDAzUYGxsjOvXr+P169cCn+vk5ITRo0fDzc0Nz549++rxNTU1qKmpoXQmo6uri82bN2PXrl04duwYZXHpRqoL0qNHj7B69WpoaWpCU01V6GaBkKUeaK/SBu40NTlIgw0yIYSRDWJgoAhjY2MQQlBQUCDwuSwWC+Hh4aiursa8efO+evzX3GKFZd68ebC2toaTkxNfhVEakOqCtGzZMsjJyaHk/n2RmwUC5jsjIzNTqA/Y15AGG+SXL1/i7du3zAyJgYECevbsiRYtWgi1bAcA7du3R0hICPbv34/9+/d/8di3b99/b1BdkFgsFqKiolBdXY1Zs2aByIDTkNQWpFOnTmHv3r3o168f5c0CdCBpG+QPrcsZGBhEQ15eHhwOR+iCBAC2traYPHky5s6di8ePHzd5HF0FCQA6dOiA0NBQJCUlYc+ePZTHpxqpLEh1dXWYP38+jIyM8Kr8pcSbBfhB0jbITEFiYKAWYRsb6mGxWAgJCYG8vDzc3NyanKHUFyQlJSWhx/oSkyZNgqOjIzw8PHD37l1axqAKqSxIYWFhuHDhAnbu3IkrV69JvFmAHyRtg/zgwQOwWCy0b99epPEZGBjeY2xsjDt37uDp06dCx2jbti3Cw8Px559/IjY2ttFj6Jwh1bNjxw6oqKjA0dERdXWi3TTTidQVpGfPnmHlypVwcnKCsbGxxJsF+MXQ0BDmZmZYsjOSb3OvT6l4V4mlO6NgbmYm1B4kdXV1NG/eXKixGRgYPsbY2BgARJolAe915mbMmIGFCxeiuLj4s/fFUZB+/PFH7NmzB9nZ2diyZQtt44iK1BWkX3/9FXV1dfD395eKZgFBeG+D/AJzA4LFboPMtHwzMFBL165doaKiInJBAoBt27bhhx9+gIuLC3g83kfSZ9ZWVgDeP4c24nDg4eFBS/PV0KFDsWTJEvj6+uLChQuUx6cCqVJqyM/PR1hYGLZt2wYNDQ0Akm8WEIR6G+Tp06cDAEKWevDVGVjxrhJzA4IRl5oOLpcrlA0y0/LNwEAtLBYLRkZGlBSk1q1bIzIyEtbW1ujVsydu3roFTXU1WBoZYPoQZ/yg3AKvKt7iYuF/OJy4Hzt37oS5mRnCwsOFtkVvjLVr1yI1NRX29vY4d+4cFBWF61ymC6kpSDweDx4eHujduzfmzp3b8PpAU1McTtyP2to6kRob6psFJkyxpSLdJpk2bRoIIXB1dcWpy9cRMN8ZYwcPbFLi6Gh2DpbujMKj5y9EskG+f/8+TE1NRU2fgYHhA4yNjREREQFCiMgakU+fPkWzZvJ4V/5SYtJnCgoKiIuLg5GREXx8fBAYGEhJXKqQmoK0d+9e5OTkICMjA/Ly/5+Wk5MTdu7cieTsM5hgNkjo+MI2CwiDnZ0dTExM4OLsjEkr1qN9W1WMMO4Hg+5d8WNLZZS/qcDFwts4mX8RD56UwcLcHKlhYSLdCTFLdgwM1GNsbIwNGzbg/v376Nixo9Bx6n3SpltbYPdXVk7qpc+s+nMwNyAY06dPByEEdnZ2Qo//IXp6evD394eXlxdGjx6N4cOHUxKXClhECnZLlZeXo0ePHrCwsEBCQsJn71uYm+Ne4S1c3Bsi1ObYineVMHCYi87deyA9I4OKlPkiPj4e06dPh6OjI65dvYrLV66gqqoKCgoK6KOnhwEDB8LJyUngBoZPqaqqgqKiIqKjozFz5kxqkmdgYMDDhw+hqamJpKQkTJw4UagYhYWFMDAwwKRhpoj29RboGTaPx4PTuq04+M9pXLp0ibLlOx6PhxEjRuDmzZu4fPky2rRpQ0lcUZGKguTl5YXQ0FDcvHmz0ecgRUVF6KOnh1/MBiHWb7FU/Ifyw5gxY/DixQucOnXqo3yobqq4c+cOunbtihMnTsDS0pLS2AwM3zuamppwdHSEv7+/UOdbmJujuOgWLuyRrhvqkpIS6OvrY+TIkbSLT/OLxLvsrl69ih07dsDX17fJh/L3798HARCfmo6Z67by3VZd8a4SM9dtRVxqOiIjI8VajJ4+fYrU1NSGBod66OjwY5xiGRjoQ5QNslT5pNEhfdaxY0eEhIQgISGh0ZUpSSDRgkQIgYeHB7p27QpPT89Gj0lLS8OoUaMwdOhQREZFIemf0zBwmItDmdlNqiLU1tbhUGY2ek9zx/6T/4rULCAsBw4cACEEkydPpn0sRqWBgYE+jI2Nce7cOaH2L9Lhk0Yl06ZNw9SpUzF37lyUlJRQGlsYJNrUcPDgQWRkZODvv/+GgoLCZ+8fO3YM48ePh4WFBQ4dOgRFRUUMGTIE7m5umLRiPTTV1TCcY9Bks4B2t26oK3sKXV1dsV8bl8uFlZUV1NTUaB/rwYMHaNWqFX744Qfax2Jg+N4wNjZGeXk5ioqK0KNHD4HOlQaftK8REhKCPn36YObMmThx4gRt+zT5QWIjV1RUwMvLC2PHjsXIkSM/ez85ORnjxo2DlZUVDh8+3NAvr62tjfSMDOTn52PCFFtce/ICPqGxcN0YBJ/QWFx78gITptgiPz8f165fh56eHlxdXVFbWyu2a7t79y5OnTr12XIdXTAddgwM9GFkZARAOMUGafBJ+xpt2rRBbGws0tPTsX37dsrjC4LEZkgbN25EWVkZgoKCPnvv8OHDsLW1xc8//4yEhIRG5XAMDQ0/6k5rqlkgPDwcAwYMwPbt2+Ht7U3tRTRBQkICWrRogXHjxollPMa6nIGBPlRUVNCtWzfk5eUJdJNJp08a1bOY4cOHY9GiRVixYgVGjBgBPRoFBL6ERGZIRUVF2LJlC5YuXYquXbt+9F5iYiImT56MCRMmYN++fXxrszX1H2RiYoIFCxbAz88Pd+7cETl3foiPj8e4cePQsmVLsYzHzJAYGOhFmMYGWZM+8/f3R7du3WBvb4+qqipaxvgaEilIixYtQrt27bB8+fKPXo+Pj294yMblctGsWTNKxlu/fj3atm2L2bNn025SdenSJVy5coWyTWz8wMgGMTDQi7GxMc6fPy/w0r8sSZ8pKiqCy+Xi2rVrWLVqFW3jfAmxF6Q///wTf/31F4KCgj5St42NjYWDgwMcHR0RGxv7kVqDqLRs2RIhISE4fvw4uFwuZXEbIz4+HqqqqrC2tqZ1nHp4PB4zQ2JgoBljY2O8e/cOV69eFeg8SfukCUrfvn2xbt06BAQE4N9//6V1rMYQa0GqrKzEwoULMWLECEyYMKHh9YiICDg5OcHZ2RmRkZGQkxOtI6UxRo8eDVtbW3h6eorkb/IleDweEhISMHnyZMpmd1+jrKwMtbW1TEFiYKARQ0NDsNlsgZftJO2TJgyLFy/G4MGD4ejoiPLyctrH+xCxFqStW7eiuLgYO3bsaBAq3L17N9zc3DBnzhyEhobS2nK4fft21NXVwcvLi5b4p06dQnFxsdiX6wBmDxIDA50oKyujV69eAhckSfukCYOcnBz27NmD58+fY+HChbSP9yFiK0jFxcXYsGEDFi1a1LAvaMeOHZg7dy4WLlyInTt30t7/rqGhgS1btmDv3r04fvw45fHj4+PRqVMnDBokvAisoNQXJOYZEgMDvQir2FDvkzZHAj5pwtKlSxcEBwcjNjYWSUlJTeZGNbRUgMYS9fb2RuvWreHr6wvg/Wxp4cKFWLJkCYKCgkSWducXJycnmJubY/bs2aioqKAsbnV1NRITEzFt2jSxbiy7f/8+5OXloa6uLrYxGRi+R4yNjXH58mVUVgo209HW1sbOnTsRd+wkZqzdIhPSZwDg6OiIiRMnwt3dHQ8fPvzIVFBRURFycnJQVFSk1lSQUEB+fj6ZP38+4RgaEgUFBQKAKCgoEI6hIZk/fz7ZvXs3AUD27t1LCCFk48aNBADx8fEhPB6PihQE4tatW0RBQYEsXryYspjJyckEALl06RJlMfnh119/JR07dhTrmAwM3yPnzp0jAEhOTo5A5/F4PDJu3DjCYrGInBybdNXsQA76ryTVWX8RXs6xz36qs/4iB/1Xks7tNIgcm01CQ0NpuqKvU1ZWRtq2bUvaqqoSAERTXY3MGGVJAhfOIhE+niRw4SwyY5Ql0VRXIwCIuZkZKSwsFHo8kVrZioqK4O7mhozMzA/cD2d+7n74pAxt2rRG//79sXbtWqxatQqrV6+Gn5+f2GZGH9K9e3esWrUKK1euxLRp0yhZl+VyudDT00OfPn0oyJB/mJZvBgbx0KdPHzRv3hx5eXkYMIB/bbpNmzbhjz/+gLy8PA4fPozArVv5kj4bPMgUL96+Q2ZmJtzd3Wm8sqY5fvw4Xr9+DY3WP4jHVFDYSsblcomSkhLpqtmBJPn7frHaJ/n7kp8025PmzZoRAGTDhg1CV1CqqK6uJvr6+qRfv36kpqZGpFivX78mSkpKxN/fn6Ls+MfS0pJMmjRJ7OMyMHyPmJiYEAcHB76PT01NJWw2mwAgmzdvbni9flXJiMP5aFXJiMMh8+fPJ/n5+YSQ99+zAEhiYiLl1/I1uFwuYbFYxMFmOHmdfqTR7/dPf16nHyEONsMJi8UiXC5X4DGF8kOqdz+0t7ZAyFfcD+upeFeJ2Zt2IP54BuLi4sTaidYUubm5GDBgAAICArB48WKh43C5XNjb2+POnTvo0qULdQnyQa9evWBlZYVt27aJdVwGhu+R+fPnIy0tDTdu3PjqsXfv3oWhoSHevXsHExMTpKenN7mlpSk5IPI/x4DMzExcvXoVGhoaIl8DP0jKVFDgp++FhYVwdXWFvbUFon29+fb4UFZSRKzfYthbW8DV1RVFRUWCDk05H8oK3b59W+g4XC4XgwYNEnsxAhjZIAYGcWJsbIybN2827M9pqtPs3bt3mDhxImpqatCsWTPs2bPni/srm/rCZ7FY2L17N9hsNtzd3WlXmqlnlrs7Oqi2QchSD4GbtNhsNkKWeqC9Shu4u7kJdq5AR0NyidLF+vXroaamJrSsUFlZGY4fPy42Ze8Pef36NV69esU8Q2JgEBPKysoAgP4mJk12mhFCMGvWLFy9ehVv3rxBSEgIOnfuLPSYampqCAsLw9GjR7F3716qLqVJJGkqKFBFkWb3Q2Fp2bIldu/ejRMnTiAuLk7g8xMTE8FiscRixPcpzKZYBgbxUFRUBAtzc0yePBkaKq0xQLsT/GfPRISPJ/xnz4ReOxUcTtwPDoeDnrq62Lt3L+Tl5TF58mRKblbHjx8PBwcHLFiwgHYjPUmaCgrUZUdHouLYefw1Ro0ahalTp8LT0xM2NjYCmerFx8fD2toabdu2pTHDxmEKEgMD/cTHx8PV1RXtVdrw1WnmuS0Ucmw2mjdvjt9//52yTuLt27cjPT0dLi4uSE1Npa1DWZKmggLNkGTB/VBYtm3bBh6PJ5Cs0J07d3D69GmJNWjUF6QOHTpIZHwGhm+d+gauScNMcXFvCCaYDWry+09eXg4TzAbhakIYpo4wQ3l5OY4dO0ZZLm3atEFkZCROnDiB0NBQyuJ+iiRNBQUqSLLgfigsGhoa2Lp1K+Li4pCamsrXOeI24vuUBw8eQFVVFUpKShIZn4HhW0YaG7isra0xa9YsLF68GP/9R42txYfQaSrID3wXJEknKg5mzpwJCwsLvmSFCCHgcrkYP358w4NOccM4xTIw0Ie0NnBt3rwZ6urqcHJyovz7U9Kmgnz/liWdqDhgsVgIDQ3F48ePv2pQdenSJVy7dk2i+6mYlm8GBnqQ5gauVq1aITo6GtnZ2di+fTtlceuRpKmgQNVAltwPhUVbWxurVq1CUFAQ8vPzmzyu3ojPyspKjNl9DCMbxMBAD5LsNOOHYcOGYdGiRVixYgWuX79OaWxJmgoKVJBkzf1QWLy9vdGnTx+4ubk1allcb8Q3ZcoUsRnxNQazZMfAQA+y0MC1YcMGdOnSBTNmzBDYWv1LSNJUUKCCJIvuh8LQrFkzhIeH4+LFiwgKCvrs/ezsbJSUlEhkM2w9NTU1KC0tZQoSAwMNyEIDl5KSEvbs2YP8/Hxs2rSJsriSNBUUqCDJovuhsBgbG2PBggVYtWrVZ7JCXC4XnTt3xkAJzvAePnwIQghTkBgYKEaWGrhMTEywfPlyrFmzBhcuXKAsbr2p4FwxmwoK3FEgqUQlwbp166Curo5Zs2Y1yApVV1fjwIEDYjfi+9Qcq0uXLmCzWFiy2Js6cywGBgaZa+Dy8/NDz549MWPGDFRVVVESU1tbG5GRkYhLTcfMdYKZCjqJYCoo8G/ow0Sd1m0VW6KSoF5WKC0trUFD6tixY3jx4oXYluvqJUs4HA4OJ+6HXjuVBsmSLQvcYdRFs0GyxMLcXCpEaxkYZB1ZauBSUFDAnj17cP36daxdu5ayuNOmTYOXlxfij2egj/1sHMrMbrJ/oLa2Docys2HgMBcH/zkNLpcrlB+SUPYTwMdyGgHznTF28MAm5TSOZudg6c4oPHr+QnjjJgliZ2eH48eP4/r16/Dw8MC1a9dw6dIl2sf98He8eb4LX+ZYsvo7ZmCQJjw8PHA4cT/uJMWI1NhQW1uHn36ZiQlTbBEcHExhhp+zYcMG+Pn54fTp0+jfv7/I8V6+fInevXtDW1sbb99W4Ny5fHRQU4WlUb8mTQUtzM0RGhYm9IRD6IIEfO4Y25j7YerZcyh9/lLkRCXJkydP0LNnT1haWiI5ORmrVq3CsmXLaB1TWM+puQHBiEtNlxrPKQYGWaSgoAAcDgdJ/r6YYDZI6DiHMrMxacV65Ofn0/7MvLa2FqampigvL8f58+fRooVoz8CcnZ2RlJSEq1evYuPGjThw4ACmTJmC3LNncfnKFVRVVUFBQQF99PQwYOBAODk5iXyNIhWkegoKChAdHY0zOTmfJVr29ClatWqFy5cvizqMRImJiWnoCrx7965IcvJfQ1LmWAwMDP+Phbk57hXewsW9IUJtjq14VwkDh7no3L0H0jMyaMjwc27cuIF+/fph9uzZjXYI80tqaipsbGwQFhaG6dOno3379vDw8MD69esbjmnKVFAUKClIn/JhoomJibC1tcWNGzego6ND9VBigxACNTU1vHnzBs+ePaNVLsjC3BzFRbdwYY/s/CEwMHxrFBUVQV9fX+ZuDIOCguDl5YWMjAyYmZkJfP6rV6+gp6cHHR0dHD9+HHv37sWMGTPw33//oWvXrtQn/AG0tH18+B83duxYtG7dGnv27KFjKLFRVlaGFy9egMfjwc/Pj7ZxpFmyhIHhe0JWG7gWLlyIoUOHwsnJCa9fvxb4/KVLl+L58+cIDw8Hi8VCREQEhg8fTnsxAmgqSB+iqKgIW1tb7N27V6qEVAUlMTERbDYby5cvx7Zt23Du3DlaxpF2yRIGhu+JadOmIS4uDgczT6G3nbtYOs1Ehc1mIzo6GmVlZVi8eLFA56anpyM0NBQBAQHo0qULbt68iaysLLiJyeGbliW7Tzl9+jQGDRqEkydPwsLCgu7haGHgwIFo27YtDh06BGNjY7BYLOTm5lIuHWTE4UCvnQqifQX7IDXGzLVbcO3JC+TRVDwZGL4XbG1tcfjQIdTU1qKDWltYGvWlrdOMKkJDQzF79mykpKTAxsbmq8e/efMG+vr66NSpE9LT08Fms7FkyRJERUXh4cOHUFBQoD1nsezsHDhwILS1tREbGyuO4Sjn9u3bOHPmDOzs7NCsWTNERETg0qVLIj00bApZkCxhYPieSE5ORmJiInbu2oX8/Hz0NTZB/PEM+PweA9eNknI9vQAAIABJREFUQfAJjcW1Jy8wYYot8vPzcTI9XeLFCADc3d1hZWUFFxcXvHjx4qvH+/j44PHjx4iIiACbzUZ1dTViY2Ph6OgolmIEiKkgsVgsODo6IikpCW/evBHHkJSSkJAAZWVljB07FgBgZGSEhQsXYtWqVZSaZMmSZAkDw/fAkydP4OrqijFjxsDNzQ2GhoawsbGBnLw83lVWoq6uDpWVlcg7dw7BwcFSJYfGYrEQGRmJiooKLFiw4IvHZmVlITg4GBs3bmwopsnJySgrK4OLi4s40gUgpoIEAA4ODqioqMChQ4fENSQlNGXEt3btWmhoaHwkKyQqsiZZwsDwLUMIgaurKwghiIiIAIvFAgAUFxdDS0sLLBZL6v+2tLS0EBwcjLi4uCa/e9++fQtnZ2eYmprCw8Oj4fWIiAgMGDAAemK0CRLbb7NLly4wMzOTuWW7ixcv4vr1659JBbVs2RK///47Tp48SWkHoSxJljAwfMtEREQgOTkZERER0NDQaHi9pKQEnTp1kmBmgmFvb4/x48dj9uzZePLkyWfv+/n5oaSkBFFRUZCTe69KUVxcjNTUVLE1M9Qj1vLu6OiIjIwMFBcXi3NYkeByuWjbti0sLS0/e8/GxgZ2dnbw8vJq9D9aGL4XzykGBmmmqKgInp6ecHV1bViqr6ekpAQdO3aUUGaCw2Kx8Pvvv4MQgjlz5ny0onPmzBkEBQVh7dq16N69e8PrUVFRUFZWxpQpU8Saq1gL0qRJk6CkpIS4uDhxDis0/Bjx1Tc2eHp6UjLm9OnTvwvPKQYGaaW2thYODg7Q0NBAYGDgZ+8XFxfL1AwJADQ0NLB7924cOnQI8fHxAICcnByMHDkSysot4OfnBzk5OSgqKsKIY4itW7dixIgRaNmypVjzFGtBatWqFSZOnIjY2FjKnrvQyb///osHDx58UdlbXV0dgYGBiI+PR0pKitBjEULwxx9/wN7eHnJycvDeEfbNe04xMEgj/v7+yM3NRVxcHFq1avXRe7W1tXj48KFMzZDqmTRpEuzs7DBnzhwMGmQKU1NTKLCBiUMGNDgI+M+eCb12qlBuLo/Dhw+L3UFA7E/kHB0dcevWLeTm5op7aIGJj49Hly5dvmrE5+joCEtLS8yZM0eoLsIrV67AysoK48ePR7du3ZCcnIzSl6++C88pBgZpIi8vD2vWrIGPj0+jf/cPHz4Ej8eTyYIEAMOGDcPbigo8uP0fkvx9UfIHF9G+i7Fo6gQ4/2yNRVMnINp3MUr+4CLJ3xf3Cm9BX18fCQkJYslP7AXJwsICmpqaUt/cUFVVhQMHDsDOzq6hu6Yp6tdonzx5IpCs0LNnzzBv3jwYGBjg3r17SE5OxrFjxzBy5EiZlCxhYJBl3r59CwcHB/Tt27fJv+OSkhIAkLklO+D9Dfbs2bMxzcocV+LDMMFsUJPWGvLycphgNggX94Zg0jBTTJ8+vWGpj07EXpDk5ORgb2+Pffv2UeZuSAfHjh3Dy5cv+bZw6NatG1avXo3t27cjLy/vi8fW1NRgx44d6N69O+Li4hAQEIArV65gzJgxDcWvQbLkn9MwcJgrE5IlDAyyzJIlS1BcXIy4uLgmnxnXFyRZmyEVFhbC1dUV9tYWiPH15lsnU1lJEdG+3rC3toCrqyvty3dikQ76lOvXr6NXr144ePAgfvnlF3EPzxe2tra4efOmQD71tbW1MDY2BiEEeXl5jX6ojx07Bi8vL9y4cQNubm4NNulNwY/n1PHcAjx+9lxqJEsYGGSNlJQUjBo1Cjt37sS8efOaPC4gIAAbN27Ey5cvxZid6MiKg4BEdnX17NkTxsbGUrts9+rVKxw9elRggzt5eXlERETg8uXLn3Xn3Lx5E2PGjMHIkSOhrq6OgoIChIaGfrEYAe8Vh9MzMpCfn48JU2xx7ckL+ITGfiRZwhnwfq17a2AgU4wYGATk6dOncHZ2hrW1NebOnfvFY2Wt5RuQLQcBiW0zdnR0REpKCmX7d6jkyJEjqKysxNSpUwU+l8PhYNGiRVi9ejWKiorw8uVLeHl5QU9PD1evXsXBgweRkZGBvn37ChTX0NAQwcHByDt3DpWfSJYcOXIE7dq1Q2RkpMD5MjB8zxBCMGvWLFRXVyMqKuqrz4uLi4tlriDJkoOAxArStGnTwGKxxNa9IQhcLhdDhw4V+sFlvazQmDFj0L17d4SFhWHNmjW4fv06fvnll69+6PnhQ8kSeXl5zJgxA3FxcXj37p3IsRkYvhf27NmDQ4cOISwsDB06dPjq8bKm0gAAOadPYzhHv8kGBn6Rl5fDcI4BzuTkUJTZ50isIKmqqmLMmDFSt2xXWlqKtLQ0gZfrPiQ3NxdsNhs3b96Ejo4Obt26BR8fHygqCjdd5gcXFxe8fPkShw8fpm0MBoZviTt37sDDwwMzZszg+1m2LC7ZyZKDgESVAR0dHXH+/HlcvnxZkml8xP79+yEnJ4dJkyYJfO7t27cxceJEWFhYoF27drC2tsb169chLy9PQ6Yf0717dwwdOpRZtmNg4IO6ujo4OjpCRUUF27dv5+uct2/f4unTpzJVkGTNQUCiBWnUqFFQVVWVuL35h7/c+Ph42NjYQFVVle/zX79+jRUrVqBnz57Iy8sDl8vFqVOnsHfvXrBYLCxatIiOtD/DxcUF6enplFpiMDB8i2zevLnhb/THH3/k65z79+8DkK09SIWFhWCzWDLjICDRgtS8efOG/Ta1tbViG7egoAAeHh4w4nCgqKjYoOHUp48ezp49+1Vlhnp4PB6io6PRo0cPbN++HStWrMCNGzcaNtOqqakhMDAQCQkJIskK8cukSZPwww8/MLblDAxf4Pz58/Dz88PSpUsxZMgQvs+rF4WWlRlSXV0dnJ2doaikKDMOAhI385gxYwYeP36MtLQ02scqKiqChbk5OBwODifuh147lY80nDid2kNDpTV8fHy+quF06tQpmJiYwNnZGWZmZrhx4wZWr179kWcS8N4HasSIEZg9ezbt5oQtWrSAnZ0dYmJixFrgGRhkhXfv3sHe3h69evXC2rVrBTq3flOslpYWHalRTnBwMHJycmBjM1JmHAQkXpA4HA569epFe3NDfHw89PX1ca/wFpL8fXEnKUYoDafi4mJMmzYNgwcPBgBkZ2cjISGhyWl8vaxQWVkZfH19ab1G4P2y3YMHD5Camkr7WAwMssaKFSvw33//gcvlonnz5gKdW1JSAg0NDbHZeYtCUVERfHx8MH/+fPz6668y4yAg8YJUb29+5MgRlJeX0zJGfHw87O3tMWmYKS7uDRFKw6miogKrVq2Crq4uMjMzERUVhdzcXAwaNOir43ft2hVr1qzBjh07viorJCocDgcGBgZMcwMDwyekpaVh+/bt+O2339C7d2+Bz5eVPUg8Hg8uLi5o164d/P39YWhoCHMzMyzZGSn1DgISkQ76lAcPHqBjx44ICwuDq6srpbELCwthYGCAScNMEe3rLdDDOB6PB6d1W5GYnoU2Kip4/vw5vLy84OPj85ks/deora2FiYkJ6urqcO7cuSa1sqggODgYXl5euH///kdOlwwM3yvPnz+Hvr4+dHV1cfz4caEeyltbW6Nly5ZISkqiIUPqCAkJwbx583Dy5ElYWFgAeD9j0tfXF+l78OA/p3Hp0iVa1WAkPkMCAE1NTVhaWtKybDfL3R0dVNsgZKmHwB9CNpuNkKUe0GjzI3g8Hq5fvw5/f3+BixHwfvNqeHg4rly5gq1btwp8viBMnz4dcnJyEu9eZGCQBgghmDt3LioqKhATEyN0h5gszJDu3r2LpUuXYtasWQ3FCHgvQSYLDgJSUZCA980N2dnZlLYsU6XhFLhoFp48eSKyoCKHw4GnpyfWrFlDq2quiooKJk6ciMjISJkwQmRgoJOEhATs378fu3fvFrohgRAi9SoNhBC4ublBRUUFAQEBn70vCw4CUrFkB7zfdKahoQFvb2+sXr2akpgeHh44ciARtw9GiySbUVtbh59+mYkJU2wRHBwsUk4VFRXQ09ND165dkZaWRomMUGOcPHkSlpaWyM7O5us5FwPDt0hxcTH09fUxevRocLlcoeO8ePECKioqSExMxOTJkynMkDrCw8Ph7u6OY8eOwdrausnjPnQQ0FBpA+v+nM8cBE7mX8SDJ2VidxCQmoIEAM7OzsjMzMR///1HyRe1EYcDvXYqiPZdLHKsmWu34NqTF8g7d07kWMePH4e1tTWioqJo61jh8XjQ1tbGsGHDmH1JDN8lPB4PlpaWKCwsxOXLl9G6dWuhY128eBF9+/ZFTk4OBgwQTaSUDkpKStC7d29MnjyZ74am+pvWbl274v6DB6iqqoKCggL66OlhwMCBcHJyorWBoTGkZskOeL9sd+fOHWRnZ1MST1o1nKysrGBvbw9vb2+UlpZSEvNT2Gw2nJ2dkZiYiFevXtEyBgODNBMUFISMjAzExsaKVIwA6XaKrVcsb9WqlUDPp1+/fg0ASM/I+MxBIDg4WOzFCJCygjRkyBB06dKFkuYGaddwCgwMBJvNblJWiIpxZs6cicrKSuzfv1/kWAwMssTly5fh4+MDLy+vjx7uC0tJSQnk5eWlsmt1z549SElJQWhoqECFNzs7G506dWoosnTJAQmC5DP4ADabDQcHByQmJopso8Bms6GgoCC1Gk5qamoICgrCvn378PfffzcpZ2TE4cDDw0MoUywtLS1YW1sjIiKCkpwZGKSJpm7aqqqqMH36dPTo0QMbNmygZKzi4mJoaWlBTk40CweqefjwIRYtWgR7e3uMGTNGoHOzsrIaNvhLC1JVkID3CuCvX7/GkSNHRI6l17u3VGs42dvbY9CgQZg8aVKTckZ67VRwOHE/OBzOV+WMGsPV1RW5ubm4QqNkPAODOOD3pm3lypW4efMm4uLiKLN8kUbbCUII5syZAwUFBb4Vy+upqKhAQUGB1BUk+n0RBERbWxumpqaIjY0Vuc1woKkpDifuR21tnchddifzL2LCFFuR8vmUhIQE5OfnQ/3HHxDktxg/Dx7QaJ61tXVIzj6DJTsjoa+vj8jISL5/N2PGjIGamhoiIyMRFBREaf4MDOLgw64wTXU1WBoZYPqQmfhBuQVeVbzFxcL/cDhxP3bu3Il+/fri/PkLCAgIgIGBAWU5SOMepH379uHo0aM4dOgQVFRUBDo3NzcXtbW1AonLigOpK0jA++aGOXPm4OHDh3y5ODaFk5MTdu7cieTsM5hgJnzrMx0aTvVyRvbWFghZ6vHFfVL1ckZW/TmYGxCM6dOngxDCl4lg8+bN4ejoiOjoaPz2228yocPFwFBPfHw8XF1d0V6lDZL8fb960+a5PRTycnIifW80RklJiVRtnygtLYWHhwemTJmCCRMmCHx+VlYWWrdujV69etGQnfBI3ZIdAEyZMgXNmjUTad8AAKnVcCosLISrqyvsrS0Q7evN96ZdZSVFRPt6w97aAq6urnwv37m4uOD58+f4448/REmbgUGsCKNBeTU+DFNHmMHBwQHx8fGU5FFXV9cgbyYtzJ8/HywWCzt37hTq/Pr9idLQyPAh0pXN/2jdujXGjRuH2NhYkZUGwsLD8ej5C8wNCBa4c43H42FuQDAePX+BsPBwkfL4ECrkjNqrtIG7mxtf5/Ts2ROmpqaM4CqDzCDKTVuMEDdtX6K0tBQ1NTVS0/J98OBBHDx4EDt37oSamprA59fW1iInJ0fqlusAKS1IwPtlu6tXr+L8+fMixZE2DSeq5IwC5jsjIzOT7+47FxcXnDhxAvfu3RNqTAYGcSLum7YvUb8HSRpmSE+fPsW8efMwYcIETJkyRagYFy9exJs3b6SuoQGQ4oJkZWUFDQ0NSvYkSZOGU0xMDLQ01PHzYNF2e48dPBCa6mp8qzBMmTIFysrKjGoDg9QjqZu2ppAmp9iFCxeipqYGISEhQqvZZGdnQ0FBAUZGRhRnJzpS2dQAvFfHnj59Ovbs2YMtW7aIbNdgZ2cHExMTuLu5YdKK9dBUV8NwjsEXNZxSadBwyjl9GsM5+iJ1/QHv18yHcwxwJieHr+NbtmyJqVOnIjo6Gr6+vlK3n4KBoR46btpEef5bUlICZWVltGnTRqR8ROXo0aOIj4/Hnj170K5dO6HjZGdnw8TERCobnKR2hgS8X7Z7+vQpUlJSKImnra2N9IwM5OfnY8IUW1x78gI+obFw3RiEJcHhyLx6ExOm2CI/Px8n09NpERSUpJyRi4sLiouLxWIXz8AgLJK6aWuK+j1IdAkh88OLFy8we/ZsjB49Gvb29kLHIYRI5YbYeqS6IOnr68PAwIByXx9DQ0MEBwcj79y5Bg2nPvr6sLEZSauGk6TljPr374/evXszzQ0MUo20aVBKwx4kLy8vvH37FqGhoSIVxv/++w+lpaVMQRKWGTNmIDk5Gc+fP6dtDDabDR0dHdy8eZO2MerHkaScEYvFgouLC44cOYKnT59SkgMDA5VI+qatMSTtg5SSkoKYmBgEBgZCU1NTpFhZWVlgsVgwNTWlKDtqkfqCZGdnh7q6Ouzbt4/WcXR1dWkvSIDk5YwcHBwAAHv37qUkBwYGKpH0TVtjSHKGVF5eDnd3d1hZWVGyMT87Oxt9+vQRWf2cLqS+IGloaMDGxoZ2O24dHR08fvwY5eXltI4z0NQUaecuNtnlxy/1ckYDBg4U6Ly2bdti/PjxjJssg9Qi6Zu2D6mqqkJpaanEZkhLlizBy5cvER4eTskzrOzsbKldrgNkoCAB75ftzp49S+sMRldXFwBonyU5OTnhwZMyJGefESmOKHJGLi4uuHr1KnJzc0XKgYGBDqi8aTuRVwDdnj2FjvHgwQMAkmn5TktLQ3h4ODZv3kxJQSwtLcWtW7ekckNsPTJRkH7++We0bt2akj1JTdGjRw8AwI0bN2gbA6BOzshrWxiUW7RoMNkSBEtLS3Ts2JGxpWCQSqi8aXv09Dni4uJgYWGBxMREVFdXCxRDUnuQ3rx5Azc3N5ibm8Pd3Z2SmKdOnQIAZoYkKoqKirC1tcXevXspM8j7lJYtW0JLS0ssz5FElTOaExCMJ+WvoNuzJ8zMzLBgwQJUVFTwHUNOTg7Ozs7Yt28f3rx5I2j6DAy0Un/Ttjg4XGQNymFDh4LL5aKurg62trbo2LEjVqxYgdu3b/MVR1IqDcuXL8eTJ08QERFBmd5cdnY2OnfuDC0tLUri0YFMFCTg/bLd/fv3kZGRQdsYOjo6tM+QANHkjGau24q4YydhZWWF3NxcBAUFISIiAgYGBvj333/5zsHJyQkVFRU4cOCAsJfBwEAL1dXV0OrYEfcel2JOwA6RNCgjIiNhZ2eHf/75B1evXsXUqVPx+++/Q1tbGzY2Njh8+DBqa2ubjFVcXAxVVVW0aEFN1x8//PPPP9i1axf8/f3RtWtXyuJmZWVJ9XIdIEMFacCAAejevTutzQ3iaP2uR1g5o6R/TsPe3h5Hjx5FQEAAFi1ahIsXL6Jdu3YYNmwYFi5cyNdsqXPnzrC0tGSW7Rikivv372PYsGHYt28fZsyYCW5qBmUalL169cL27dvx4MEDREVFoby8HBMnTkTnzp3h5+fXsDz3IeJu+X779i1cXFwwePBgzJ8/n7K4b968wfnz56V6uQ4AQGSIdevWEWVlZfL69Wta4u/YsYM0b96c1NbW0hK/MQoLC4m5mRkBQDTV1YjjSEuydYE7ifDxJFsXuBPHkZZEU12NACAW5uaksLCQEEKIn58fAUB2795NCCGktraWBAUFESUlJdKtWzfy77//fnXsffv2EQDk2rVrtF4jAwM/nDhxgrRt25Z07NiRnDlzhhBCCJfLJUpKSqSrZgdy0H8lqc76i/Byjn32U531Fznov5J01exAlJSUSHx8PF9jXrhwgcyZM4e0atWKsNlsMmbMGPLnn382fAeMGjWKjB07lvJrraura/R1T09PoqioSG7dukXpeGlpaQQAuXLlCqVxqUamCtLdu3cJABITE0NL/NTUVAKAFBUV0RL/S+Tn55P58+cTIw6HKCgoEABEQUGBGHE4ZP78+SQ/P/+j43k8HlmwYAFhsViEy+U2vH7r1i0yaNAgwmKxyIIFC8ibN2+aHLOyspKoqKiQxYsX03ZdDAxfo66ujqxfv56wWCxiZWVFysrKPnpf2Js2QXj9+jUJCwsjhoaGBADp1KkTWbduHdHV1SXz5s0T+Rrr/745hoYf/X1zDA0b/r5PnTpFWCwW2bJli8jjfcqqVauIiopKk4VQWpCpgkQIIWZmZsTCwoKW2Pfu3SMAyF9//UVLfEHg54NTV1dHZsyYQeTk5EhycnLD67W1tSQwMJAoKip+dba0cOFCoqamRqqqqijJm4FBEJ4/f05Gjx5NWCwW8fPz++LqhKA3bcKSl5dHXFxcSIsWLQgAoqenR44fPy7Ul/mnxXTGKEsSuHAWifDxJIELZ5EZo/6/mLZsqUwMDAxoWaEZPnw4+fnnnymPSzUyV5Cio6MJi8Ui9+7dozx2XV0dUVJSIlu3bqU8Nl3U1NSQCRMmEEVFRZKRkfHRex/OlhYuXEgqKio+O//SpUsEAElKShJTxgwM78nPzyddunQhKioq5O+//xb4fLrv9ouLiwkAoqWlRQCQrl27kk2bNpHS0lK+zv9wuTHJ3/eLy41J/r6kk4Y6UVRU4Hu5kV+qq6uJsrIy2bRpE6Vx6UDmCtKrV69IixYtyPr162mJ37dvX+Lu7k5LbLqorKwkI0aMIC1btiS5ubkfvcfPbMnExISMGjVKXOkyfOfweDwSHh7+fnZjZETu3Lkj6ZQa5cqVKwQAycrKIqdOnSIODg5EQUGBNGvWjEydOpVkZGQQHo/X6LlcLpewWCziYDOcvE4/0mgh+vTndfoR4mAz/LNleFHJzc0lAMjp06cpi0kXMleQCCHE3t6e9OjRo8kPgyjY2tqSoUOHUh6Xbt68eUMGDhxIVFRUGn1wefPmTWJqakpYLBZZtGjRR7Ol0NBQwmazSUlJiThTZvgOefv2LXFyciIAyOzZs0llZaWkU2qSlJQUAuCj1Zhnz56RwMBAoqOjQwAQHR0dEhgYSJ49e9ZwzK1bt4iSkhJxsBlOak/9zVcxqv+pPfU3cbAZTpSUlIR6FtYY9Tek0vy7rkdm2r4/ZMaMGbh16xbOnj1LeWxxiaxSjbKyMv766y9oaWlhxIgRn23869GjB/79919s2bIFv//+OwwMDJCdnQ0AmDp1KhQVFRETEyOBzBm+F4qKijBw4EDs27cPsbGx2L17t1SaxNVTXFwMNpuNDh06NLymoqICT09PXL9+HRkZGejXrx+WLVuGDh06wNHREadPn5Yq+3VAug35PkUmC5K5uTk0NTVp2ZOko6OD0tJSvHz5kvLYdNOmTRscP34cysrKGDFiBB4+fPjR+3JycvDy8sKFCxegrq6OoUOHwtPTE/Ly8pgyZQqioqJoU8Jg+L75448/YGRkhIqKCpw9exaOjo6STumrlJSUoEOHDpCX/9xYm8ViwczMDAkJCbh//z7Wrl2LU6dOYdCgQVJlv07+Z8gn7Rti65HJgiQnJwcHBwfs27cPVVVVlMbW0dEBQL/IKl1oaGggLS0N1dXVsLKywrNnzz47RkdH56PZUt++fWFsbIw7d+7QqoTB8P1RW1uL5cuXY/z48bCwsMC5c+fQp08fSafFF/VOsV9DXV0dS5cuRWFhIcaNG4f2bVUotV8XhcLCQpSVlUn/htj/IZMFCQAcHR3x4sULJCcnUxq3XmRVVgsS8F6F4cSJEygtLcXIkSMbFWD9cLbUtm1bzJs3D23atEFoaKgEMmb4FiktLcWIESOwZcsWbN68GUlJSfjxxx8lnRbfFBcXC6TSwGazcb+kBFYmhlJjv56dnQ0Wi4WBAtrUSAqZLUg9e/aEsbEx5ct29SKr4tC0oxNdXV2kpqbi5s2bGDt2LN69e9focTo6OsjKysKWLVvw+vVrHDx4ECkpKWLOluFbIzs7G/369cONGzeQnp6OxYsXU+LnI074nSF9iLTZr2dlZcHAwEBmbgRktiAB75sbUlJS8OTJE0rjympjw6cYGhrizz//xNmzZ2Fra4uamppGj5OTk4O3tzcyMzMBAKNGjYKXlxfevqXGtZPh+4EQgqCgIJiZmUFbWxsFBQUYOnSopNMSGEKIwAVJGu3Xpd2Q71NkuiBNnToVLBYLCQkJlMYVl+q3OBgyZAgOHTqEY8eOwcnJ6Ysf7kGDBmHs2LHo0KEDQkJC0Ldv3wYPFQaGr/Hq1StMmTIFXl5e8PT0xMmTJ9G+fXtJpyUUZWVlqKqqEnjJTprs1x8/foyioiKmIIkLVVVVjBkzhnLjPl1dXRQVFX1Rll6WsLGxAZfLRUJCAjw8PL5oXe7m5oaHDx+Cy+VCVVUVQ4YMgbe3NzNbYvgiV65cgbGxMVJTU5GUlITNmzejWbNmkk5LaIT1QZIm+/X6bR1MQRIjM2bMwPnz53H58mXKYuro6KC6uhp3796lLKakmTx5MsLCwhASEoKVK1c2eZy1tTU6dOiAtLQ0ZGdnIyAgALt27ULfvn1x+vRpMWbMICtwuVz0798fCgoKOHfuHCZOnCjplERGWKdYKu3XT+ZfxAARmhGys7Px008/QVNTU6RcxInMF6SRI0dCVVWV0uYGXV1dALLdadcYLi4u2Lp1KzZu3IiAgIBGj5GXl8fMmTMRHx+PqqoqLF68GBcuXICqqioGDx4Mb2/vJhskGL4vqqqqMG/ePNjb22PSpEk4c+ZMQ5eqrFNSUgIFBQWoqanxfU51dTWUlZUps19/8KQMTk5OQseQpf1H9ch8QWrevDns7OwQFxdH2RKbpqYmWrRo8c0VJADw8vKCr68vli1bhrCwsEaPcXZ2xqtXr5CUlATgfYFmZksMH1JcXIyhQ4ciIiICoaGhiImJEaurKt0UFxejY8eOfHUG1tb3RPdiAAAgAElEQVTWIjo6Gj169EBAQADat2+HxTsjRLZfNzczg6GhoVAxXr9+jQsXLsjUch3wDRQk4P2epMePH+PEiROUxGOz2ejRo8c309jwKWvWrIGHhwdmz56Nffv2ffZ+t27dYG5u/pGbrJycXMNsSUVFhZktfcekpqbC0NAQpaWlOHXqFNzd3WWupftr8OMUy+PxsG/fPvTu3RvOzs4wNjbGlStX8O+/WXj8/CXmBgSLZL8eFh4udP5nzpwBj8djCpIk4HA46NWrF+XLdt/iDAl4L3uybds2ODg4wMHBAX/99ddnx7i4uODff/9FYWHhR6/Xz5Y2bdrEzJa+M3g8HtauXYuRI0fC2NgY+fn5MDIyknRatPCllm9CCP744w/07dsX06ZNQ/fu3ZGfn48DBw6gV69e0NbWRmRkJOJS0ymzXxeUrKwsqKqqNjx+kBkkKu1KIZs2bSKKiork5cuXDa+J4peyatUqoq6uTkVqUktNTQ0ZP348UVRUJJmZmR+99/btW9K6dWuyfPnyJs+/du0a6d+/P2GxWMTb25u8ffuW7pQZJMTTp0+JjY0NYbFYZO3atVLvPCoqmpqaZOXKlR+9xuPxyPHjx4mJiQkBQMzNzcmpU6eajEG3/fqXMDc3J+PGjRM5jrj5ZgrS/fv3CYvFIubm5l+0CeaXhIQEAoA8f/6cxqwlz7t378jw4cNJq1atSF5e3kfvzZs3j7Rr147U1NQ0vPbpF1FtbS0JCAggCgoKREdHRyY8VxgEIzc3l3Tq1ImoqqqS1NRUSadDO9XV1YTNZpOwsLCG17KyssjQoUMJADJgwABy8uRJvmKJw369sfyVlJTI5s2bRY4lbr6JgvThf3o71TZftAk2NzPj6z+9oKCAACA5OTliuALJ8vr1a9K/f3+iqqpKrl692vB6/e9g9OjRXy3y9bMlNptNFi9ezMyWvgF4PB75/fffSfPmzYmJiQktLs3SyN27dwkAkpKSQvLy8oi1tTUBQPr27Uv+/PNPoXzYxGW/TgghZ86cIQDImTNnKIspLmS+IAlqE8zvtPjNmzcEAImJiRHTlUiWZ8+ekT59+pAOHTqQ27dvf1LkVfgq8jU1NWTTpk3MbOkboKKigjg4OBAAZN68eTJh7kYVWVlZBAAZPnw4AUB0dXVJYmIipcuUdC55btmyhSgpKZGqqiraxqALmS5IdNsEd+zY8YvPUL41Hj16RLp160bU1dWJkqKi0EX+2rVrxMTEhJktySi3bt0iffr0IS1atKDUSlsWuHXrFjE1NSUASOfOnUlsbCypra2VdFoCMX78eGJmZibpNIRCZrvsCgsL4erqCntrC0T7evNthqWspIhoX2/YW1vA1dUVRUVFTR77LXfaNUa7du3g4eGBJ0+eYKKZKS7uDcEEs0FNSunLy8thgtkgXNwbgknDTDF9+nTEx8ejZ8+eOHXqFDZu3IgdO3agX79+OHNGtI2CDOLh0KFDMDIyQlVVFXJzc2FnZyfplMRCcXExXF1d0bNnT1y5cgVKSkooLCyEo6Mj5OREs5IQJ4QQZGdny9yG2HpktiCJwyZYR0fnuypIhYWFWLFiBexthiPWd7FIRV5eXh7Lli3D+fPn8eOPP2LQoEFYunQpKiuF2yzIQC+1tbVYsmQJfvnlF1hZWSEvLw+9e/eWdFq08+jRI3h4eKB79+44evQotmzZgmnTpkFbW1smtfhu3ryJp0+fytz+o3pksiDl5+eLxSZYV1cXhYWF34zI6teoL/K7KSzyvXr1apgtbd++nZktSSGPHj3C8OHDsW3bNgQFBSExMRE//PCDpNOilWfPnmHp0qXo1q0b4uLisGrVKty+fRuLFi3Co0ePBNawkxays7PBZrMxYIBojrWSQiYLUkxMDLQ01Gm3CdbR0UFNTc03JbLaFHQW+Q9nS61atWJmS1LEP//8g379+qGwsBAZGRlYtGjRN6e68CHl5eVYvXo1fvrpJ+zevRve3t64c+cOfHx80LJlSwCCO8VKE1lZWejbt6/M3lDIZEHKOX0awzn6tNsE6+joAMA3KyH0IeIo8r169cLp06exYcOGhtnS2bNnRRqPQTgIIdi8eTOGDx+Onj174vz58zK7zMMPFRUV2LRpE7p27YpNmzbB3d0dt2/fxrp169C6deuPjhXGKVZakDVDvk+RyYIkLptgTU1NKCsrfxfPkcRV5OXl5bF8+XIUFBSgVatWMDU1xbJly4SeLYnipvm9Ul5ejl9++QVLly7F4sWLceLECWhoaEg6LVqoqqrCjh070K1bN/j6+mLq1Kn477//sGXLlkaVvN++fYtnz57JZEF6+PAhbt++zRQkcSJOm+BvXWT1Q8RV5Ovp3bt3w2xp27ZtMDQ05Gu2VFBQAA8PDxhxOFBUVIScnBwUFRVhxOHAw8OjyeeBDO+5dOkSjIyMkJ6ejiNHjuC3336DvLy8pNOinJqaGoSHh6N79+7w9PTEqFGjcOvWLezatQsdOnRo8rx6Yz5ZXLKTRUO+T5G5giRum+DvofVbnEX+Qz6cLSkrK39xtlRUVAQLc3NwOBwcTtwPvXYq8J89ExE+nvCfPRN67VRwOHE/OBwOLMzNv9jO/72yZ88eDBgwAMrKysjPz8e4ceMknRLl1NXVIS4uDj179oS7uztMTU1x7do1REVFoUuXLl89X1inWGkgOzsb3bp1k1nbeACQyVsjcdoE6+jo4OTJk5SMJa2Iu8h/Su/evZGTk4PNmzdj9erVSE5ORkxMDExMTAAA8fHxcHV1RXuVNkjy98XPgwc0urRYW1uH5OwzWLIzEvr6+oiMjMS0adMouSZZprKyEosWLUJoaCicnJywa9cuKCkpSTotSiGE4PDhw/Dz88PVq1cxduxYHDp0CPr6+gLFKS4uBovFkimX1XqysrJkenYEyOAMCaDWJjjt3IUv2gTr6uriyZMnePHihUhjSTviLPKNIS8vjxUrVjTMlgYOHIjly5cjJibmvSPpMOE36n7P3L17F4MHD0ZMTAwiIiIQFRX1TRUjQghSUlJgZGSEX375BR06dMDZs2fxxx9/CFyMgPczJA0NDSgoKNCQLX2Ul5fj0qVLMrshth6ZLEhOTk6U2QQ/LHuKrKwsHDlyBHV1nxe4+k67b33ZjsoifzL/4heL/Jeony2tX78egYGBcHV1xXQa1Ti+ZVJSUmBoaIhnz57h9OnTcHFxkXRKlJKZmYkhQ4Zg1KhRUFJSQmZmJo4fP94wsxaGe/fuyeRynawa8n2KTBYkQ0NDmJuZYcnOSJFtgvX79EGrVq0wYcIE6OrqYvfu3Xj79v+Xrnr06AHg22/9prLIP3hSBicnJ6Fj1M+W+vXti47qbSndqPs9UFdXBz8/P4wePRqmpqYoKCgQ2gpbGjl79ixGjBgBc3NzVFZWIiUlBVlZWRg2bJjAsT5tkomOjkZBQYHMNclkZWVBTU2t4ftKVpHJggQAYeHhePT8hcg2wUmHDiErKwtnzpxBv379MH/+fHTq1Al+fn4oLS1FixYt0KlTp29+hkRlkTc3MxP5CzA/Px+5eXnYusCdVjWOb42nT59i5MiR2LBhA9avX4+jR4+iTZs2kk6LEi5evIixY8diwIABePToEQ4dOoS8vDzY2NgIvJn3S00ym+e7ylyTTP3+I1nf1CyTTQ0AGmyCp0+fDgAIWerB1xdXxbtKzA0IRlxqOrhcboNNcP/+/ZGYmIg7d+5g27ZtCAwMREBAABwcHKCpqfnNz5CA90VeX18fcwOCEe3rLdCshMfjYc7/inxqeLjIudCxUfdbmiU0xtmzZzF58mS8e/cOqampsLS0lHRKlHDjxg2sWrUKiYmJ0NbWBpfLha2trdCip99ak0x1dTXOnj2LDRs2SDoVkZHZGRIATJs2DXFxcTj4z2kYOMzFoczsJp+B1NbW4VBmNnpPc0NiRja4XG6jH66ffvoJ27dvR0lJCVavXo2//voLOTk5SEtLQ2ZmJgghdF+WxKgv8nGp6XBat5XvmVLFu0rMWLsF3GMnsXv37oYiLwri2qj7LUAIwa5duzBkyBBoaWnh/Pnz30QxunPnDpycnBqeK0ZERODatWuws7MTqRh9a00y+fn5qKyslPnnRwDAIt/AN2xRURHc3dyQkZkJTXU1DOcYwKB7V/zYUhnlbypwsfA2TuZfxIMnZVBVUUELZWXcuHEDLVp8fd9NVVUVXF1dERcXBwDgcDjw9vbGpEmTZFINmB8+vIMMmO+MsYMHNnkHeTQ7B0t3RuHh02eo4/EwevRoHDx4UGTJfkVFRfjPnolFUyeIFAcAghIOwSc09pvUzquoqIC7uzvi4+OxYMECbN68Gc2bN5d0WiLx8OFDrF+/HhEREVBRUcGvv/4Kd3d3kTvfCgsLYWBggEnDTIVaAXBatxUH/zmNS5cuUXLTRRX12yVevnwp899J30RBqqegoADR0dE4k5ODy1euoKqqCgoKCuijp4cBAwfCyckJLVu2hL6+Pjw9PeHv789X3JMnT8LS0hKRkZHYt28fTpw4gU6dOmHhwoVwdXWVWSHDLyFIkbcwN0doWBhu3ryJcePGwdnZGaGhoUKvZ/N4PMjJySHCxxPOP1uLfC1Ryalw3RiEP//8E506dYKmpibatGkj8+vtN27cwC+//IJ79+4hIiICU6dOlVguPB5P4MaTTykrK8Nvv/2GkJAQtGjRAsuWLcP8+fP5unHkBwtzcxQX3cKFPSFCPZeseFcJA4e56Ny9B9IzMijJiQrGjRuHN2/efBP7JWX2GVJjGBoafvScoKk/kpUrV2L16tWYNm0aX3sV6lu/1dXVcfz4cVy8eBGBgYFYtmwZ1qxZg1mzZmHBggXQ0tKi7mIkjLa2NtIzMj4q8vvTYz8q8hOm2MLJyanhd16/5Ddz5ky0a9cOa9euFWpsOjbqslksjBkzpuE1JSUlaGlpQVNTE1paWg0/H/5bXV1d5C9Zujhw4ACcnZ2hpaWFvLw89OzZU6zj138uck6fxpWrVxs+F3q9e2OgqelHn4uv8fLlS2zZsgXbtm0Dm83G8v9r79zjYkz////qLLEREcWuQ/hURJNDKaYssdRKlkxEySFbWCF2t3U+ax1CDqUNFa2wRc7SlliaVEpRlk50UhuSTnP9/vBtflLSzNzTzOR6Ph7z0Jyu+3Wn+35dh/f1fq9ahaVLl0JdXZ0xvXXZ7MO2eIkcJDN19UapiVzk8XiIjY2Fm5ubpKUwQqsaITWXqqoqGBkZQU1NDXFxcZ+dXiKEoH379li7di2WL1/Ofz03Nxc+Pj44dOgQysvLYW9vDw8PDwwePFjcpyAxmtMT3r59Ozw9PbFv3z78+OOPQh3HmMWCgZYGAryWf/7Dn2HO+p1ILSjB2XPnkJubi9zcXOTl5fF/rnuel5eH6upq/vcUFRXRvXv3TxqWtrY2unfvLvI0iSCji+rqaqxcuRK7d+/G9OnTceTIEbRv316k4wvCxyPnb40NYajbB1+ptcWr8rdIyniCa/HvR84WbDYOHznyyemtN2/eYM+ePdi5cycqKyuxePFirFixAp06dWJct7u7O879GYp/TweItC5ZU1OLXnZzYDttOnx8fBhUKBwPHz6Evr4+rl692irWDVvVCKm5KCsr48iRIxg5ciQOHDgAd3f3Jj8vJyfXaPVYHR0dbNu2Db/++iv8/f2xe/dunDhxAmPGjMHy5cthZWUl89NCH9OcG+eKFSuQn58Pd3d3dOnSBT/88IPAxzExNcXZ0FOoqakV+QZynZsE22nT0aNHjyY3PfJ4PBQVFTUwrLqfExMTkZubW2+fmpycHLp27drkaEtbW7vetJOwo4u8vDxMnz4d//zzD/bu3Qs3N7cW/ftiKjqtoqICBw8exJYtW1BWVoaFCxdi9erV0NLSEpv21hokExsbCwUFBQwfPlzSUhjhixwh1fHjjz/i2LFjePjw4Wd3Zzs4OCA7OxsxMTGf/ExNTQ3CwsKwc+dOxMfHQ19fHx4eHuBwODKXikRUeDweHB0d8eeff+LixYuwtLQU6PsJCQlgsVgI2+IFW/ZIoXWcuRmLqas3gsvlMjLFQghBWVlZg9HVx88/TjWloaGBzp07o7SkBEXFxejWWQPjhhk1e3QRFRUFe3t7KCkpITQ0FKampiKfiyDURafNtLIUaovFiRMnMHXqVBw9ehQbN25Efn4+nJyc4OXl1SKZtVtrkMysWbOQlpaG+Ph4SUthhC/akMrKyqCnpwcjIyOEh4c32dtcv3499u3bh8LCws+2SwhBTEwMdu7ciYiICGhpacHd3R0LFy6EhoYGk6cg1VRVVcHGxgZxcXG4efOmwIZgNGQIXuY/R2rwYZlbhC4vL+cbVV5eHs6fP4+zZ8+ge+dO+H3x/M+OLpbtPYwXxSXgODiAx+Ph+PHjGDlyJP7880+xjiQaQ9TotDkbvPHnjRhodumCvLw8cDgcrF27tsUi1cQVJFNbWyvxNcZevXph8uTJ2LVrl0R1MMUXbUgAcPbsWUyZMgV//vknpk6d+snPnTp1Cvb29nj58qVAppKeno5du3YhMDAQCgoKcHZ2xtKlS9GnDzO1h6SdN2/ewNLSEllZWYiLi2vWeVdXV8PLywvbtm2DooIC7Mey8YcMh+kKO7pYuG0vgi7fqPe6srJyk+taOjo60NLSYrTGERPRafoz5qGSyOHa9eswEDDxLhO0xhFSbm4uevTogdOnT8POzk6iWpjiizckALC1tcWdO3eQlpbWoJxxHUlJSRg8eDDi4uJgIkTi0MLCQhw4cAD79+9HSUkJbG1tsXz5cowYIVomAlmgqKgIZmZmqKmpQVxcXJPVSZ88eYIZM2bg/v372LRpE7S1tTFr1iyhp4o+tQG6pRB1dDF7/U6cjopFcEgI5OXlPzlV+OHNUV5eHlpaWp80LG1tbWhra6NNm8//LrlcLoyNjaVu6lRQmA6SuRifiAMHfGFlZdWiQSV18Hg8hIaGYsaMGcjPz281FX+pIeF9T0NPTw8cDgcHDx5s9DNv376FmpoaAgICMGfOHKGPVVFRgWPHjsHb2xsZGRkwNTXF8uXLYWNjI/JmUmkmKysLpqam6Nq1K27evNno3q3jx49j0aJF6Nq1K0JCQjB06FAAwm3UfVFSKhWpXlpi7wshBCUlJY2uZX34c1lZWb3vde7cucmwdx0dHfz888+tIjrN3d0dZ0NP4WnYHyKfx9e2s1DJA0pKSqCsrAw2mw0bGxtYW1uLbT2ssUAYRUUFKCsrw9l5rkBh9tIMNaT/Y//+/XBzc2uyyNU333wDe3t7bN26VeTj8Xg8nD9/Hjt37kRMTAz69OmDZcuWYc6cOYxtBJQ2Hjx4AHNzcxgZGeHixYv8QI9Xr15h0aJFCAoKgqOjI/bt29eg1ynMRl1J76aXttHF69ev661rNWZeRUVF9b6jrKSEGWNHMzayeFhYinsSWIAXR5BMx44dERERgfDwcERHR6OmpgaGhoawtraGjY0NWCyWyGtMTIbZywLUkP6PuloipaWlSExMbDQqzsrKCm3btsXZs2cZPfbdu3fh7e2N06dPo0OHDli0aBHc3NxazTD8Q2JiYjB27FhYW1vj5MmTiI+PB4fDQVFREQ4ePAgOh9Pk95uTjUNaeoqyuPfl3bt3eP78Od+gZjs6YtuPc2V+7SU7OxuDDQ3RXkUZqSHMB8mUlZXh0qVLiIiIQGRkJEpLS6GlpcU3pzFjxghcGPHDmYEdbnObFWYvLTMDwkIN6QNSUlIwZMgQ/Prrr1izZk2D95csWYIrV64gLS1NLMd/+vQp9uzZAz8/P1RXV2PWrFlYtmwZ9PT0xHI8SXHu3DnY2dlh2LBhuHfvHlgsFkJCQtC7d2+B22IiZY24YHrdoqVHF60lOu2vv/6Ck5MTVFRU8F9pKX6wMBNrLruamhrcunUL4eHhCA8PR2ZmJlRVVfkdsUmTJn02UpKJMPvPde6kEem8kiWEgYEBPD09sXnz5kZNp3///njy5Em93fxM0qtXL+zevRs5OTlYv349Ll68CH19fUycOBFRUVGtJtP4sGHD0K9fP9y5cwempqaIjY0VyoyA5m3UlRQpqakw1GUmmtJQtzcepKQw0lZzEUcKJxUVlRb7P6vL/jB58mSMGjUKqampOBoQIFQ2e6cN3jhx+Qb8/f0/OyWmqKiI0aNHw9vbG48fP0ZaWhrWrVuHkpISLFiwAN26dcPw4cOxadMmJCcnN7iuMzIy4OLigplfYKVk6b2aJcSvv/6Kr7/+GgsWLGhQ+G/AgAGorq7G06dPxaqhY8eO8PT0xNOnTxEYGIicnBxYWlqCxWIhODhYbIbYEkRERGDQoEEoKyuDs7MzYmJiEBAQIGlZjFNSUoLKykp8pcbMeqB6OzVUVlYKXIxSVAz09ZGU8YSRtpIy/sXAFgr5zsjIgImJCQ4dOoS9e/fi7Nmz0NDQEKpkjeGsRTgdHSdUxKacnBwGDBiAFStWICYmBgUFBQgMDETPnj2xdetWGBoaolevXli8eDGuXr2KqqoqLJg/H907dcSBL7BSMjWkj2jTpg0OHTqEmJgY+Pv713uvLslqS1WPVVZWhqOjI5KSknDlyhVoamrCwcEBffr0gbe3N169etUiOpigoqICbm5usLGxgampKZKTk+Hn5wc3Nze4uroyvi7XUlRUVCAhIQHHjh3DypUrMWHCBPTo0QOdOnWCvJyczI4u6jAxNcW1+KRP3rSbS10KpxFCbJkQlODgYBgZGeH169e4ffs23N3d621653A4SE5Oxte6/TB19Ub0spuDOet3YlfIGRyNuIxdIWcwZ/1O9LKbg6mrN+Kbfv2RnJzMyLpM586d+RlMiouLcenSJUyaNAnnzp3DuHHj0LFjR0TdvIntP879Iisl0zWkT+Ds7IwzZ84gLS0N3bp1A/A+vParr77Cb7/9hhUrVkhEV3JyMn7//XcEBwdDVVUV8+bNw5IlSz6b+kiSpKamwt7eHhkZGfD29saiRYv4N4ja2lpwOBz89ddfuHLlCkaNGiVhtY1TU1ODjIwMpKSkICUlBQ8ePEBKSgqePHnCH7X06tULBgYG/MemTRsx9BttmV1DAqQ3hVNjlJeXY/HixTh69CgcHBzg6+v72T1C0hIkQwhBcnIyFixYgKzMDGSfOy4zgTBMQg3pE7x8+RL/+9//wGazERoayn/d2NgYgwcPhp+fn0QX1J8/fw4fHx8cPHgQb968wbRp0+Dh4SE1EWbA+4vs0KFD+Omnn9CnTx+EhIRg4MCBDT5XWVmJiRMnIj4+Hn///XezSoKICx6Ph+zs7Hqmk5KSgvT0dFRVVQEAtLS06hmPgYEB9PX10a5du3ptMbn3RZI3F0sLC2RlPEbScemtI/TgwQNMnz4dWVlZ2LdvH+bMmSNU4llJB8nIeiCMqFBDaoKQkBBwOByEh4fD2toaCQkJmDFjBgry8/GuslKkGjBM8ebNGxw9ehS7du3Cs2fPYGlpCQ8PD4wfP57RC0vQC/Xly5dwcXHBuXPn4OrqCm9v7ybDXl+9egULCwu8ePECt27dQq9evZiQ/UkIISgsLKxnOikpKUhNTcWbN28AAOrq6vVMZ+DAgdDX10fnzp2bdQxZGl00RWZmJgYNGiSVlVYJITh8+DCWLl2Kvn37IjQ0tMVrQzFJa0xxJAjUkJqAEILvvvsOiYmJ6Keri79jYtCtcyeMGzZE6jan1dTU4OzZs9ixYwfu3bsHPT09LFu2DA4ODs1KEfMxohRgi46OhoODAyoqKuDv74/Jkyc365gFBQUYOXIk5OXlcevWLWhqagqsuzHKysrqmU7do7i4GMD7m4Cenl494zEwMIC2trbI5R1kYXTRHEJCQuDg4CBVKZzKysowf/58hIaGYsGCBdi1a5fAe32kidYSZi8K1JA+w+7du+Hh4YGeXTXh3YwszZLenEYIQWxsLLy9vREeHo4uXbrwAweaU/hMlJ3hNTU1WLduHTZt2oRRo0bhxIkTAlfRffLkCUaOHIkePXogKiqqwTRYU1RUVCAtLa2B8eTk5AAAFBQU0K9fv3qmY2BggN69e4stbZM0jy4ERZpSON27dw/29vYoLi6Gn5+fUDW3pBE6QqKG9EnqNqc5WFnCVwY3pz1+/Bi7du3CH3/8ATk5OTg7O/PXcxpDlJ3hJiYm4HA4uHv3LtatW4dVq1YJfZO/f/8+Ro8eDRMTE0REREBZWfmj49cPMKh7ZGZm8gMMvvnmm3qmY2BggP79+0ukLpU0ji6EpTkpnK7c5SL/ZalYUjjxeDzs2rULq1atwpAhQ3Dy5Emh97BJI3QNiRpSo4iapVmaerZFRUX8TOPFxcWwtbWFh4dHvSJvou4Mb9OmDbp27Yrg4GChsqF/TFRUFKysrDB+/Hi4uLjg4cOHfONJS0vjBxh07dq1gfHo6elJJANzUwg6uljh44f80jKpTQPTVHRal65dERkZifj4eLBYLMaOWVxcjNmzZyMyMhIeHh7YvHlzg86KrPM+EOYknoYFynQgjLBQQ/oELZGluaWpqKjA8ePH8fvvv+PRo0cwMTHB8uXL+UUKRSmREHr9b/xz9y6GDBkisK66AIOPRzyJiYn86YaPAwzqItuYWmdqCQRJEPtV+/a4Fx+Pfv36SVp2s/gw6KWmpga9e/fGuHHj4Ofnx0j70dHR4HA4qKysRGBgICZOnMhIu9IEIQSbNm2Cl5eXzAfCCAs1pEaQtizNTMPj8XDhwgV4e3sjOjoaampt0UVdHcknfMVuvmVlZUhNTW2wn+dTAQZZWVnYv38/tmzZglWrVgl1vtLG5/a+GBkZwdnZWaYLr23cuBGbN2/G8+fPP1ljrDnU1tZi06ZNWLduHczNzREUFARtbW0GlUoHjx49wqJFi3Djxg107doVaorySDou/utR2qCG1AiymKVZWI4dO4bZs2czbr4VFRVIT09vYDyNBRh8+OjTp9tL/r8AABnFSURBVE+Dtac1a9Zg/fr1OHr0KJycnEQ6X2mksZD6sWPHoqCgAImJiTITIfUh+fn56NGjB7y9vbF48WKh2nj+/DkcHBzw999/w8vLC15eXq2uZlhFRQU2b96M7du3Q0dHB/v370ffvn1bTSCMoDBX57gVcTsuDmNYg0QyIwBQVFTAGJYh7ty+zZAy5rl37x50unaBtZlolWttzEzQrbMGfvjhBygqKjYIMDAwMICDgwM/wk2QAIO1a9eioKAA8+bNQ+fOnWFtbS2SVmmjsRvOmjVrYG5ujnPnzmHKlCkSUCUaWlpasLW1xcGDBxuk7mkOFy9ehKOjI5SUlHD9+nWw2WzxCJUgly5dwo8//ojc3Fx4enpi9erV/LB1f39/ODg4AIDQgTCyZkYANaRGSUlNhYP5HEbaMtTtjVM3AhlpSxwwab5jhxohPO4eZs+Zww80YCLAQE5ODvv370dRURGmTZuG69ev1wvIaI2YmZlhzJgxWL9+PSZPniyToyRXV1dYWloiOjq62YZSXV2NX375BTt27MCECRMQGBgoU+uEzSEvLw9Lly7F6dOnYWlpicjISH6ezDpmzJgBQghcXFxw60GaQGH20hSVKSjUkD6Cx+OJLUuzNN5UmDffGOzevZuR9j5EQUEBQUFBsLKywqRJkxATEwN9fX3GjyNNrFmzBqNGjUJ4eHizNxdLE2w2GwMGDICvr2+zDOnp06eYMWMGuFwuduzYgWXLlknlNSMsNTU12LdvH7y8vKCmpsY3jk+NHjkcDoYNG4b58+Zh6uqNzaqUfFkKKiWLQuv532YIWa8BIwjiNF9x0KZNG/z111/o0aMHxo8fz1+Paq2Ym5vDwsIC69atk8laWHJycli4cCHOnDmDFy9eNPnZ06dPY8iQISgoKEBsbCyWL18uldeMsPzzzz8YOnQoli1bBkdHR6Snp4PD4Xx2KrNv3764ERUFLpcL22nT8bCwFD8fCoTL5l34+VAgHhaWwnbadHC5XFy/cUOmzQightQosloDRlBk0Xw7dOiAS5cuQVFREePGjcPLly/FdixpYM2aNUhMTER4eLikpQjF7NmzoaSk1KCUSx0VFRVwdXXFDz/8gLFjx+L+/fsYPnx4C6sUH6WlpVi4cCFMTEwgLy+Pf/75B/v37xc48tDIyAg+Pj64Fx+Pd+/eoba2Fu/evcO9+Hj4+PhIVRSvKFBDagRZrAEjLLJovt26dcOVK1fw8uVLTJw4EeXl5WI/pqQYPXo02Gy2zI6SOnToAA6Hg8OHD6O2tv71lJ6ejhEjRiAgIAC+vr4IDQ0VKURcmiCE4Pjx4+jfvz+Cg4OxZ88e3L17F0OHDmWk/dY0evyQ1nlWIuLk5IS8wiJExN4RqZ3w2NvIKyyS6lBlWTVfXV1dREZGIiUlBdOmTZPpKrqfY82aNbh//z7Onz8vaSlC4erqipycHFy4cIH/WmBgIFgsFqqqqnD37l0sXLhQ5ES20kJaWhosLS3h6OgIS0tLpKenw93dvdWFrIsDakiNYGRkBAs2Gyv2+aO8QrjEhOUV77Bsz2EMGmgg1cNpWTZfY2NjnD17FlevXoWLi4tMjiCaA5vNxqhRo7B27VqZPEcWi4WhQ4fC19cXr1+/hqOjI+bMmYNp06YhPj5eovWvmOTt27f45ZdfYGhoiNzcXFy5cgUnT55E9+7dJS1NZqCG9AkOHzmCFyWlWLTdR+BFeh6PB9ftPnheXILkB+978AUFBWJSKhpMme/KfUdhwWa3uPmOHTsWgYGBOHbsWKvJ5NAYa9euRUJCQr1Rhizh6uqKS5cuwdDQEGfOnMHx48cREBAANTU1SUtjhAsXLkBfXx87d+7Ezz//jAcPHmDs2LGSliVzUEP6BH379oW/vz9OXL4Bpw3ezb5Zl1e8g9MGbwRdvoHAwEAEBwcjKioK//vf/3Ds2DGp7OGKar6LtvvgRUkpDh85IiaFTTNjxgzs2bMH27dvx++//y4RDeKGzWbD3NxcJteSCCH477//ALwvM56QkICZM2dKWBUz5Obmws7ODpMmTYKuri5SUlKwdu1aoWqQUQAQSpMEBQURVVVV0lu7Ozm95VdSFXOB8G5favCoirlATm/5lfTW7k5UVVVJcHAwv43CwkLC4XAIADJu3Djy9OlTyZ3QJwgODiZycnJk1vgx5PWNc42e48eP1zfOkVnjxxA5Obl65yspVq9eTQCQ48ePS1qKWLh27RoBQC5cuCBpKc2mpKSE2NraEgDE0NCQdOrUiVRUVEhalshUV1cTb29voqamRrS0tEhISAjh8XiSliXzUENqBhkZGcSCzSYAiHYXTeI44VvivXg+8fv5J+K9eD5xnPAt0e6iSQAQSwsLkpGR0Wg758+fJzo6OkRNTY3s3buX1NTUtPCZNA0T5itJeDwecXZ2JoqKiuTixYuSlsM4PB6PjBw5kgwdOlQmbn5xcXGkZ8+epEOHDuTMmTMkPT29VXQYbt26RQYNGkTk5eWJu7s7+e+//yQtqdVADUkAuFwucXNzI8YsFlFRUSEAiIqKCjFmsYibmxvhcrmfbaOsrIy4uroSAMTExIQ8fPiwBZQ3H6bMV1JUV1cTa2tr0rZtW3Lnzh1Jy2Gcq1evEgAkMjJS0lI+SW1tLdm6dStRUFAgJiYm5NmzZ/z3LC0tiampqQTVCU9xcTFxcXEhAIixsTGJj4+XtKRWBzUkEaitrRX6u9HR0URXV5coKyuTDRs2kMrKSgaViQ4T5ispysvLyciRI0mnTp1IWlqapOUwCo/HI6ampmT48OFSOUoqKCggVlZWBABZtWoVqaqqqvf+6dOnCQCSlJQkIYWCw+PxSEBAAOncuTNRV1cn+/fvl7rZjdYCNSQJ8vbtW7Jq1SqioKBABg0aRO7duydpSZ9EFPOVBC9fviT6+vqkZ8+eJDc3V9JyGOXy5csEALl06ZKkpdTj2rVrREtLi3Tp0oVcvny50c9UVVWRbt26kYULF7awOuFISUkh5ubmBADhcDjkxYsXkpbUqqGGJAUkJCSQwYMHE3l5ebJ8+XJSXl4uaUmtgpycHNKjRw9iYGBASkpKJC2HMXg8HhkxYgQZMWKEVIySqquryS+//ELk5OTImDFjPnvT/u2330i7du3Iq1evWkih4Lx584Z4enoSRUVF0q9fP3Lt2jVJS/oioIYkJVRVVZEtW7YQFRUV0qdPH3Ljxg1JS2oVPHz4kGhoaBAzMzPy9u1bScthjEuXLhEAnxyJtBQ5OTnEzMyMKCgokE2bNjVrKisnJ4coKCiQAwcOtIBCwQkPDydff/01UVFRIevXryfv3r2TtKQvBmpIUkZ6ejp/imDevHmktLRU0pJknjt37pC2bdsSGxsbUl1dLWk5jMDj8cjw4cOJqampxEZJ4eHhRENDg+jo6JCYmBiBvjt58mQycOBAqRjh1ZGVlUW+//57AoCMHz+eZGZmSlrSFwc1JCmktraWHDhwgLRv3550796d/PXXX5KWJPNERkYSBQUFMnfuXKm6CYpCZGQkAUCuXLnSosd99+4dWbp0KQFAbGxsSHFxscBt1K2DxcbGikGhYFRVVZHt27eTtm3bku7du5PQ0NBW8zcia1BDkmKys7PJxIkTCQAybdo0kp+fL2lJMk1gYCABQH755RdJS2EEHo9Hhg4dSkaOHNliN9CMjAzCYrGIkpIS2b17t9DHra2tJX369CEcDodhhYIRExNDDAwMiLy8PFmyZAkpKyuTqJ4vHWpIUg6PxyNBQUGkU6dORENDgxw7doz23kRgx44dBADZu3evpKUwwoULFwiAFll0DwkJIe3btyd9+/ZlZA/Ojh07iLKyMiksLGRAnWAUFRURZ2dnAoAMGzaMJCQktLgGSkOoIckIH6YfsrKyqrfZkCIYHh4eRE5Ojpw8eVLSUkSGx+MRY2NjYm5uLraOSnl5OX9D6IwZMxgbRRQXFxMVFRWydetWRtprDrW1tcTPz4906tSJdOjQgfj6+tI9RVIENSQZIyIigmhraxM1NTXi4+Mjc/uDpIHa2loya9YsoqSkRK5evSppOSITERFBAJDr168z3nZKSgrR19cnqqqqxM/Pj3HTc3R0JL169WqRv+Pk5GQycuRIAoDMmjWLToFLIdSQZJAP0w+ZmppKXfohWaCqqopMmDCBtGvXTuZTwPB4PMJiscioUaMYbfPw4cNEVVWV6Ovrk5SUFMba/pDbt2+LPRXS69evyYoVK4iCggIZMGAA3VIhxVBDkmE+TD+0cePGBmlaKE3z5s0bMmzYMKKpqUkeP34saTkiER4eTgCQqKioBu8JOvooKysj9vb2BACZP3++WDdq83g8MnjwYGJtbS2W9s+dO0d69OhB2rRpQzZt2iR1Kboo9aGGJOO8ffuWeHp6ykT6IWmkqKiI9O/fn/Tq1Uum08LweDxiZGRE2Gw2Pw8hy8ioXh5ClpHRZ/MQ3rt3j/Tp04e0b9++xdbYDh06ROTl5UlWVla910WZxnv69CmxtrYmAMh3331Hnjx5IqpMSgtADamVwOVy+emHVqxYQdMPCUBWVhbR1tYmhoaGMl1KwNfXlyjIy/Mztc/+7lvy+5IFxO/nn8jvSxaQ2d/9/0ztFmx2vUztPB6P7Nq1iygpKRFjY+MW3RT6+vVr0r59e+Ls7Cy0kdZRWVlJtmzZQlRVVYmOjg4JCwujUakyBDWkVsSH6Yf69u3b6PQNpXEePHhAOnToQNhsdrMKyElbMEldLauvtbqQsC1eTdayCtviVa+WVXFxMZk0aRIBQH766acWn9bKyMggPXR0hDLSD4mOjiZ6enpEQUGBLFu2TKpz5VEahxpSKyQ9PZ2YmZnx1wBkudffksTExJA2bdoQOzu7BqHAokyDiZugoCCRqv1qaGiQTp06kYiICIloV1VVJb20uwlspHUUFhaS2bNn82uMJSYmtvh5UJhBjhBCmC+MTpE0PB4Phw4dwsqVK/HVV1/B19cXNjY2kpYl9YSHh2PKlCmYN28eDhw4gCdPnmD+vHmIunkT2l008a2xIQx1++ArtbZ4Vf4WSRlPcC0+CXmFRbBgs3H4yBH07du3xfRmZGTA0NAQU0ebIsDLA/Ly8s3+Lo/Hw+z1O3HqWjRuREXB3NxcjEobEhwcjJkzZ2KmlSUOrHSHmmqbz36nvOIdFm33wYnLN3Ds2DFUVFTA09MTALBt2zbMnTtXoN8BRbqghtTKyc7OhqurKyIjIzF9+nTs3bsXXbp0kbQsqebo0aOYO3cupkyZgosXL6KbRkfscJsLa7MRUFRUaPD5mppaRMTewYp9/nhRUgp/f3/MmDGjRbRaWlggO/MxEo8daNYN/WPKK97BcNYifK3bDzeiosSgsHFENdI5G7xx8upN1NTWYvbs2dixYwc0NTXFqJjSElBD+gIghCAkJASLFy8GIQS7d+/GzJkzIScnJ2lpUsv06dMRGhqKmePHwFeI3vuJEyfA4XDEqpHL5cLY2BhhW7xgyx4pdDtnbsZi6uqN4HK5MDIyYlDhp2HCSA0489Gpmza4CQliUEiRBHRs+wUgJycHDoeDtLQ0WFlZwdHREd999x2ys7MlLU0qycjIQEREBGaOH4M/vDyafcNUU22DAC8PzLSyhIuLCzIzM8Wq848//oBO1y6wNhshUjs2ZibQ7qKJgIAAhpQ1DZfLRdTNm9j+41yhzAh4/7v2XjIfCffvI4EaUquBGtIXhKamJoKDgxEREYEHDx5AX18f+/fvB4/Hk7Q0qWLB/Pno3qkjfFe6C7weIS8vjwMr3dFNoyPmz5snJoXvuR0XhzGsQY1OIwqCoqICxrAMcef2bYaUNY2sGilF/FBD+gKZNGkSUlNTMXPmTLi5uWHUqFFIT0+XtCypgKne+3Y3Z0TdvCnW3ntKaioMdfsw0pahbm88SElhpK3PIatGShE/1JC+UNTV1eHr64ubN2+isLAQhoaG2Lx5M6qrqyUtTaLISu+dx+OhsrISX6m1ZaQ99XZqqKysZHS0XFtbi4qKCrx69QovX75Efn4+srOzkZKSIpNGShE/ipIWQJEso0ePRlJSEtatW4fffvsNoaGh8Pf3B4vFkrQ0iSANvXdCCGpra1FdXc1/VFVV8f999uwZEhMToaiggFflb0XSWUfZm3IoKijA2dmZf6zGjt/Uax8/bypeShxGSsO9ZR9qSBSoqqpi69atmDZtGubOnYvhw4fDw8MDa9euhaqqqqTltSgpqalwMJ/DSFuGur0RdMUfbDa72Tfxuteag6KCApIynjCiNSnjX7Rt2xaZmZlQUlKCkpISlJWVoaysDDU1Nf7zuvc+/Iwgz5WUlGBjbc2okaqoqFAzaiVQQ6LwMTIywt27d7Fz506sW7cOZ86cgZ+fH0aPHi1paS2COKbBamtr0b17d/7N/VM3a0VFRZSXlyM/Px+5ubnIycnBs2fP8ObNGwCAhoYG+vXrhwEDBkBPTw8GBgYIDAzE1RvXUVNTK9KIrqamFte5SXCcPRs+Pj6MnHtTDBw4kFEjHWhgwEhbFMlDDYlSDyUlJaxevRpTpkyBi4sL2Gw2FixYgG3btkFdXV3S8sSKvLw8VFRUGO+9BwcH13udEIK8vDxwuVzEx8fj7t27iI+PR1FREQBAS0sLxsbGmDp1KoyNjcFisaClpdWg/a5du+LUqVOIiL0j0j6k8NjbyCssgpOTk9BtCIKJqSnOhp5izEhtp01nUB1FklBDojRK//79ER0djYMHD8LT0xPnz5+Hr68vrK2tJS1NLFRVVeH69etQ/+orxnvvz58/55tPfHw8uFwuCgoKALw3FWNjY7i6uvLNp3v37s1q38jICBZsNlbs88e44SyhN5iu3HcUFmx2i22KdXJywr59+2TOSCnih2ZqoHyW7OxsLFy4EBcvXoS9vT327NnTKtIPVVRU4PLlywgLC0NERATKysqgrq6OtkoKyDp7XOTee8/Js/Cq4h3evn0/4tLU1OSbTt2/2traImXMyMzMxKBBg4ROweO0wRuno+OQnJzcojn4LC0skJXxGEnHZSvlEUW80JVAymfp2bMnLly4gBMnTuDq1avQ09NDUFBQk1FU0srr169x6tQpTJs2DZqamrC1tcX9+/exZMkSJCUl4fr163hRXIKI2DsiHSc89jbyX5bA3t4eZ86cQXZ2NgoKChAZGYkNGzbg+++/h46Ojsjpm/r27Qt/f3+cuHwDThu8UV7xrlnfK694B6cN3jhx+Qb8/f1b1IwA4PCRI3hRUopF230EDjXn8XhYtN0HL0pKcfjIETEppEgCOkKiCERhYSGWLFmCkydPYsKECTh48CB69uwpcDstGaZbWlqKiIgIhIWF4fLly6isrASLxYKdnR2mTJmC/v371/u8LPbeg4OD4eLigm4aHbHdzRk2ZiafTAQbHnsbK/cdbfFEsB8TEhICBwcHobN9BwUFSUw7RTxQQ6IIRUREBFxdXVFWVoZt27Zh4cKFTRpMQkICAgICcDsuDimpqaisrISKigoM9PVhYmoKJycnRtcwioqKcO7cOYSFheH69euoqamBqakp34S++eabT3733r17MDc3xw8WZvhDhqbBMjMz65XKGMMyhKFub6i3U0PZm3IkZfyL69z3pTIsLSxw6PDhFh8ZfYwsGilFfFBDoghNWVkZPD09cejQIZiZmcHPz6/BaOPjm6Q46wnl5eXh7NmzCAsLw99//w3g/cZfOzs72NraNhosUFJSAi6Xyw864HK5ePbsGf99h/GWOLhysUz13uvM/87t23iQksI3/4EGBhhhYsK4+YuKLBopRTxQQ6KITHR0NFxcXJCTk4M1a9Zg+fLlUFJSqtf7FVc9oadPn+LMmTMICwvD7du3oaSkhDFjxsDOzg7ff/99vRo5paWlSEhIqGc+//77LwCgffv2YLFY9QIO/vnnH8yfP1/me++yksVA1oyUwjzUkCiMUFFRgXXr1mHnzp0YOHAgpk6dCi8vL6HXB5qqJ/To0SOEhYUhLCwMCQkJUFFRwfjx42FnZwdra2t06NABZWVlSEhI4BtPfHw8njx5H87drl07GBkZ1TMfXV3dRm/atPcuOWTFSCnMQQ2JwihcLhczZ87E48ePwBlnycgaDCEEDx484JtQamoq1NTUMHHiRNjZ2cHMzAwZGRn1zCcjIwMA0LZt23rmY2xsDF1dXSgoCBbSTXvvFIr4oYZEYRwLNhtZGY+QfOKgSFFqGlrdMObbbxEWFobMzEyoq6tjwoQJGDhwIBQUFJCcnAwul4tHjx4BeJ+Tb8iQIfX2+vTv319g82kOtPdOoTAPNSQKozBdVrtdu3YwMDBA27Zt8fz5czx69AiEELRp0waDBw+uZz4DBgyAoiJNPkKhyCrUkCiM4u7ujnN/huLf0wEiZzro8b0DCkr+g4qKCgwNDflTbiwWC3p6etR8KJRWBr2iKYzCZD0hq+HG4GY9x/3ERCgpKTGkkEKhSCt0EpzCKEyX1c588oSaEYXyhUANicIYslBWm0KhSC/UkCiMIa56QjSajUL5MqBXOoVRDPT1aTVQCoUiFNSQKIxiYmqKa/FJqKmpFamdumqgI0xMGFJGoVCkHWpIFEZxcnJCXmERI/WEaDVQCuXLgu5DojCOLNYTolAokoeOkCiMQ6uBUigUYaCGRGEcWS2rTaFQJAudsqOIDVoNlEKhCAI1JIpYofWEKBRKc6GGRGkRaD0hCoXyOaghUSQCrSdEoVA+hhoShUKhUKQC2kWlUCgUilRADYlCoVAoUgE1JAqFQqFIBdSQKBQKhSIVUEOiUCgUilRADYlCoVAoUgE1JAqFQqFIBf8PW7PEVyEXZWEAAAAASUVORK5CYII=\n",
      "text/plain": [
       "Graphics object consisting of 61 graphics primitives"
      ]
     },
     "execution_count": 4,
     "metadata": {},
     "output_type": "execute_result"
    }
   ],
   "source": [
    "G = nanotorus(4,2,-2,4)\n",
    "print(G.is_vertex_transitive(), G.order(), G.size(), G.degree().count(3) == len(G.degree()), G.diameter())\n",
    "#(tranzitivnost, št. vozlišč, št. povezav, vse točke reda 3, premer)\n",
    "G.plot(vertex_labels=False) "
   ]
  },
  {
   "cell_type": "code",
   "execution_count": 7,
   "metadata": {},
   "outputs": [
    {
     "name": "stdout",
     "output_type": "stream",
     "text": [
      "(True, 480, 720, True, 36)\n"
     ]
    },
    {
     "data": {
      "image/png": "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\n",
      "text/plain": [
       "Graphics object consisting of 721 graphics primitives"
      ]
     },
     "execution_count": 7,
     "metadata": {},
     "output_type": "execute_result"
    }
   ],
   "source": [
    "G = nanotorus(-7,5,13,25)\n",
    "print(G.is_vertex_transitive(), G.order(), G.size(), G.degree().count(3) == len(G.degree()), G.diameter())\n",
    "#(tranzitivnost, št. vozlišč, št. povezav, vse točke reda 3, premer)\n",
    "G.plot(vertex_labels=False) "
   ]
  },
  {
   "cell_type": "code",
   "execution_count": 30,
   "metadata": {},
   "outputs": [
    {
     "name": "stdout",
     "output_type": "stream",
     "text": [
      "(True, 1310, 1965, True, 35)\n"
     ]
    },
    {
     "data": {
      "image/png": "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\n",
      "text/plain": [
       "Graphics object consisting of 1966 graphics primitives"
      ]
     },
     "execution_count": 30,
     "metadata": {},
     "output_type": "execute_result"
    }
   ],
   "source": [
    "G = nanotorus(10,-35,13,20)\n",
    "print(G.is_vertex_transitive(), G.order(), G.size(), G.degree().count(3) == len(G.degree()), G.diameter())\n",
    "#(tranzitivnost, št. vozlišč, št. povezav, vse točke reda 3, premer)\n",
    "G.plot(vertex_labels=False, vertex_size = 0.1) "
   ]
  },
  {
   "cell_type": "code",
   "execution_count": 2,
   "metadata": {},
   "outputs": [
    {
     "name": "stdout",
     "output_type": "stream",
     "text": [
      "(True, 40, 60, True, 10)\n"
     ]
    },
    {
     "data": {
      "image/png": "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\n",
      "text/plain": [
       "Graphics object consisting of 61 graphics primitives"
      ]
     },
     "execution_count": 2,
     "metadata": {},
     "output_type": "execute_result"
    }
   ],
   "source": [
    "G = nanotorus(2,0,-5,10)\n",
    "print(G.is_vertex_transitive(), G.order(), G.size(), G.degree().count(3) == len(G.degree()), G.diameter())\n",
    "#(tranzitivnost, št. vozlišč, št. povezav, vse točke reda 3, premer)\n",
    "G.plot(vertex_labels=False) "
   ]
  },
  {
   "cell_type": "code",
   "execution_count": 2,
   "metadata": {},
   "outputs": [
    {
     "data": {
      "text/plain": [
       "14"
      ]
     },
     "execution_count": 2,
     "metadata": {},
     "output_type": "execute_result"
    }
   ],
   "source": [
    "len(nanotorus(3, 1, 5, 0).edges())"
   ]
  },
  {
   "cell_type": "markdown",
   "metadata": {},
   "source": [
    "## Iskanje formule za IZOMORFNOST"
   ]
  },
  {
   "cell_type": "code",
   "execution_count": 49,
   "metadata": {},
   "outputs": [
    {
     "name": "stdout",
     "output_type": "stream",
     "text": [
      "-10,-10,0,2\n",
      "-10,-10,2,0\n",
      "-10,-9,0,-2\n",
      "-10,-9,0,2\n",
      "-10,-8,0,-2\n",
      "-10,-8,0,2\n",
      "-10,-7,0,-2\n",
      "-10,-7,0,2\n",
      "-10,-6,0,-2\n",
      "-10,-6,0,2\n",
      "-10,-5,0,-2\n",
      "-10,-5,0,2\n",
      "-10,-4,0,-2\n",
      "-10,-4,0,2\n",
      "-10,-3,0,-2\n",
      "-10,-3,0,2\n",
      "-10,-2,0,-2\n",
      "-10,-2,0,2\n",
      "-10,-1,-10,1\n",
      "-10,-1,0,-2\n",
      "-10,-1,0,2\n",
      "-10,0,-2,2\n",
      "-10,0,0,-2\n",
      "-10,0,0,2\n",
      "-10,0,2,-2\n",
      "-10,1,-10,-1\n",
      "-10,1,0,-2\n",
      "-10,1,0,2\n",
      "-10,2,0,-2\n",
      "-10,2,0,2\n",
      "-10,3,0,-2\n",
      "-10,3,0,2\n",
      "-10,4,-10,6\n",
      "-10,4,0,-2\n",
      "-10,4,0,2\n",
      "-10,5,0,-2\n",
      "-10,5,0,2\n",
      "-10,6,-10,4\n",
      "-10,6,0,-2\n",
      "-10,6,0,2\n",
      "-10,7,0,-2\n",
      "-10,7,0,2\n",
      "-10,8,0,-2\n",
      "-10,8,0,2\n",
      "-10,9,0,-2\n",
      "-10,9,0,2\n",
      "-9,-10,-2,0\n",
      "-9,-10,2,0\n",
      "-9,-1,-2,2\n",
      "-9,-1,2,-2\n",
      "-8,-10,-2,0\n",
      "-8,-10,2,0\n",
      "-8,-2,-2,2\n",
      "-8,-2,2,-2\n",
      "-7,-10,-2,0\n",
      "-7,-10,2,0\n",
      "-7,-3,-2,2\n",
      "-7,-3,2,-2\n",
      "-6,-10,-2,0\n",
      "-6,-10,2,0\n",
      "-6,-4,-4,-6\n",
      "-6,-4,-2,2\n",
      "-6,-4,2,-2\n",
      "-6,-4,4,6\n",
      "-5,-10,-2,0\n",
      "-5,-10,2,0\n",
      "-5,-5,-2,2\n",
      "-5,-5,2,-2\n",
      "-4,-10,-2,0\n",
      "-4,-10,2,0\n",
      "-4,-6,-6,-4\n",
      "-4,-6,-2,2\n",
      "-4,-6,2,-2\n",
      "-4,-6,6,4\n",
      "-3,-10,-2,0\n",
      "-3,-10,2,0\n",
      "-3,-7,-2,2\n",
      "-3,-7,2,-2\n",
      "-2,-10,-2,0\n",
      "-2,-10,2,0\n",
      "-2,-8,-2,2\n",
      "-2,-8,2,-2\n",
      "-2,0,-9,-10\n",
      "-2,0,-8,-10\n",
      "-2,0,-7,-10\n",
      "-2,0,-6,-10\n",
      "-2,0,-5,-10\n",
      "-2,0,-4,-10\n",
      "-2,0,-3,-10\n",
      "-2,0,-2,-10\n",
      "-2,0,-1,-10\n",
      "-2,0,0,-10\n",
      "-2,0,1,-10\n",
      "-2,0,2,-10\n",
      "-2,0,3,-10\n",
      "-2,0,4,-10\n",
      "-2,0,5,-10\n",
      "-2,0,6,-10\n",
      "-2,0,7,-10\n",
      "-2,0,8,-10\n",
      "-2,0,9,-10\n",
      "-2,2,-10,0\n",
      "-2,2,-9,-1\n",
      "-2,2,-8,-2\n",
      "-2,2,-7,-3\n",
      "-2,2,-6,-4\n",
      "-2,2,-5,-5\n",
      "-2,2,-4,-6\n",
      "-2,2,-3,-7\n",
      "-2,2,-2,-8\n",
      "-2,2,-1,-9\n",
      "-2,2,0,-10\n",
      "-2,2,1,9\n",
      "-2,2,2,8\n",
      "-2,2,3,7\n",
      "-2,2,4,6\n",
      "-2,2,5,5\n",
      "-2,2,6,4\n",
      "-2,2,7,3\n",
      "-2,2,8,2\n",
      "-2,2,9,1\n",
      "-1,-10,-2,0\n",
      "-1,-10,1,-10\n",
      "-1,-10,2,0\n",
      "-1,-9,-2,2\n",
      "-1,-9,2,-2\n",
      "0,-10,-2,0\n",
      "0,-10,-2,2\n",
      "0,-10,2,-2\n",
      "0,-10,2,0\n",
      "0,-2,-10,-9\n",
      "0,-2,-10,-8\n",
      "0,-2,-10,-7\n",
      "0,-2,-10,-6\n",
      "0,-2,-10,-5\n",
      "0,-2,-10,-4\n",
      "0,-2,-10,-3\n",
      "0,-2,-10,-2\n",
      "0,-2,-10,-1\n",
      "0,-2,-10,0\n",
      "0,-2,-10,1\n",
      "0,-2,-10,2\n",
      "0,-2,-10,3\n",
      "0,-2,-10,4\n",
      "0,-2,-10,5\n",
      "0,-2,-10,6\n",
      "0,-2,-10,7\n",
      "0,-2,-10,8\n",
      "0,-2,-10,9\n",
      "0,2,-10,-10\n",
      "0,2,-10,-9\n",
      "0,2,-10,-8\n",
      "0,2,-10,-7\n",
      "0,2,-10,-6\n",
      "0,2,-10,-5\n",
      "0,2,-10,-4\n",
      "0,2,-10,-3\n",
      "0,2,-10,-2\n",
      "0,2,-10,-1\n",
      "0,2,-10,0\n",
      "0,2,-10,1\n",
      "0,2,-10,2\n",
      "0,2,-10,3\n",
      "0,2,-10,4\n",
      "0,2,-10,5\n",
      "0,2,-10,6\n",
      "0,2,-10,7\n",
      "0,2,-10,8\n",
      "0,2,-10,9\n",
      "1,-10,-2,0\n",
      "1,-10,-1,-10\n",
      "1,-10,2,0\n",
      "1,9,-2,2\n",
      "1,9,2,-2\n",
      "2,-10,-2,0\n",
      "2,-10,2,0\n",
      "2,-2,-10,0\n",
      "2,-2,-9,-1\n",
      "2,-2,-8,-2\n",
      "2,-2,-7,-3\n",
      "2,-2,-6,-4\n",
      "2,-2,-5,-5\n",
      "2,-2,-4,-6\n",
      "2,-2,-3,-7\n",
      "2,-2,-2,-8\n",
      "2,-2,-1,-9\n",
      "2,-2,0,-10\n",
      "2,-2,1,9\n",
      "2,-2,2,8\n",
      "2,-2,3,7\n",
      "2,-2,4,6\n",
      "2,-2,5,5\n",
      "2,-2,6,4\n",
      "2,-2,7,3\n",
      "2,-2,8,2\n",
      "2,-2,9,1\n",
      "2,0,-10,-10\n",
      "2,0,-9,-10\n",
      "2,0,-8,-10\n",
      "2,0,-7,-10\n",
      "2,0,-6,-10\n",
      "2,0,-5,-10\n",
      "2,0,-4,-10\n",
      "2,0,-3,-10\n",
      "2,0,-2,-10\n",
      "2,0,-1,-10\n",
      "2,0,0,-10\n",
      "2,0,1,-10\n",
      "2,0,2,-10\n",
      "2,0,3,-10\n",
      "2,0,4,-10\n",
      "2,0,5,-10\n",
      "2,0,6,-10\n",
      "2,0,7,-10\n",
      "2,0,8,-10\n",
      "2,0,9,-10\n",
      "2,8,-2,2\n",
      "2,8,2,-2\n",
      "3,-10,-2,0\n",
      "3,-10,2,0\n",
      "3,7,-2,2\n",
      "3,7,2,-2\n",
      "4,-10,-2,0\n",
      "4,-10,2,0\n",
      "4,-10,6,-10\n",
      "4,6,-6,-4\n",
      "4,6,-2,2\n",
      "4,6,2,-2\n",
      "4,6,6,4\n",
      "5,-10,-2,0\n",
      "5,-10,2,0\n",
      "5,5,-2,2\n",
      "5,5,2,-2\n",
      "6,-10,-2,0\n",
      "6,-10,2,0\n",
      "6,-10,4,-10\n",
      "6,4,-4,-6\n",
      "6,4,-2,2\n",
      "6,4,2,-2\n",
      "6,4,4,6\n",
      "7,-10,-2,0\n",
      "7,-10,2,0\n",
      "7,3,-2,2\n",
      "7,3,2,-2\n",
      "8,-10,-2,0\n",
      "8,-10,2,0\n",
      "8,2,-2,2\n",
      "8,2,2,-2\n",
      "9,-10,-2,0\n",
      "9,-10,2,0\n",
      "9,1,-2,2\n",
      "9,1,2,-2\n"
     ]
    }
   ],
   "source": [
    "# G = nanotorus(2,0,-5,10)\n",
    "\n",
    "# def izomorfna(F, G):\n",
    "#     try:\n",
    "#         return F.is_isomorphic(G)\n",
    "#     except AttributeError:\n",
    "#         return False\n",
    "\n",
    "# for k in range(-10, 10):\n",
    "#     for l in range(-10, 10):\n",
    "#         for m in range(-10, 10):\n",
    "#             for n in range(-10, 10):\n",
    "#                 if izomorfna(nanotorus(k,l,m,n),G):\n",
    "#                     print('{},{},{},{}'.format(k,l,m,n))\n"
   ]
  },
  {
   "cell_type": "code",
   "execution_count": 31,
   "metadata": {},
   "outputs": [],
   "source": [
    "# razsirjen evklidov algoritem\n",
    "def EEA(a, b):\n",
    "     # vrne (x, y) da a * x + b * y = gcd(a, b)\n",
    "    x0, x1, y0, y1 = 0, 1, 1, 0\n",
    "    while a != 0:\n",
    "        q, b, a = b // a, a, b % a\n",
    "        y0, y1 = y1, y0 - q * y1\n",
    "        x0, x1 = x1, x0 - q * x1\n",
    "    return x0, y0\n",
    "\n",
    "def izomorfni_graf(k, l, m, n):\n",
    "    # hocemo dobiti graf oblike (0, l', m', n'), ki je izomorfen (k, l, m, n)\n",
    "    # a * (k, l) = b * (m, n) + (0, c) # kateri vodoravni (desno dol) vektor povezuje (0, 0) - izhodišče \n",
    "    # in naslednjo (0, 0) točko. x in y bomo potrebovali kasneje\n",
    "    d, x, y = xgcd(m, k)\n",
    "    d = abs(d)\n",
    "    a = m / d\n",
    "    b = k / d\n",
    "    c = abs(a * l - b * n) # = (m * l - k * n) / d\n",
    "    \n",
    "    # stevilo sestkotnikov = c * d = m * l - n * k = det([[k, l], [m, n]])\n",
    "    # iscemo paralelogram druge oblike z istim stevilom seskotnikov, zato mora veljati:\n",
    "    # det([[k, l], [m, n]]) = c * d = det([[0, l'], [m', n']]) ... se absolutne vrednosti\n",
    "    # sledi: abs(c * d) = abs(m' * l')\n",
    "    # iz konstrukcije: na zacetku smo fiksirali (0, l') = (0, c), torej l' = c in m' = d \n",
    "    # (Dobili bomo en graf, ki je izomorfen in ne vseh)\n",
    "    \n",
    "    ll = c\n",
    "    mm = d\n",
    "    \n",
    "    # veljati mora tudi (m', n') = x * (k, l) + y * (m, n) \n",
    "    # (z x vektorji (k, l) in y vektorji (m, n) moramo priti v točko (m', n'), ker mora biti oblike (0, 0) )\n",
    "    # Iz prvega pogoja dobimo enačbo m' = d = gcd(m, k) = x * k + y * n. Poracunamo x in y:\n",
    "    # x, y = EEA(k, m) ---> to smo dobili že na začetku\n",
    "    \n",
    "    # iz drugega pogoja poracunamo:\n",
    "    \n",
    "    nn = x * l + y * n \n",
    "    \n",
    "    # da bi dobili več različni izomorfnih nanotorov, bi lahko vzeli nn po mod(l')\n",
    "    # l' = c (toliko stolpcev je med dvema sestkotnikoma oblike (0, 0) v doloceni vrstici)\n",
    "    \n",
    "    # vrnemo nanotorus(0, l', m', n')\n",
    "    return nanotorus(0, ll, mm, nn)\n",
    "\n",
    "\n",
    "## predlagana razlicica iz issueja ###\n",
    "def izomorfni_graf2(k, l, m, n):\n",
    "    ll = gcd(l, n)\n",
    "    mm = abs(k * n - l * m) / ll\n",
    "    \n",
    "    x, y = EEA(l, n)\n",
    "    kk = k * x + n * y\n",
    "    \n",
    "    return nanotorus(kk, ll, mm, 0)"
   ]
  },
  {
   "cell_type": "code",
   "execution_count": 32,
   "metadata": {},
   "outputs": [
    {
     "data": {
      "text/plain": [
       "False"
      ]
     },
     "execution_count": 32,
     "metadata": {},
     "output_type": "execute_result"
    }
   ],
   "source": [
    "nanotorus(3, 1, 1, 2).is_isomorphic(izomorfni_graf(3, 1, 1, 2))"
   ]
  },
  {
   "cell_type": "code",
   "execution_count": 25,
   "metadata": {},
   "outputs": [
    {
     "data": {
      "text/plain": [
       "(True, 10)"
      ]
     },
     "execution_count": 25,
     "metadata": {},
     "output_type": "execute_result"
    }
   ],
   "source": [
    "G = nanotorus(1, 3, 2, 1)\n",
    "H = nanotorus(-2, 1, 5, 0)\n",
    "G.is_isomorphic(H),  H.order()"
   ]
  },
  {
   "cell_type": "code",
   "execution_count": 24,
   "metadata": {},
   "outputs": [
    {
     "data": {
      "text/plain": [
       "(False, 10)"
      ]
     },
     "execution_count": 24,
     "metadata": {},
     "output_type": "execute_result"
    }
   ],
   "source": [
    "G = nanotorus(1, 3, 2, 1)\n",
    "H = nanotorus(-5, 1, 5, 0)\n",
    "G.is_isomorphic(H), H.order()"
   ]
  },
  {
   "cell_type": "code",
   "execution_count": 26,
   "metadata": {},
   "outputs": [
    {
     "data": {
      "text/plain": [
       "(False, 10)"
      ]
     },
     "execution_count": 26,
     "metadata": {},
     "output_type": "execute_result"
    }
   ],
   "source": [
    "G = nanotorus(1, 3, 2, 1)\n",
    "H = nanotorus(-10, 1, 5, 0)\n",
    "G.is_isomorphic(H), H.order()"
   ]
  },
  {
   "cell_type": "code",
   "execution_count": 42,
   "metadata": {},
   "outputs": [
    {
     "name": "stdout",
     "output_type": "stream",
     "text": [
      "(-1, False, 10)\n",
      "(0, True, 10)\n",
      "(1, False, 10)\n",
      "(2, False, 10)\n"
     ]
    }
   ],
   "source": [
    "G = nanotorus(1, 3, 2, 1)\n",
    "for i in range(-1,3):\n",
    "    H = nanotorus(-2 + 5*i, 1, 5, 0)\n",
    "    print(i, G.is_isomorphic(H), H.order())"
   ]
  },
  {
   "cell_type": "markdown",
   "metadata": {},
   "source": [
    "## Iskanje formule za ŠTEVILO TOČK DO DANE RAZDALJE:"
   ]
  },
  {
   "cell_type": "code",
   "execution_count": 71,
   "metadata": {},
   "outputs": [
    {
     "name": "stdout",
     "output_type": "stream",
     "text": [
      "(1, 0, 5, 2)\n",
      "(1, 0, 7, 2)\n",
      "(2, 0, 4, 1)\n",
      "(3, 0, 7, 1)\n"
     ]
    }
   ],
   "source": [
    "# (k, l, m, n) izomorfen (k', 0, m', n')?\n",
    "H = nanotorus(1, 2, 3, 4)\n",
    "for k in range(1, 8):\n",
    "    for m in range(1, 8):\n",
    "        for n in range(1, 8):\n",
    "            G = nanotorus(k, 0, m, n)\n",
    "            if(H.is_isomorphic(G)):\n",
    "                print (k,0,m,n)"
   ]
  },
  {
   "cell_type": "code",
   "execution_count": 82,
   "metadata": {},
   "outputs": [
    {
     "data": {
      "text/plain": [
       "True"
      ]
     },
     "execution_count": 82,
     "metadata": {},
     "output_type": "execute_result"
    }
   ],
   "source": [
    "nanotorus(10,-10,0,2).is_isomorphic(nanotorus(2,0,-5,10))"
   ]
  },
  {
   "cell_type": "code",
   "execution_count": 9,
   "metadata": {},
   "outputs": [
    {
     "data": {
      "text/plain": [
       "True"
      ]
     },
     "execution_count": 9,
     "metadata": {},
     "output_type": "execute_result"
    }
   ],
   "source": [
    "nanotorus(2,0,0,10).is_isomorphic(nanotorus(2,0,-5,10))"
   ]
  },
  {
   "cell_type": "code",
   "execution_count": 57,
   "metadata": {},
   "outputs": [
    {
     "name": "stdout",
     "output_type": "stream",
     "text": [
      "1 tock na razdalji 0\n",
      "3 tock na razdalji 1\n",
      "5 tock na razdalji 2\n",
      "7 tock na razdalji 3\n",
      "9 tock na razdalji 4\n",
      "11 tock na razdalji 5\n",
      "13 tock na razdalji 6\n",
      "15 tock na razdalji 7\n",
      "17 tock na razdalji 8\n",
      "19 tock na razdalji 9\n"
     ]
    },
    {
     "data": {
      "text/plain": [
       "{V(1a, 0b), U(0a, 0b), V(1a, 9b)}"
      ]
     },
     "execution_count": 57,
     "metadata": {},
     "output_type": "execute_result"
    }
   ],
   "source": [
    "J = nanotorus(1,0,0,10)\n",
    "r = J.diameter()\n",
    "for i in range(r):\n",
    "    print(\"{} tock na razdalji {}\".format(len(vozlisca_na_razdalji_d(J, U(0,0), set(), i)), i))\n",
    "vozlisca_na_razdalji_d(J, U(0,0), set(), 1)"
   ]
  },
  {
   "cell_type": "code",
   "execution_count": 85,
   "metadata": {},
   "outputs": [
    {
     "name": "stdout",
     "output_type": "stream",
     "text": [
      "1 tock na razdalji 0\n",
      "4 tock na razdalji 1\n",
      "9 tock na razdalji 2\n",
      "14 tock na razdalji 3\n",
      "18 tock na razdalji 4\n",
      "22 tock na razdalji 5\n",
      "26 tock na razdalji 6\n",
      "30 tock na razdalji 7\n",
      "34 tock na razdalji 8\n",
      "38 tock na razdalji 9\n"
     ]
    },
    {
     "data": {
      "text/plain": [
       "{V(2a, 0b), U(0a, 0b), V(1a, 9b), V(2a, 9b)}"
      ]
     },
     "execution_count": 85,
     "metadata": {},
     "output_type": "execute_result"
    }
   ],
   "source": [
    "J = nanotorus(2,0,0,10)\n",
    "r = J.diameter()\n",
    "for i in range(r):\n",
    "    print(\"{} tock na razdalji {}\".format(len(vozlisca_na_razdalji_d(J, U(0,0), set(), i)), i))\n",
    "vozlisca_na_razdalji_d(J, U(0,0), set(), 1)"
   ]
  },
  {
   "cell_type": "code",
   "execution_count": 86,
   "metadata": {},
   "outputs": [
    {
     "name": "stdout",
     "output_type": "stream",
     "text": [
      "1 tock na razdalji 0\n",
      "4 tock na razdalji 1\n",
      "10 tock na razdalji 2\n",
      "18 tock na razdalji 3\n",
      "26 tock na razdalji 4\n",
      "33 tock na razdalji 5\n",
      "39 tock na razdalji 6\n",
      "45 tock na razdalji 7\n",
      "51 tock na razdalji 8\n",
      "57 tock na razdalji 9\n"
     ]
    }
   ],
   "source": [
    "J = nanotorus(3,0,0,10)\n",
    "r = J.diameter()\n",
    "for i in range(r):\n",
    "    print(\"{} tock na razdalji {}\".format(len(vozlisca_na_razdalji_d(J, U(0,0), set(), i)), i))"
   ]
  },
  {
   "cell_type": "code",
   "execution_count": 87,
   "metadata": {},
   "outputs": [
    {
     "name": "stdout",
     "output_type": "stream",
     "text": [
      "1 tock na razdalji 0\n",
      "4 tock na razdalji 1\n",
      "10 tock na razdalji 2\n",
      "19 tock na razdalji 3\n",
      "30 tock na razdalji 4\n",
      "41 tock na razdalji 5\n",
      "51 tock na razdalji 6\n",
      "60 tock na razdalji 7\n",
      "68 tock na razdalji 8\n",
      "76 tock na razdalji 9\n"
     ]
    }
   ],
   "source": [
    "J = nanotorus(4,0,0,10)\n",
    "r = J.diameter()\n",
    "for i in range(r):\n",
    "    print(\"{} tock na razdalji {}\".format(len(vozlisca_na_razdalji_d(J, U(0,0), set(), i)), i))"
   ]
  },
  {
   "cell_type": "code",
   "execution_count": 40,
   "metadata": {},
   "outputs": [
    {
     "name": "stdout",
     "output_type": "stream",
     "text": [
      "1 tock na razdalji 0\n",
      "4 tock na razdalji 1\n",
      "9 tock na razdalji 2\n",
      "14 tock na razdalji 3\n",
      "18 tock na razdalji 4\n",
      "22 tock na razdalji 5\n",
      "26 tock na razdalji 6\n",
      "30 tock na razdalji 7\n",
      "34 tock na razdalji 8\n",
      "38 tock na razdalji 9\n"
     ]
    }
   ],
   "source": [
    "J = nanotorus(2,0,-5,10)\n",
    "r = J.diameter()\n",
    "for i in range(r):\n",
    "    print(\"{} tock na razdalji {}\".format(len(vozlisca_na_razdalji_d(J, U(0,0), set(), i)), i))"
   ]
  },
  {
   "cell_type": "code",
   "execution_count": 116,
   "metadata": {},
   "outputs": [
    {
     "name": "stdout",
     "output_type": "stream",
     "text": [
      "1 tock na razdalji 0\n"
     ]
    }
   ],
   "source": [
    "J = nanotorus(1,0,0,1)\n",
    "r = J.diameter()\n",
    "for i in range(r):\n",
    "    print(\"{} tock na razdalji {}\".format(len(vozlisca_na_razdalji_d(J, U(0,0), set(), i)), i))"
   ]
  },
  {
   "cell_type": "code",
   "execution_count": 117,
   "metadata": {},
   "outputs": [
    {
     "name": "stdout",
     "output_type": "stream",
     "text": [
      "1 tock na razdalji 0\n"
     ]
    }
   ],
   "source": [
    "J = nanotorus(0,1,1,0)\n",
    "r = J.diameter()\n",
    "for i in range(r):\n",
    "    print(\"{} tock na razdalji {}\".format(len(vozlisca_na_razdalji_d(J, U(0,0), set(), i)), i))"
   ]
  },
  {
   "cell_type": "code",
   "execution_count": 118,
   "metadata": {},
   "outputs": [
    {
     "name": "stdout",
     "output_type": "stream",
     "text": [
      "1 tock na razdalji 0\n"
     ]
    }
   ],
   "source": [
    "J = nanotorus(-1,0,0,-1)\n",
    "r = J.diameter()\n",
    "for i in range(r):\n",
    "    print(\"{} tock na razdalji {}\".format(len(vozlisca_na_razdalji_d(J, U(0,0), set(), i)), i))"
   ]
  },
  {
   "cell_type": "code",
   "execution_count": 119,
   "metadata": {},
   "outputs": [
    {
     "name": "stdout",
     "output_type": "stream",
     "text": [
      "1 tock na razdalji 0\n"
     ]
    }
   ],
   "source": [
    "J = nanotorus(0,1,1,0)\n",
    "r = J.diameter()\n",
    "for i in range(r):\n",
    "    print(\"{} tock na razdalji {}\".format(len(vozlisca_na_razdalji_d(J, U(0,0), set(), i)), i))"
   ]
  },
  {
   "cell_type": "code",
   "execution_count": 120,
   "metadata": {},
   "outputs": [
    {
     "name": "stdout",
     "output_type": "stream",
     "text": [
      "1 tock na razdalji 0\n",
      "3 tock na razdalji 1\n"
     ]
    }
   ],
   "source": [
    "J = nanotorus(2,0,0,1)\n",
    "r = J.diameter()\n",
    "for i in range(r):\n",
    "    print(\"{} tock na razdalji {}\".format(len(vozlisca_na_razdalji_d(J, U(0,0), set(), i)), i))"
   ]
  },
  {
   "cell_type": "code",
   "execution_count": 124,
   "metadata": {},
   "outputs": [
    {
     "name": "stdout",
     "output_type": "stream",
     "text": [
      "1 tock na razdalji 0\n",
      "3 tock na razdalji 1\n",
      "5 tock na razdalji 2\n"
     ]
    }
   ],
   "source": [
    "J = nanotorus(3,0,0,1)\n",
    "r = J.diameter()\n",
    "for i in range(r):\n",
    "    print(\"{} tock na razdalji {}\".format(len(vozlisca_na_razdalji_d(J, U(0,0), set(), i)), i))"
   ]
  },
  {
   "cell_type": "code",
   "execution_count": 123,
   "metadata": {},
   "outputs": [
    {
     "name": "stdout",
     "output_type": "stream",
     "text": [
      "1 tock na razdalji 0\n",
      "3 tock na razdalji 1\n",
      "5 tock na razdalji 2\n",
      "7 tock na razdalji 3\n",
      "9 tock na razdalji 4\n",
      "11 tock na razdalji 5\n",
      "13 tock na razdalji 6\n",
      "15 tock na razdalji 7\n"
     ]
    }
   ],
   "source": [
    "J = nanotorus(8,0,0,1)\n",
    "r = J.diameter()\n",
    "for i in range(r):\n",
    "    print(\"{} tock na razdalji {}\".format(len(vozlisca_na_razdalji_d(J, U(0,0), set(), i)), i))"
   ]
  },
  {
   "cell_type": "code",
   "execution_count": 125,
   "metadata": {},
   "outputs": [
    {
     "name": "stdout",
     "output_type": "stream",
     "text": [
      "1 tock na razdalji 0\n",
      "4 tock na razdalji 1\n",
      "7 tock na razdalji 2\n"
     ]
    }
   ],
   "source": [
    "J = nanotorus(2,0,0,2)\n",
    "r = J.diameter()\n",
    "for i in range(r):\n",
    "    print(\"{} tock na razdalji {}\".format(len(vozlisca_na_razdalji_d(J, U(0,0), set(), i)), i))"
   ]
  },
  {
   "cell_type": "code",
   "execution_count": 126,
   "metadata": {},
   "outputs": [
    {
     "name": "stdout",
     "output_type": "stream",
     "text": [
      "1 tock na razdalji 0\n",
      "4 tock na razdalji 1\n",
      "9 tock na razdalji 2\n"
     ]
    }
   ],
   "source": [
    "J = nanotorus(3,0,0,2)\n",
    "r = J.diameter()\n",
    "for i in range(r):\n",
    "    print(\"{} tock na razdalji {}\".format(len(vozlisca_na_razdalji_d(J, U(0,0), set(), i)), i))"
   ]
  },
  {
   "cell_type": "code",
   "execution_count": 127,
   "metadata": {},
   "outputs": [
    {
     "name": "stdout",
     "output_type": "stream",
     "text": [
      "1 tock na razdalji 0\n",
      "4 tock na razdalji 1\n",
      "9 tock na razdalji 2\n",
      "14 tock na razdalji 3\n"
     ]
    }
   ],
   "source": [
    "J = nanotorus(4,0,0,2)\n",
    "r = J.diameter()\n",
    "for i in range(r):\n",
    "    print(\"{} tock na razdalji {}\".format(len(vozlisca_na_razdalji_d(J, U(0,0), set(), i)), i))"
   ]
  },
  {
   "cell_type": "code",
   "execution_count": 128,
   "metadata": {},
   "outputs": [
    {
     "name": "stdout",
     "output_type": "stream",
     "text": [
      "1 tock na razdalji 0\n",
      "4 tock na razdalji 1\n",
      "9 tock na razdalji 2\n",
      "14 tock na razdalji 3\n",
      "18 tock na razdalji 4\n",
      "22 tock na razdalji 5\n",
      "26 tock na razdalji 6\n",
      "30 tock na razdalji 7\n"
     ]
    }
   ],
   "source": [
    "J = nanotorus(8,0,0,2)\n",
    "r = J.diameter()\n",
    "for i in range(r):\n",
    "    print(\"{} tock na razdalji {}\".format(len(vozlisca_na_razdalji_d(J, U(0,0), set(), i)), i))"
   ]
  },
  {
   "cell_type": "code",
   "execution_count": 133,
   "metadata": {},
   "outputs": [
    {
     "name": "stdout",
     "output_type": "stream",
     "text": [
      "1 tock na razdalji 0\n",
      "4 tock na razdalji 1\n",
      "10 tock na razdalji 2\n",
      "18 tock na razdalji 3\n",
      "26 tock na razdalji 4\n",
      "33 tock na razdalji 5\n",
      "39 tock na razdalji 6\n",
      "45 tock na razdalji 7\n",
      "51 tock na razdalji 8\n",
      "57 tock na razdalji 9\n"
     ]
    }
   ],
   "source": [
    "J = nanotorus(10,0,0,3)\n",
    "r = J.diameter()\n",
    "for i in range(r):\n",
    "    print(\"{} tock na razdalji {}\".format(len(vozlisca_na_razdalji_d(J, U(0,0), set(), i)), i))"
   ]
  },
  {
   "cell_type": "code",
   "execution_count": 96,
   "metadata": {},
   "outputs": [
    {
     "name": "stdout",
     "output_type": "stream",
     "text": [
      "Radij je 10, (k, l, m, n) = (10,0,0,2)\n",
      "1 tock na razdalji 0\n",
      "4 tock na razdalji 1\n",
      "9 tock na razdalji 2\n",
      "14 tock na razdalji 3\n",
      "18 tock na razdalji 4\n",
      "22 tock na razdalji 5\n",
      "26 tock na razdalji 6\n",
      "30 tock na razdalji 7\n",
      "34 tock na razdalji 8\n",
      "38 tock na razdalji 9\n",
      "40 tock na razdalji 10\n"
     ]
    }
   ],
   "source": [
    "k, l, m, n = 10, 0, 0, 2\n",
    "\n",
    "H = nanotorus(k, l, m, n)\n",
    "radij = H.diameter()\n",
    "print(\"Radij je {}, (k, l, m, n) = ({},{},{},{})\".format(radij, k, l, m, n))\n",
    "for d in range(radij + 1):\n",
    "    #print(\"korak :\", d)\n",
    "    bliznje = vozlisca_na_razdalji_d(H, U(0,0), set(), d)\n",
    "    #print(bliznje)\n",
    "    print(\"{} tock na razdalji {}\".format(len(bliznje), d))"
   ]
  },
  {
   "cell_type": "code",
   "execution_count": 99,
   "metadata": {},
   "outputs": [
    {
     "name": "stdout",
     "output_type": "stream",
     "text": [
      "Radij je 10, (k, l, m, n) = (0,5,10,0)\n",
      "1 tock na razdalji 0\n",
      "4 tock na razdalji 1\n",
      "10 tock na razdalji 2\n",
      "19 tock na razdalji 3\n",
      "31 tock na razdalji 4\n",
      "45 tock na razdalji 5\n",
      "59 tock na razdalji 6\n",
      "72 tock na razdalji 7\n",
      "84 tock na razdalji 8\n",
      "95 tock na razdalji 9\n",
      "100 tock na razdalji 10\n"
     ]
    }
   ],
   "source": [
    "k, l, m, n = 0, 5, 10, 0\n",
    "\n",
    "H = nanotorus(k, l, m, n)\n",
    "radij = H.diameter()\n",
    "print(\"Radij je {}, (k, l, m, n) = ({},{},{},{})\".format(radij, k, l, m, n))\n",
    "for d in range(radij + 1):\n",
    "    #print(\"korak :\", d)\n",
    "    bliznje = vozlisca_na_razdalji_d(H, U(0,0), set(), d)\n",
    "    #print(bliznje)\n",
    "    print(\"{} tock na razdalji {}\".format(len(bliznje), d))"
   ]
  },
  {
   "cell_type": "markdown",
   "metadata": {},
   "source": [
    "# Čas izvajanja"
   ]
  },
  {
   "cell_type": "code",
   "execution_count": 26,
   "metadata": {},
   "outputs": [
    {
     "name": "stdout",
     "output_type": "stream",
     "text": [
      "Paralelogram je izrojen!\n",
      "Za konstrukcijo nanotora (0, 2, 0, 0) sem porabil 0.0207719802856 sekund.\n",
      "Za konstrukcijo nanotora (0, 2, 1, 0) sem porabil 0.0317900180817 sekund.\n",
      "Za konstrukcijo nanotora (0, 2, 2, 0) sem porabil 0.0454969406128 sekund.\n",
      "Za konstrukcijo nanotora (0, 2, 3, 0) sem porabil 0.0763080120087 sekund.\n",
      "Za konstrukcijo nanotora (0, 2, 4, 0) sem porabil 0.100385189056 sekund.\n",
      "Za konstrukcijo nanotora (0, 2, 5, 0) sem porabil 0.144529819489 sekund.\n",
      "Za konstrukcijo nanotora (0, 2, 6, 0) sem porabil 0.144497871399 sekund.\n",
      "Za konstrukcijo nanotora (0, 2, 7, 0) sem porabil 0.160187005997 sekund.\n",
      "Za konstrukcijo nanotora (0, 2, 8, 0) sem porabil 0.173603057861 sekund.\n",
      "Za konstrukcijo nanotora (0, 2, 9, 0) sem porabil 0.211519002914 sekund.\n",
      "Za konstrukcijo nanotora (0, 2, 10, 0) sem porabil 0.23780798912 sekund.\n",
      "Za konstrukcijo nanotora (0, 2, 11, 0) sem porabil 0.236883878708 sekund.\n",
      "Za konstrukcijo nanotora (0, 2, 12, 0) sem porabil 0.286211967468 sekund.\n",
      "Za konstrukcijo nanotora (0, 2, 13, 0) sem porabil 0.298084020615 sekund.\n",
      "Za konstrukcijo nanotora (0, 2, 14, 0) sem porabil 0.337810993195 sekund.\n",
      "Za konstrukcijo nanotora (0, 2, 15, 0) sem porabil 0.334964990616 sekund.\n",
      "Za konstrukcijo nanotora (0, 2, 16, 0) sem porabil 0.358479976654 sekund.\n",
      "Za konstrukcijo nanotora (0, 2, 17, 0) sem porabil 0.362145900726 sekund.\n",
      "Za konstrukcijo nanotora (0, 2, 18, 0) sem porabil 0.441083908081 sekund.\n",
      "Za konstrukcijo nanotora (0, 2, 19, 0) sem porabil 0.520761013031 sekund.\n",
      "Za konstrukcijo nanotora (0, 2, 20, 0) sem porabil 0.419192075729 sekund.\n",
      "Za konstrukcijo nanotora (0, 2, 21, 0) sem porabil 0.439620018005 sekund.\n",
      "Za konstrukcijo nanotora (0, 2, 22, 0) sem porabil 0.495138883591 sekund.\n",
      "Za konstrukcijo nanotora (0, 2, 23, 0) sem porabil 0.51859498024 sekund.\n",
      "Za konstrukcijo nanotora (0, 2, 24, 0) sem porabil 0.557914972305 sekund.\n",
      "Za konstrukcijo nanotora (0, 2, 25, 0) sem porabil 0.54399394989 sekund.\n",
      "Za konstrukcijo nanotora (0, 2, 26, 0) sem porabil 0.575114011765 sekund.\n",
      "Za konstrukcijo nanotora (0, 2, 27, 0) sem porabil 0.732607126236 sekund.\n",
      "Za konstrukcijo nanotora (0, 2, 28, 0) sem porabil 0.649517774582 sekund.\n",
      "Za konstrukcijo nanotora (0, 2, 29, 0) sem porabil 0.691247940063 sekund.\n",
      "Za konstrukcijo nanotora (0, 2, 30, 0) sem porabil 0.645985126495 sekund.\n",
      "Za konstrukcijo nanotora (0, 2, 31, 0) sem porabil 0.681005954742 sekund.\n",
      "Za konstrukcijo nanotora (0, 2, 32, 0) sem porabil 0.703820943832 sekund.\n",
      "Za konstrukcijo nanotora (0, 2, 33, 0) sem porabil 0.737837791443 sekund.\n",
      "Za konstrukcijo nanotora (0, 2, 34, 0) sem porabil 0.735604047775 sekund.\n",
      "Za konstrukcijo nanotora (0, 2, 35, 0) sem porabil 0.779142141342 sekund.\n",
      "Za konstrukcijo nanotora (0, 2, 36, 0) sem porabil 0.772707223892 sekund.\n",
      "Za konstrukcijo nanotora (0, 2, 37, 0) sem porabil 0.794422864914 sekund.\n",
      "Za konstrukcijo nanotora (0, 2, 38, 0) sem porabil 0.818393945694 sekund.\n",
      "Za konstrukcijo nanotora (0, 2, 39, 0) sem porabil 0.856935024261 sekund.\n",
      "Za konstrukcijo nanotora (0, 2, 40, 0) sem porabil 0.868521928787 sekund.\n",
      "Za konstrukcijo nanotora (0, 2, 41, 0) sem porabil 0.883880853653 sekund.\n",
      "Za konstrukcijo nanotora (0, 2, 42, 0) sem porabil 0.934257984161 sekund.\n",
      "Za konstrukcijo nanotora (0, 2, 43, 0) sem porabil 0.999697208405 sekund.\n",
      "Za konstrukcijo nanotora (0, 2, 44, 0) sem porabil 0.932482004166 sekund.\n",
      "Za konstrukcijo nanotora (0, 2, 45, 0) sem porabil 1.0849750042 sekund.\n",
      "Za konstrukcijo nanotora (0, 2, 46, 0) sem porabil 1.07334709167 sekund.\n",
      "Za konstrukcijo nanotora (0, 2, 47, 0) sem porabil 1.08504009247 sekund.\n",
      "Za konstrukcijo nanotora (0, 2, 48, 0) sem porabil 1.18457603455 sekund.\n",
      "Za konstrukcijo nanotora (0, 2, 49, 0) sem porabil 1.06104111671 sekund.\n",
      "Za konstrukcijo nanotora (0, 2, 50, 0) sem porabil 1.11603116989 sekund.\n",
      "Za konstrukcijo nanotora (0, 2, 51, 0) sem porabil 1.17856001854 sekund.\n",
      "Za konstrukcijo nanotora (0, 2, 52, 0) sem porabil 1.1460878849 sekund.\n",
      "Za konstrukcijo nanotora (0, 2, 53, 0) sem porabil 1.1842751503 sekund.\n",
      "Za konstrukcijo nanotora (0, 2, 54, 0) sem porabil 1.22495508194 sekund.\n",
      "Za konstrukcijo nanotora (0, 2, 55, 0) sem porabil 1.34724593163 sekund.\n",
      "Za konstrukcijo nanotora (0, 2, 56, 0) sem porabil 1.25947213173 sekund.\n",
      "Za konstrukcijo nanotora (0, 2, 57, 0) sem porabil 1.24244093895 sekund.\n",
      "Za konstrukcijo nanotora (0, 2, 58, 0) sem porabil 1.27331590652 sekund.\n",
      "Za konstrukcijo nanotora (0, 2, 59, 0) sem porabil 1.34139895439 sekund.\n",
      "Za konstrukcijo nanotora (0, 2, 60, 0) sem porabil 1.80194997787 sekund.\n",
      "Za konstrukcijo nanotora (0, 2, 61, 0) sem porabil 1.31069898605 sekund.\n",
      "Za konstrukcijo nanotora (0, 2, 62, 0) sem porabil 1.30363297462 sekund.\n",
      "Za konstrukcijo nanotora (0, 2, 63, 0) sem porabil 1.32006716728 sekund.\n",
      "Za konstrukcijo nanotora (0, 2, 64, 0) sem porabil 1.34629106522 sekund.\n",
      "Za konstrukcijo nanotora (0, 2, 65, 0) sem porabil 1.38856101036 sekund.\n",
      "Za konstrukcijo nanotora (0, 2, 66, 0) sem porabil 1.39064884186 sekund.\n",
      "Za konstrukcijo nanotora (0, 2, 67, 0) sem porabil 1.39519715309 sekund.\n",
      "Za konstrukcijo nanotora (0, 2, 68, 0) sem porabil 1.4811000824 sekund.\n",
      "Za konstrukcijo nanotora (0, 2, 69, 0) sem porabil 1.44720816612 sekund.\n",
      "Za konstrukcijo nanotora (0, 2, 70, 0) sem porabil 1.45650005341 sekund.\n",
      "Za konstrukcijo nanotora (0, 2, 71, 0) sem porabil 1.50719189644 sekund.\n",
      "Za konstrukcijo nanotora (0, 2, 72, 0) sem porabil 1.50386500359 sekund.\n",
      "Za konstrukcijo nanotora (0, 2, 73, 0) sem porabil 1.57245707512 sekund.\n",
      "Za konstrukcijo nanotora (0, 2, 74, 0) sem porabil 1.56213116646 sekund.\n",
      "Za konstrukcijo nanotora (0, 2, 75, 0) sem porabil 1.64230799675 sekund.\n",
      "Za konstrukcijo nanotora (0, 2, 76, 0) sem porabil 1.68301200867 sekund.\n",
      "Za konstrukcijo nanotora (0, 2, 77, 0) sem porabil 1.65934514999 sekund.\n",
      "Za konstrukcijo nanotora (0, 2, 78, 0) sem porabil 1.69023799896 sekund.\n",
      "Za konstrukcijo nanotora (0, 2, 79, 0) sem porabil 1.74194502831 sekund.\n",
      "Za konstrukcijo nanotora (0, 2, 80, 0) sem porabil 1.7329249382 sekund.\n",
      "Za konstrukcijo nanotora (0, 2, 81, 0) sem porabil 1.72443199158 sekund.\n",
      "Za konstrukcijo nanotora (0, 2, 82, 0) sem porabil 1.77835893631 sekund.\n",
      "Za konstrukcijo nanotora (0, 2, 83, 0) sem porabil 1.76737189293 sekund.\n",
      "Za konstrukcijo nanotora (0, 2, 84, 0) sem porabil 1.91753697395 sekund.\n",
      "Za konstrukcijo nanotora (0, 2, 85, 0) sem porabil 2.01007509232 sekund.\n",
      "Za konstrukcijo nanotora (0, 2, 86, 0) sem porabil 1.87328386307 sekund.\n",
      "Za konstrukcijo nanotora (0, 2, 87, 0) sem porabil 1.90937304497 sekund.\n",
      "Za konstrukcijo nanotora (0, 2, 88, 0) sem porabil 1.97435498238 sekund.\n",
      "Za konstrukcijo nanotora (0, 2, 89, 0) sem porabil 1.92407894135 sekund.\n",
      "Za konstrukcijo nanotora (0, 2, 90, 0) sem porabil 1.95748901367 sekund.\n",
      "Za konstrukcijo nanotora (0, 2, 91, 0) sem porabil 2.00048899651 sekund.\n",
      "Za konstrukcijo nanotora (0, 2, 92, 0) sem porabil 2.03752613068 sekund.\n",
      "Za konstrukcijo nanotora (0, 2, 93, 0) sem porabil 2.04782795906 sekund.\n",
      "Za konstrukcijo nanotora (0, 2, 94, 0) sem porabil 2.04421710968 sekund.\n",
      "Za konstrukcijo nanotora (0, 2, 95, 0) sem porabil 2.156072855 sekund.\n",
      "Za konstrukcijo nanotora (0, 2, 96, 0) sem porabil 2.12532091141 sekund.\n",
      "Za konstrukcijo nanotora (0, 2, 97, 0) sem porabil 2.13656902313 sekund.\n",
      "Za konstrukcijo nanotora (0, 2, 98, 0) sem porabil 2.14662218094 sekund.\n",
      "Za konstrukcijo nanotora (0, 2, 99, 0) sem porabil 2.2112929821 sekund.\n",
      "Za konstrukcijo nanotora (0, 2, 100, 0) sem porabil 2.27324604988 sekund.\n",
      "Za konstrukcijo nanotora (0, 2, 101, 0) sem porabil 2.23408007622 sekund.\n",
      "Za konstrukcijo nanotora (0, 2, 102, 0) sem porabil 2.2592291832 sekund.\n",
      "Za konstrukcijo nanotora (0, 2, 103, 0) sem porabil 2.2730050087 sekund.\n",
      "Za konstrukcijo nanotora (0, 2, 104, 0) sem porabil 2.32901000977 sekund.\n",
      "Za konstrukcijo nanotora (0, 2, 105, 0) sem porabil 2.33791780472 sekund.\n",
      "Za konstrukcijo nanotora (0, 2, 106, 0) sem porabil 2.31661319733 sekund.\n",
      "Za konstrukcijo nanotora (0, 2, 107, 0) sem porabil 2.36008381844 sekund.\n",
      "Za konstrukcijo nanotora (0, 2, 108, 0) sem porabil 2.39998888969 sekund.\n",
      "Za konstrukcijo nanotora (0, 2, 109, 0) sem porabil 2.41850209236 sekund.\n",
      "Za konstrukcijo nanotora (0, 2, 110, 0) sem porabil 2.46300911903 sekund.\n",
      "Za konstrukcijo nanotora (0, 2, 111, 0) sem porabil 2.79529809952 sekund.\n"
     ]
    },
    {
     "name": "stdout",
     "output_type": "stream",
     "text": [
      "Za konstrukcijo nanotora (0, 2, 112, 0) sem porabil 2.93941617012 sekund.\n",
      "Za konstrukcijo nanotora (0, 2, 113, 0) sem porabil 2.80138301849 sekund.\n",
      "Za konstrukcijo nanotora (0, 2, 114, 0) sem porabil 2.67629003525 sekund.\n",
      "Za konstrukcijo nanotora (0, 2, 115, 0) sem porabil 3.09534311295 sekund.\n",
      "Za konstrukcijo nanotora (0, 2, 116, 0) sem porabil 2.63978791237 sekund.\n",
      "Za konstrukcijo nanotora (0, 2, 117, 0) sem porabil 2.62199115753 sekund.\n",
      "Za konstrukcijo nanotora (0, 2, 118, 0) sem porabil 2.64522314072 sekund.\n",
      "Za konstrukcijo nanotora (0, 2, 119, 0) sem porabil 2.68901395798 sekund.\n",
      "Za konstrukcijo nanotora (0, 2, 120, 0) sem porabil 2.96121311188 sekund.\n",
      "Za konstrukcijo nanotora (0, 2, 121, 0) sem porabil 2.77066802979 sekund.\n",
      "Za konstrukcijo nanotora (0, 2, 122, 0) sem porabil 2.77597498894 sekund.\n",
      "Za konstrukcijo nanotora (0, 2, 123, 0) sem porabil 2.83251905441 sekund.\n",
      "Za konstrukcijo nanotora (0, 2, 124, 0) sem porabil 2.80027580261 sekund.\n",
      "Za konstrukcijo nanotora (0, 2, 125, 0) sem porabil 2.81570291519 sekund.\n",
      "Za konstrukcijo nanotora (0, 2, 126, 0) sem porabil 2.82222700119 sekund.\n",
      "Za konstrukcijo nanotora (0, 2, 127, 0) sem porabil 2.85581302643 sekund.\n",
      "Za konstrukcijo nanotora (0, 2, 128, 0) sem porabil 2.88967418671 sekund.\n",
      "Za konstrukcijo nanotora (0, 2, 129, 0) sem porabil 2.88834905624 sekund.\n",
      "Za konstrukcijo nanotora (0, 2, 130, 0) sem porabil 2.95516896248 sekund.\n",
      "Za konstrukcijo nanotora (0, 2, 131, 0) sem porabil 2.95261001587 sekund.\n",
      "Za konstrukcijo nanotora (0, 2, 132, 0) sem porabil 3.22563195229 sekund.\n",
      "Za konstrukcijo nanotora (0, 2, 133, 0) sem porabil 3.11157798767 sekund.\n",
      "Za konstrukcijo nanotora (0, 2, 134, 0) sem porabil 3.06811308861 sekund.\n",
      "Za konstrukcijo nanotora (0, 2, 135, 0) sem porabil 3.08135104179 sekund.\n",
      "Za konstrukcijo nanotora (0, 2, 136, 0) sem porabil 3.09962391853 sekund.\n",
      "Za konstrukcijo nanotora (0, 2, 137, 0) sem porabil 3.12731409073 sekund.\n",
      "Za konstrukcijo nanotora (0, 2, 138, 0) sem porabil 3.16258311272 sekund.\n",
      "Za konstrukcijo nanotora (0, 2, 139, 0) sem porabil 3.16775918007 sekund.\n",
      "Za konstrukcijo nanotora (0, 2, 140, 0) sem porabil 3.20255899429 sekund.\n",
      "Za konstrukcijo nanotora (0, 2, 141, 0) sem porabil 3.34768390656 sekund.\n",
      "Za konstrukcijo nanotora (0, 2, 142, 0) sem porabil 3.49792289734 sekund.\n",
      "Za konstrukcijo nanotora (0, 2, 143, 0) sem porabil 3.3547949791 sekund.\n",
      "Za konstrukcijo nanotora (0, 2, 144, 0) sem porabil 3.4282450676 sekund.\n",
      "Za konstrukcijo nanotora (0, 2, 145, 0) sem porabil 3.39036512375 sekund.\n",
      "Za konstrukcijo nanotora (0, 2, 146, 0) sem porabil 3.39282393456 sekund.\n",
      "Za konstrukcijo nanotora (0, 2, 147, 0) sem porabil 3.71837902069 sekund.\n",
      "Za konstrukcijo nanotora (0, 2, 148, 0) sem porabil 3.46247601509 sekund.\n",
      "Za konstrukcijo nanotora (0, 2, 149, 0) sem porabil 3.48596405983 sekund.\n",
      "Za konstrukcijo nanotora (0, 2, 150, 0) sem porabil 3.72281694412 sekund.\n"
     ]
    }
   ],
   "source": [
    "# ### PODALJSEVANJE PARALELGRAMA V ENO SMER ###\n",
    "\n",
    "# import time\n",
    "\n",
    "# # fiksiramo k = 0, l = 5, n = 0 , (m = m)\n",
    "# k, l, n = 0, 2, 0\n",
    "\n",
    "# P1 = []\n",
    "# T1 = []\n",
    "# for m in range(151):\n",
    "#     zacetek = time.time()\n",
    "#     G = nanotorus(k, l, m, n)\n",
    "#     konec = time.time()\n",
    "#     print(\"Za konstrukcijo nanotora ({}, {}, {}, {}) sem porabil {} sekund.\".format(k, l, m, n, konec - zacetek))\n",
    "    \n",
    "#     P1.append(m) # parametri\n",
    "#     T1.append(konec - zacetek) # cas\n",
    "    "
   ]
  },
  {
   "cell_type": "code",
   "execution_count": 27,
   "metadata": {},
   "outputs": [
    {
     "data": {
      "image/png": "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\n",
      "text/plain": [
       "<Figure size 432x288 with 1 Axes>"
      ]
     },
     "metadata": {},
     "output_type": "display_data"
    }
   ],
   "source": [
    "import matplotlib\n",
    "import matplotlib.pyplot as plt\n",
    "\n",
    "fig, ax = plt.subplots()\n",
    "ax.plot(P1, T1)\n",
    "\n",
    "ax.set(xlabel='parameter m', ylabel='cas',\n",
    "       title='Casovna zahtevnost konstrukcije nanotora (k, l, m, n) v odvisnosti od m \\n (pri k = 0, l = 5, n = 0) ')\n",
    "ax.grid()\n",
    "\n",
    "fig.savefig(\"zahtevnost1.png\")\n",
    "plt.show()"
   ]
  },
  {
   "cell_type": "code",
   "execution_count": 24,
   "metadata": {},
   "outputs": [
    {
     "name": "stdout",
     "output_type": "stream",
     "text": [
      "Paralelogram je izrojen!\n",
      "Za konstrukcijo nanotora (0, 0, 0, 0) sem porabil 0.00386810302734 sekund.\n",
      "Za konstrukcijo nanotora (0, 1, 1, 0) sem porabil 0.0258169174194 sekund.\n",
      "Za konstrukcijo nanotora (0, 2, 2, 0) sem porabil 0.055478811264 sekund.\n",
      "Za konstrukcijo nanotora (0, 3, 3, 0) sem porabil 0.098217010498 sekund.\n",
      "Za konstrukcijo nanotora (0, 4, 4, 0) sem porabil 0.195756912231 sekund.\n",
      "Za konstrukcijo nanotora (0, 5, 5, 0) sem porabil 0.251332044601 sekund.\n",
      "Za konstrukcijo nanotora (0, 6, 6, 0) sem porabil 0.369438171387 sekund.\n",
      "Za konstrukcijo nanotora (0, 7, 7, 0) sem porabil 0.456685066223 sekund.\n",
      "Za konstrukcijo nanotora (0, 8, 8, 0) sem porabil 0.557857036591 sekund.\n",
      "Za konstrukcijo nanotora (0, 9, 9, 0) sem porabil 0.708075046539 sekund.\n",
      "Za konstrukcijo nanotora (0, 10, 10, 0) sem porabil 0.89746594429 sekund.\n",
      "Za konstrukcijo nanotora (0, 11, 11, 0) sem porabil 1.14458298683 sekund.\n",
      "Za konstrukcijo nanotora (0, 12, 12, 0) sem porabil 1.35836791992 sekund.\n",
      "Za konstrukcijo nanotora (0, 13, 13, 0) sem porabil 1.61850905418 sekund.\n",
      "Za konstrukcijo nanotora (0, 14, 14, 0) sem porabil 1.9677271843 sekund.\n",
      "Za konstrukcijo nanotora (0, 15, 15, 0) sem porabil 2.06749200821 sekund.\n",
      "Za konstrukcijo nanotora (0, 16, 16, 0) sem porabil 2.3356859684 sekund.\n",
      "Za konstrukcijo nanotora (0, 17, 17, 0) sem porabil 2.65175795555 sekund.\n",
      "Za konstrukcijo nanotora (0, 18, 18, 0) sem porabil 3.0110168457 sekund.\n",
      "Za konstrukcijo nanotora (0, 19, 19, 0) sem porabil 3.41287302971 sekund.\n",
      "Za konstrukcijo nanotora (0, 20, 20, 0) sem porabil 3.88090491295 sekund.\n",
      "Za konstrukcijo nanotora (0, 21, 21, 0) sem porabil 4.2691590786 sekund.\n",
      "Za konstrukcijo nanotora (0, 22, 22, 0) sem porabil 4.79923295975 sekund.\n",
      "Za konstrukcijo nanotora (0, 23, 23, 0) sem porabil 5.35012507439 sekund.\n",
      "Za konstrukcijo nanotora (0, 24, 24, 0) sem porabil 6.328551054 sekund.\n",
      "Za konstrukcijo nanotora (0, 25, 25, 0) sem porabil 6.58570504189 sekund.\n",
      "Za konstrukcijo nanotora (0, 26, 26, 0) sem porabil 7.30842900276 sekund.\n",
      "Za konstrukcijo nanotora (0, 27, 27, 0) sem porabil 8.18846392632 sekund.\n",
      "Za konstrukcijo nanotora (0, 28, 28, 0) sem porabil 9.00040984154 sekund.\n",
      "Za konstrukcijo nanotora (0, 29, 29, 0) sem porabil 9.98171281815 sekund.\n",
      "Za konstrukcijo nanotora (0, 30, 30, 0) sem porabil 11.5202839375 sekund.\n",
      "Za konstrukcijo nanotora (0, 31, 31, 0) sem porabil 11.8673808575 sekund.\n",
      "Za konstrukcijo nanotora (0, 32, 32, 0) sem porabil 13.024982214 sekund.\n",
      "Za konstrukcijo nanotora (0, 33, 33, 0) sem porabil 14.3615391254 sekund.\n",
      "Za konstrukcijo nanotora (0, 34, 34, 0) sem porabil 15.5732808113 sekund.\n",
      "Za konstrukcijo nanotora (0, 35, 35, 0) sem porabil 17.3301198483 sekund.\n",
      "Za konstrukcijo nanotora (0, 36, 36, 0) sem porabil 18.4696969986 sekund.\n",
      "Za konstrukcijo nanotora (0, 37, 37, 0) sem porabil 20.3078229427 sekund.\n",
      "Za konstrukcijo nanotora (0, 38, 38, 0) sem porabil 21.6051518917 sekund.\n",
      "Za konstrukcijo nanotora (0, 39, 39, 0) sem porabil 23.7203569412 sekund.\n",
      "Za konstrukcijo nanotora (0, 40, 40, 0) sem porabil 25.205589056 sekund.\n",
      "Za konstrukcijo nanotora (0, 41, 41, 0) sem porabil 27.7931911945 sekund.\n",
      "Za konstrukcijo nanotora (0, 42, 42, 0) sem porabil 28.9830060005 sekund.\n",
      "Za konstrukcijo nanotora (0, 43, 43, 0) sem porabil 32.0157999992 sekund.\n",
      "Za konstrukcijo nanotora (0, 44, 44, 0) sem porabil 33.7538609505 sekund.\n",
      "Za konstrukcijo nanotora (0, 45, 45, 0) sem porabil 36.5875360966 sekund.\n",
      "Za konstrukcijo nanotora (0, 46, 46, 0) sem porabil 39.2916989326 sekund.\n",
      "Za konstrukcijo nanotora (0, 47, 47, 0) sem porabil 42.3668999672 sekund.\n",
      "Za konstrukcijo nanotora (0, 48, 48, 0) sem porabil 44.4295558929 sekund.\n",
      "Za konstrukcijo nanotora (0, 49, 49, 0) sem porabil 47.4951708317 sekund.\n",
      "Za konstrukcijo nanotora (0, 50, 50, 0) sem porabil 50.1548068523 sekund.\n"
     ]
    }
   ],
   "source": [
    "# ## PODALJSEVANJE PARALELGRAMA V DVE SMERI ###\n",
    "\n",
    "# import time\n",
    "\n",
    "# k, l, n = 0, 0, 0\n",
    "\n",
    "# P2 = []\n",
    "# T2 = []\n",
    "# for m in range(51):\n",
    "#     zacetek = time.time()\n",
    "#     G = nanotorus(k, l, m, n)\n",
    "#     konec = time.time()\n",
    "\n",
    "#     print(\"Za konstrukcijo nanotora ({}, {}, {}, {}) sem porabil {} sekund.\".format(k, l, m, n, konec - zacetek))\n",
    "    \n",
    "#     # podaljsamo paralelgram še v drugo smer\n",
    "#     l += 1\n",
    "    \n",
    "#     P2.append(m) # parametri\n",
    "#     T2.append(konec - zacetek) # cas"
   ]
  },
  {
   "cell_type": "code",
   "execution_count": 25,
   "metadata": {},
   "outputs": [
    {
     "data": {
      "image/png": "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\n",
      "text/plain": [
       "<Figure size 432x288 with 1 Axes>"
      ]
     },
     "metadata": {},
     "output_type": "display_data"
    }
   ],
   "source": [
    "import matplotlib\n",
    "import matplotlib.pyplot as plt\n",
    "\n",
    "fig, ax = plt.subplots()\n",
    "ax.plot(P2, T2)\n",
    "\n",
    "ax.set(xlabel='parameter m', ylabel='cas',\n",
    "       title='Casovna zahtevnost konstrukcije nanotora (k, l, m, n) v odvisnosti od m = l \\n (pri k = 0, n = 0) ')\n",
    "ax.grid()\n",
    "\n",
    "fig.savefig(\"zahtevnost2.png\")\n",
    "plt.show()"
   ]
  }
 ],
 "metadata": {
  "kernelspec": {
   "display_name": "SageMath 8.9",
   "language": "sage",
   "name": "sagemath"
  },
  "language_info": {
   "codemirror_mode": {
    "name": "ipython",
    "version": 2
   },
   "file_extension": ".py",
   "mimetype": "text/x-python",
   "name": "python",
   "nbconvert_exporter": "python",
   "pygments_lexer": "ipython2",
   "version": "2.7.15"
  }
 },
 "nbformat": 4,
 "nbformat_minor": 2
}
