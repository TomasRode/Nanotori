{
 "cells": [
  {
   "cell_type": "markdown",
   "metadata": {},
   "source": [
    "# NANOTORI"
   ]
  },
  {
   "cell_type": "markdown",
   "metadata": {},
   "source": [
    "## Potrebne funkcije"
   ]
  },
  {
   "cell_type": "code",
   "execution_count": 1,
   "metadata": {},
   "outputs": [],
   "source": [
    "# imamo grid... sestkotnik je 4 enote sirok in 2 enoti visok\n",
    "\n",
    "A2 = vector([3, - 1]) # vektor desno dol\n",
    "A1 = vector([0, - 2]) # vektor dol\n",
    "\n",
    "############## Razredi #############\n",
    "\n",
    "class U:\n",
    "    def __init__(self, a, b):\n",
    "        self.a = a # a konstanta ... koliko A1 vektorjev uporabimo\n",
    "        self.b = b\n",
    "        \n",
    "    def __repr__(self):\n",
    "        a,b = self.podatki()\n",
    "        return ('{}({}a, {}b)'.format(self.__class__.__name__, a, b))\n",
    "    \n",
    "    def __eq__(self, other):\n",
    "        return (self.a == other.a and \n",
    "               self.b == other.b and\n",
    "               self.__class__.__name__ == other.__class__.__name__)\n",
    "    \n",
    "    def __hash__(self): \n",
    "#         return hash((self.a, self.b))\n",
    "        return hash(exp(self.a + exp(self.b)))\n",
    "    \n",
    "    def podatki(self):\n",
    "        return self.a, self.b\n",
    "    \n",
    "    def koordinate(self):\n",
    "        vektor = self.a * A1 + self.b * A2\n",
    "        x = vektor[0]\n",
    "        y = vektor[1]\n",
    "        return [x, y]\n",
    "    \n",
    "    def sosedi(self):\n",
    "        s = set({V(self.a, self.b), V(self.a, self.b - 1), V(self.a + 1, self.b - 1)})\n",
    "        return s\n",
    "    \n",
    "    def premakni(self, c, d):\n",
    "        return U(self.a + c, self.b + d)\n",
    "    \n",
    "    def razlika(self, other):\n",
    "        return (self.a - other.a, self.b - other.b)\n",
    "    \n",
    "class V:\n",
    "    def __init__(self, a, b):\n",
    "        self.a = a # a konstanta ... koliko A1 vektorjev uporabimo\n",
    "        self.b = b\n",
    "        \n",
    "    def __repr__(self):\n",
    "        a,b = self.podatki()\n",
    "        return ('{}({}a, {}b)'.format(self.__class__.__name__, a, b))\n",
    "    \n",
    "    def __eq__(self, other):\n",
    "        return (self.a == other.a and \n",
    "               self.b == other.b and\n",
    "               self.__class__.__name__ == other.__class__.__name__)\n",
    "    \n",
    "    def __hash__(self): \n",
    "#         return hash((self.a, self.b))\n",
    "        return hash(exp(self.a + exp(self.b)))\n",
    "    \n",
    "    def podatki(self):\n",
    "        return self.a, self.b\n",
    "    \n",
    "    def koordinate(self):\n",
    "        vektor = self.a * A1 + self.b * A2 + vector([2, 0])\n",
    "        x = vektor[0]\n",
    "        y = vektor[1]\n",
    "        return [x, y]\n",
    "    \n",
    "    def sosedi(self):\n",
    "        s = set({U(self.a, self.b), U(self.a - 1, self.b + 1), U(self.a, self.b + 1)})\n",
    "        return s\n",
    "        \n",
    "    def premakni(self, c, d):\n",
    "        return V(self.a + c, self.b + d)\n",
    "\n",
    "############## Funkcije #############\n",
    "\n",
    "def grid(k, l, m, n):\n",
    "    # oglisca = ([0, 0], [k, l], [m, n], [k + m, l + n])\n",
    "    # print U(0,0).koordinate(), U(k, l).koordinate(), U(m, n).koordinate(), U(k + m, l + n).koordinate()\n",
    "\n",
    "    mina = min(0, k, m, k + m)\n",
    "    maxa = max(0, k, m, k + m)\n",
    "    minb = min(0, l, n, l + n)\n",
    "    maxb = max(0, l, n, l + n)\n",
    "\n",
    "    mnozica = set()\n",
    "    for i in range(mina, maxa + 1):\n",
    "        for j in range(minb, maxb + 1):\n",
    "            mnozica.add(U(i, j))\n",
    "    \n",
    "    return mnozica\n",
    "\n",
    "# lahko bi poskusili dodati le tiste, ki so \"blizje\" paralelogramu, ne celege pravokotnika\n",
    "# def grid1(k, l, m, n):\n",
    "#     mina = min(0, k, m, k + m)\n",
    "#     maxa = max(0, k, m, k + m)\n",
    "#     minb = min(0, l, n, l + n)\n",
    "#     maxb = max(0, l, n, l + n)\n",
    "\n",
    "#     mnozica = set()\n",
    "#     for i in range(mina, maxa + 1):\n",
    "#         for j in range(minb, maxb + 1):\n",
    "#             mnozica.add(U(i, j))\n",
    "    \n",
    "#     return mnozica\n",
    "\n",
    "# 3x3 matrika\n",
    "def determinanta3x3(matrika): \n",
    "    a11 = matrika[0][0]\n",
    "    a12 = matrika[0][1]\n",
    "    a13 = matrika[0][2]\n",
    "    \n",
    "    a21 = matrika[1][0]\n",
    "    a22 = matrika[1][1]\n",
    "    a23 = matrika[1][2]\n",
    "    \n",
    "    a31 = matrika[2][0]\n",
    "    a32 = matrika[2][1]\n",
    "    a33 = matrika[2][2]\n",
    "        \n",
    "    det = (\n",
    "          a11 * (a22 * a33 - a32 * a23) - \n",
    "          a12 * (a21 * a33 - a31 * a23) + \n",
    "          a13 * (a21 * a32 - a31 * a22)\n",
    "          )\n",
    "            \n",
    "    return det\n",
    "\n",
    "# gledamo kje je tocka w glede na vektor uv\n",
    "# ce je tocka levo, je predznak determinante pozitiven,\n",
    "# ce desno, je predznak negativen,\n",
    "# ce pa so kolinearne je determinanta 0.\n",
    "# sprejme tocke U ali V\n",
    "def zavoj(u, v, w):\n",
    "    u_x, u_y = u.koordinate()\n",
    "    v_x, v_y = v.koordinate()\n",
    "    w_x, w_y = w.koordinate()\n",
    "    \n",
    "    matrika = matrix([[1, 1, 1], [u_x, v_x, w_x], [u_y, v_y, w_y]])\n",
    "    \n",
    "    return sgn(determinanta3x3(matrika))\n",
    "\n",
    "def v_paralelogramu(G, u0, u1, u2, u3):\n",
    "    # G mnozica Ujev, ki jih bomo pregledali,\n",
    "    # ui zaporedna oglisca v paralelogramu, tako da je notranjost na levi,\n",
    "    # u0 pa je izhodisce \n",
    "    # dopuscamo tocke na daljici u0u1 in na daljici  u3u0\n",
    "    \n",
    "    Uji = set()\n",
    "    Vji = set()\n",
    "    \n",
    "    for u in G:   \n",
    "        v = V(u.a, u.b) # \"pripadajoce\" vozlisce V\n",
    "\n",
    "        pogoj_u = (zavoj(u0, u1, u) >= 0 and\n",
    "                   zavoj(u1, u2, u) >  0 and\n",
    "                   zavoj(u2, u3, u) >  0 and\n",
    "                   zavoj(u3, u0, u) >= 0)\n",
    "        \n",
    "        pogoj_v = (zavoj(u0, u1, v) >= 0 and\n",
    "                   zavoj(u1, u2, v) >  0 and\n",
    "                   zavoj(u2, u3, v) >  0 and\n",
    "                   zavoj(u3, u0, v) >= 0)\n",
    "        if pogoj_u:\n",
    "            Uji.add(u)\n",
    "        if pogoj_v:\n",
    "            Vji.add(v)\n",
    "    \n",
    "    return Uji, Vji\n",
    "    \n",
    "def vozlisca_na_torusu(k, l, m, n):\n",
    "    G = grid(k, l, m, n)\n",
    "    \n",
    "    u_00 = U(0,0)\n",
    "    u_kl = U(k, l)\n",
    "    u_klmn = U(k + m, l + n)\n",
    "    u_mn = U(m, n)\n",
    "\n",
    "    # ugotovimo orientacijo\n",
    "    if zavoj(u_kl, u_mn, u_00) == 0:\n",
    "        Uji, Vji = \"Izrojen\", \"Izrojen\" # niso mnozice\n",
    "    elif zavoj(u_kl, u_mn, u_00) > 0:\n",
    "        # u_00 lezi levo od vektorja u_kl u_mn\n",
    "        Uji, Vji = v_paralelogramu(G, u_00, u_kl, u_klmn, u_mn)\n",
    "    elif zavoj(u_kl, u_mn, u_00) < 0:\n",
    "        # u_00 lezi desno od vektorja u_kl u_mn\n",
    "        Uji, Vji = v_paralelogramu(G, u_00, u_mn, u_klmn, u_kl)\n",
    "    \n",
    "    return Uji, Vji\n",
    "\n",
    "def povezave_na_torusu(k, l, m, n):\n",
    "    Uji, Vji = vozlisca_na_torusu(k, l, m, n)\n",
    "    if Uji == \"Izrojen\":\n",
    "        return Uji # paralelogram je izrojen\n",
    "    else:\n",
    "        \n",
    "        u_00 = U(0,0)\n",
    "        u_kl = U(k, l)\n",
    "        u_klmn = U(k + m, l + n)\n",
    "        u_mn = U(m, n)\n",
    "        \n",
    "        if zavoj(u_kl, u_mn, u_00) > 0:\n",
    "            #orientacija je \"pozitivna\": u_kl leži pod u_mn\n",
    "            u0, u1, u2, u3 = u_00, u_kl, u_klmn, u_mn\n",
    "        else:\n",
    "            # u_00 lezi desno od vektorja u_kl u_mn\n",
    "            u0, u1, u2, u3 = u_00, u_mn, u_klmn, u_kl\n",
    "        \n",
    "        a, b = u1.razlika(u0) # = u2 - u3 \n",
    "        c, d = u3.razlika(u0) # = u2 - u1 \n",
    "        \n",
    "        povezave = []\n",
    "        vozlisca = union(Uji, Vji)\n",
    "        \n",
    "        for tocka in Uji:\n",
    "            for sosed in tocka.sosedi():\n",
    "                while sosed not in vozlisca:\n",
    "                    if zavoj(u0, u1, sosed) < 0:\n",
    "                        sosed = sosed.premakni(c, d)\n",
    "                    elif zavoj(u1, u2, sosed) <= 0:\n",
    "                        sosed = sosed.premakni(-a, -b)\n",
    "                    elif zavoj(u2, u3, sosed) <= 0:\n",
    "                        sosed = sosed.premakni(-c, -d)\n",
    "                    elif zavoj(u3, u0, sosed) < 0:\n",
    "                        sosed = sosed.premakni(a, b)\n",
    "                povezave.append((tocka, sosed))\n",
    "                \n",
    "        return povezave \n",
    "\n",
    "def nanotorus(k, l, m, n):\n",
    "    p = povezave_na_torusu(k, l, m, n)\n",
    "    if p == \"Izrojen\":\n",
    "        print(\"Paralelogram je izrojen!\")\n",
    "    else:\n",
    "        G = Graph(p, multiedges = True)\n",
    "        G._pos = {v: v.koordinate() for v in G}\n",
    "        return G\n"
   ]
  },
  {
   "cell_type": "code",
   "execution_count": 55,
   "metadata": {},
   "outputs": [],
   "source": [
    "def vozlisca_na_razdalji_d(graf, tocka, dodane, d=0):\n",
    "    # dodane je na zacetku prazna mnozica\n",
    "    # tocka je vozlisce, kjer zacnemo\n",
    "    if d == 0:\n",
    "        dodane.add(tocka)\n",
    "    elif d < 0:\n",
    "        print(\"Negativna dolzina!\")\n",
    "    else:\n",
    "        dodane.add(tocka)\n",
    "        for sosed in graf[tocka]:\n",
    "            vozlisca_na_razdalji_d(graf, sosed, dodane, d - 1)\n",
    "    return dodane\n",
    "\n",
    "# zanima nas za razdalje d, 1 <= d <= diam(graf)\n",
    "# poskusi dobiti formulo za stevilo teh vozlisc v odvisnosti od k, l, m, n, d"
   ]
  },
  {
   "cell_type": "markdown",
   "metadata": {},
   "source": [
    "## Primeri nanotorov"
   ]
  },
  {
   "cell_type": "code",
   "execution_count": 10,
   "metadata": {},
   "outputs": [
    {
     "data": {
      "text/plain": [
       "[V(2a, 0b)]"
      ]
     },
     "execution_count": 10,
     "metadata": {},
     "output_type": "execute_result"
    }
   ],
   "source": [
    "nanotorus(1,0,2,1)[U(0,0)]"
   ]
  },
  {
   "cell_type": "code",
   "execution_count": 60,
   "metadata": {},
   "outputs": [
    {
     "name": "stdout",
     "output_type": "stream",
     "text": [
      "(True, 40, 60, True, 6)\n"
     ]
    },
    {
     "data": {
      "image/png": "[encoded data removed]",
      "text/plain": [
       "Graphics object consisting of 61 graphics primitives"
      ]
     },
     "execution_count": 60,
     "metadata": {},
     "output_type": "execute_result"
    }
   ],
   "source": [
    "G = nanotorus(4,2,-2,4)\n",
    "print(G.is_vertex_transitive(), G.order(), G.size(), G.degree().count(3) == len(G.degree()), G.diameter())\n",
    "#(tranzitivnost, št. vozlišč, št. povezav, vse točke reda 3, premer)\n",
    "G.plot(vertex_labels=False) "
   ]
  },
  {
   "cell_type": "code",
   "execution_count": 7,
   "metadata": {},
   "outputs": [
    {
     "name": "stdout",
     "output_type": "stream",
     "text": [
      "(True, 480, 720, True, 36)\n"
     ]
    },
    {
     "data": {
      "image/png": "[encoded data removed]",
      "text/plain": [
       "Graphics object consisting of 721 graphics primitives"
      ]
     },
     "execution_count": 7,
     "metadata": {},
     "output_type": "execute_result"
    }
   ],
   "source": [
    "G = nanotorus(-7,5,13,25)\n",
    "print(G.is_vertex_transitive(), G.order(), G.size(), G.degree().count(3) == len(G.degree()), G.diameter())\n",
    "#(tranzitivnost, št. vozlišč, št. povezav, vse točke reda 3, premer)\n",
    "G.plot(vertex_labels=False) "
   ]
  },
  {
   "cell_type": "code",
   "execution_count": 78,
   "metadata": {},
   "outputs": [
    {
     "name": "stdout",
     "output_type": "stream",
     "text": [
      "(True, 1310, 1965, True, 35)\n"
     ]
    },
    {
     "data": {
      "image/png": "[encoded data removed]",
      "text/plain": [
       "Graphics object consisting of 3276 graphics primitives"
      ]
     },
     "execution_count": 78,
     "metadata": {},
     "output_type": "execute_result"
    }
   ],
   "source": [
    "G = nanotorus(10,-35,13,20)\n",
    "print(G.is_vertex_transitive(), G.order(), G.size(), G.degree().count(3) == len(G.degree()), G.diameter())\n",
    "#(tranzitivnost, št. vozlišč, št. povezav, vse točke reda 3, premer)\n",
    "G.plot() "
   ]
  },
  {
   "cell_type": "code",
   "execution_count": 8,
   "metadata": {},
   "outputs": [
    {
     "name": "stdout",
     "output_type": "stream",
     "text": [
      "(True, 40, 60, True, 10)\n"
     ]
    },
    {
     "data": {
      "image/png": "[encoded data removed]",
      "text/plain": [
       "Graphics object consisting of 61 graphics primitives"
      ]
     },
     "execution_count": 8,
     "metadata": {},
     "output_type": "execute_result"
    }
   ],
   "source": [
    "G = nanotorus(2,0,-5,10)\n",
    "print(G.is_vertex_transitive(), G.order(), G.size(), G.degree().count(3) == len(G.degree()), G.diameter())\n",
    "#(tranzitivnost, št. vozlišč, št. povezav, vse točke reda 3, premer)\n",
    "G.plot(vertex_labels=False) "
   ]
  },
  {
   "cell_type": "markdown",
   "metadata": {},
   "source": [
    "## Iskanje formule za IZOMORFNOST"
   ]
  },
  {
   "cell_type": "code",
   "execution_count": 49,
   "metadata": {},
   "outputs": [
    {
     "name": "stdout",
     "output_type": "stream",
     "text": [
      "-10,-10,0,2\n",
      "-10,-10,2,0\n",
      "-10,-9,0,-2\n",
      "-10,-9,0,2\n",
      "-10,-8,0,-2\n",
      "-10,-8,0,2\n",
      "-10,-7,0,-2\n",
      "-10,-7,0,2\n",
      "-10,-6,0,-2\n",
      "-10,-6,0,2\n",
      "-10,-5,0,-2\n",
      "-10,-5,0,2\n",
      "-10,-4,0,-2\n",
      "-10,-4,0,2\n",
      "-10,-3,0,-2\n",
      "-10,-3,0,2\n",
      "-10,-2,0,-2\n",
      "-10,-2,0,2\n",
      "-10,-1,-10,1\n",
      "-10,-1,0,-2\n",
      "-10,-1,0,2\n",
      "-10,0,-2,2\n",
      "-10,0,0,-2\n",
      "-10,0,0,2\n",
      "-10,0,2,-2\n",
      "-10,1,-10,-1\n",
      "-10,1,0,-2\n",
      "-10,1,0,2\n",
      "-10,2,0,-2\n",
      "-10,2,0,2\n",
      "-10,3,0,-2\n",
      "-10,3,0,2\n",
      "-10,4,-10,6\n",
      "-10,4,0,-2\n",
      "-10,4,0,2\n",
      "-10,5,0,-2\n",
      "-10,5,0,2\n",
      "-10,6,-10,4\n",
      "-10,6,0,-2\n",
      "-10,6,0,2\n",
      "-10,7,0,-2\n",
      "-10,7,0,2\n",
      "-10,8,0,-2\n",
      "-10,8,0,2\n",
      "-10,9,0,-2\n",
      "-10,9,0,2\n",
      "-9,-10,-2,0\n",
      "-9,-10,2,0\n",
      "-9,-1,-2,2\n",
      "-9,-1,2,-2\n",
      "-8,-10,-2,0\n",
      "-8,-10,2,0\n",
      "-8,-2,-2,2\n",
      "-8,-2,2,-2\n",
      "-7,-10,-2,0\n",
      "-7,-10,2,0\n",
      "-7,-3,-2,2\n",
      "-7,-3,2,-2\n",
      "-6,-10,-2,0\n",
      "-6,-10,2,0\n",
      "-6,-4,-4,-6\n",
      "-6,-4,-2,2\n",
      "-6,-4,2,-2\n",
      "-6,-4,4,6\n",
      "-5,-10,-2,0\n",
      "-5,-10,2,0\n",
      "-5,-5,-2,2\n",
      "-5,-5,2,-2\n",
      "-4,-10,-2,0\n",
      "-4,-10,2,0\n",
      "-4,-6,-6,-4\n",
      "-4,-6,-2,2\n",
      "-4,-6,2,-2\n",
      "-4,-6,6,4\n",
      "-3,-10,-2,0\n",
      "-3,-10,2,0\n",
      "-3,-7,-2,2\n",
      "-3,-7,2,-2\n",
      "-2,-10,-2,0\n",
      "-2,-10,2,0\n",
      "-2,-8,-2,2\n",
      "-2,-8,2,-2\n",
      "-2,0,-9,-10\n",
      "-2,0,-8,-10\n",
      "-2,0,-7,-10\n",
      "-2,0,-6,-10\n",
      "-2,0,-5,-10\n",
      "-2,0,-4,-10\n",
      "-2,0,-3,-10\n",
      "-2,0,-2,-10\n",
      "-2,0,-1,-10\n",
      "-2,0,0,-10\n",
      "-2,0,1,-10\n",
      "-2,0,2,-10\n",
      "-2,0,3,-10\n",
      "-2,0,4,-10\n",
      "-2,0,5,-10\n",
      "-2,0,6,-10\n",
      "-2,0,7,-10\n",
      "-2,0,8,-10\n",
      "-2,0,9,-10\n",
      "-2,2,-10,0\n",
      "-2,2,-9,-1\n",
      "-2,2,-8,-2\n",
      "-2,2,-7,-3\n",
      "-2,2,-6,-4\n",
      "-2,2,-5,-5\n",
      "-2,2,-4,-6\n",
      "-2,2,-3,-7\n",
      "-2,2,-2,-8\n",
      "-2,2,-1,-9\n",
      "-2,2,0,-10\n",
      "-2,2,1,9\n",
      "-2,2,2,8\n",
      "-2,2,3,7\n",
      "-2,2,4,6\n",
      "-2,2,5,5\n",
      "-2,2,6,4\n",
      "-2,2,7,3\n",
      "-2,2,8,2\n",
      "-2,2,9,1\n",
      "-1,-10,-2,0\n",
      "-1,-10,1,-10\n",
      "-1,-10,2,0\n",
      "-1,-9,-2,2\n",
      "-1,-9,2,-2\n",
      "0,-10,-2,0\n",
      "0,-10,-2,2\n",
      "0,-10,2,-2\n",
      "0,-10,2,0\n",
      "0,-2,-10,-9\n",
      "0,-2,-10,-8\n",
      "0,-2,-10,-7\n",
      "0,-2,-10,-6\n",
      "0,-2,-10,-5\n",
      "0,-2,-10,-4\n",
      "0,-2,-10,-3\n",
      "0,-2,-10,-2\n",
      "0,-2,-10,-1\n",
      "0,-2,-10,0\n",
      "0,-2,-10,1\n",
      "0,-2,-10,2\n",
      "0,-2,-10,3\n",
      "0,-2,-10,4\n",
      "0,-2,-10,5\n",
      "0,-2,-10,6\n",
      "0,-2,-10,7\n",
      "0,-2,-10,8\n",
      "0,-2,-10,9\n",
      "0,2,-10,-10\n",
      "0,2,-10,-9\n",
      "0,2,-10,-8\n",
      "0,2,-10,-7\n",
      "0,2,-10,-6\n",
      "0,2,-10,-5\n",
      "0,2,-10,-4\n",
      "0,2,-10,-3\n",
      "0,2,-10,-2\n",
      "0,2,-10,-1\n",
      "0,2,-10,0\n",
      "0,2,-10,1\n",
      "0,2,-10,2\n",
      "0,2,-10,3\n",
      "0,2,-10,4\n",
      "0,2,-10,5\n",
      "0,2,-10,6\n",
      "0,2,-10,7\n",
      "0,2,-10,8\n",
      "0,2,-10,9\n",
      "1,-10,-2,0\n",
      "1,-10,-1,-10\n",
      "1,-10,2,0\n",
      "1,9,-2,2\n",
      "1,9,2,-2\n",
      "2,-10,-2,0\n",
      "2,-10,2,0\n",
      "2,-2,-10,0\n",
      "2,-2,-9,-1\n",
      "2,-2,-8,-2\n",
      "2,-2,-7,-3\n",
      "2,-2,-6,-4\n",
      "2,-2,-5,-5\n",
      "2,-2,-4,-6\n",
      "2,-2,-3,-7\n",
      "2,-2,-2,-8\n",
      "2,-2,-1,-9\n",
      "2,-2,0,-10\n",
      "2,-2,1,9\n",
      "2,-2,2,8\n",
      "2,-2,3,7\n",
      "2,-2,4,6\n",
      "2,-2,5,5\n",
      "2,-2,6,4\n",
      "2,-2,7,3\n",
      "2,-2,8,2\n",
      "2,-2,9,1\n",
      "2,0,-10,-10\n",
      "2,0,-9,-10\n",
      "2,0,-8,-10\n",
      "2,0,-7,-10\n",
      "2,0,-6,-10\n",
      "2,0,-5,-10\n",
      "2,0,-4,-10\n",
      "2,0,-3,-10\n",
      "2,0,-2,-10\n",
      "2,0,-1,-10\n",
      "2,0,0,-10\n",
      "2,0,1,-10\n",
      "2,0,2,-10\n",
      "2,0,3,-10\n",
      "2,0,4,-10\n",
      "2,0,5,-10\n",
      "2,0,6,-10\n",
      "2,0,7,-10\n",
      "2,0,8,-10\n",
      "2,0,9,-10\n",
      "2,8,-2,2\n",
      "2,8,2,-2\n",
      "3,-10,-2,0\n",
      "3,-10,2,0\n",
      "3,7,-2,2\n",
      "3,7,2,-2\n",
      "4,-10,-2,0\n",
      "4,-10,2,0\n",
      "4,-10,6,-10\n",
      "4,6,-6,-4\n",
      "4,6,-2,2\n",
      "4,6,2,-2\n",
      "4,6,6,4\n",
      "5,-10,-2,0\n",
      "5,-10,2,0\n",
      "5,5,-2,2\n",
      "5,5,2,-2\n",
      "6,-10,-2,0\n",
      "6,-10,2,0\n",
      "6,-10,4,-10\n",
      "6,4,-4,-6\n",
      "6,4,-2,2\n",
      "6,4,2,-2\n",
      "6,4,4,6\n",
      "7,-10,-2,0\n",
      "7,-10,2,0\n",
      "7,3,-2,2\n",
      "7,3,2,-2\n",
      "8,-10,-2,0\n",
      "8,-10,2,0\n",
      "8,2,-2,2\n",
      "8,2,2,-2\n",
      "9,-10,-2,0\n",
      "9,-10,2,0\n",
      "9,1,-2,2\n",
      "9,1,2,-2\n"
     ]
    }
   ],
   "source": [
    "# G = nanotorus(2,0,-5,10)\n",
    "\n",
    "# def izomorfna(F, G):\n",
    "#     try:\n",
    "#         return F.is_isomorphic(G)\n",
    "#     except AttributeError:\n",
    "#         return False\n",
    "\n",
    "# for k in range(-10, 10):\n",
    "#     for l in range(-10, 10):\n",
    "#         for m in range(-10, 10):\n",
    "#             for n in range(-10, 10):\n",
    "#                 if izomorfna(nanotorus(k,l,m,n),G):\n",
    "#                     print('{},{},{},{}'.format(k,l,m,n))\n"
   ]
  },
  {
   "cell_type": "code",
   "execution_count": 47,
   "metadata": {},
   "outputs": [],
   "source": [
    "def izomorfni_graf(k, l, m, n):\n",
    "    # hocemo dobiti graf oblike (0, l', m', n'), ki je izomorfen (k, l, m, n)\n",
    "    # a * (k, l) = b * (m, n) + (0, c) # kateri vodoravni (desno dol) vektor povezuje (0, 0) - izhodišče \n",
    "    # in naslednjo (0, 0) točko. x in y bomo razložili kasneje.\n",
    "    # d, x, y = xgcd(m, k)\n",
    "    # d = abs(d)\n",
    "    # a = m / d\n",
    "    # b = k / d\n",
    "    # c = abs(a * l - b * n) # = (m * l - k * n) / d\n",
    "    \n",
    "    # stevilo sestkotnikov = c * d = m * l - n * k = det([[k, l], [m, n]])\n",
    "    # iscemo paralelogram druge oblike z istim stevilom seskotnikov, zato mora veljati:\n",
    "    # det([[k, l], [m, n]]) = c * d = det([[0, l'], [m', n']]) ... se absolutne vrednosti\n",
    "    # sledi: abs(c * d) = abs(m' * l')\n",
    "    # iz konstrukcije: na zacetku smo fiksirali (0, l') = (0, c), torej l' = c in m' = d \n",
    "    # (Dobili bomo en graf, ki je izomorfen in ne vseh)\n",
    "    \n",
    "    # ll = c\n",
    "    # mm = d\n",
    "    \n",
    "    # veljati mora tudi (m', n') = x * (k, l) + y * (m, n) \n",
    "    # (z x vektorji (k, l) in y vektorji (m, n) moramo priti v točko (m', n'), ker mora biti oblike (0, 0) )\n",
    "    # Iz prvega pogoja dobimo enačbo m' = d = gcd(m, k) = x * k + y * n. x in y smo poračunali zgoraj.\n",
    "    \n",
    "    # iz drugega pogoja poracunamo:\n",
    "    \n",
    "    # nn = x * l + y * n \n",
    "    \n",
    "    # da bi dobili več različni izomorfnih nanotorov, bi lahko vzeli nn po mod(l')\n",
    "    # l' = c (toliko stolpcev je med dvema sestkotnikoma oblike (0, 0) v doloceni vrstici)\n",
    "    \n",
    "    # vrnemo nanotorus(0, l', m', n')\n",
    "    \n",
    "    d, x, y = xgcd(k, m)\n",
    "    d = abs(d)\n",
    "    a = m / d\n",
    "    b = k / d\n",
    "    c = abs(a * l - b * n)\n",
    "    \n",
    "    ll = c\n",
    "    mm = d\n",
    "    \n",
    "    nn = x * l + y * n \n",
    "    \n",
    "    return nanotorus(0, ll, mm, nn)"
   ]
  },
  {
   "cell_type": "code",
   "execution_count": 48,
   "metadata": {},
   "outputs": [
    {
     "data": {
      "text/plain": [
       "True"
      ]
     },
     "execution_count": 48,
     "metadata": {},
     "output_type": "execute_result"
    }
   ],
   "source": [
    "nanotorus(3, 1, 1, 2).is_isomorphic(izomorfni_graf(3, 1, 1, 2))"
   ]
  },
  {
   "cell_type": "code",
   "execution_count": 49,
   "metadata": {},
   "outputs": [
    {
     "data": {
      "text/plain": [
       "True"
      ]
     },
     "execution_count": 49,
     "metadata": {},
     "output_type": "execute_result"
    }
   ],
   "source": [
    "k = 5\n",
    "l = -3\n",
    "m = 2\n",
    "n = 4\n",
    "\n",
    "nanotorus(k, l, m, n).is_isomorphic(izomorfni_graf(k, l, m, n))"
   ]
  },
  {
   "cell_type": "code",
   "execution_count": 50,
   "metadata": {},
   "outputs": [
    {
     "data": {
      "text/plain": [
       "True"
      ]
     },
     "execution_count": 50,
     "metadata": {},
     "output_type": "execute_result"
    }
   ],
   "source": [
    "k = 7\n",
    "l = -1\n",
    "m = 4\n",
    "n = 1\n",
    "\n",
    "nanotorus(k, l, m, n).is_isomorphic(izomorfni_graf(k, l, m, n))"
   ]
  },
  {
   "cell_type": "code",
   "execution_count": 53,
   "metadata": {},
   "outputs": [
    {
     "data": {
      "text/plain": [
       "True"
      ]
     },
     "execution_count": 53,
     "metadata": {},
     "output_type": "execute_result"
    }
   ],
   "source": [
    "k = 20\n",
    "l = -17\n",
    "m = 3\n",
    "n = 7\n",
    "\n",
    "nanotorus(k, l, m, n).is_isomorphic(izomorfni_graf(k, l, m, n))"
   ]
  },
  {
   "cell_type": "markdown",
   "metadata": {},
   "source": [
    "## Iskanje formule za ŠTEVILO TOČK DO DANE RAZDALJE:"
   ]
  },
  {
   "cell_type": "code",
   "execution_count": 56,
   "metadata": {},
   "outputs": [
    {
     "name": "stdout",
     "output_type": "stream",
     "text": [
      "1 tock na razdalji 0\n",
      "3 tock na razdalji 1\n",
      "5 tock na razdalji 2\n",
      "7 tock na razdalji 3\n",
      "9 tock na razdalji 4\n",
      "11 tock na razdalji 5\n",
      "13 tock na razdalji 6\n",
      "15 tock na razdalji 7\n",
      "17 tock na razdalji 8\n",
      "19 tock na razdalji 9\n"
     ]
    },
    {
     "data": {
      "text/plain": [
       "{V(1a, 0b), U(0a, 0b), V(1a, 9b)}"
      ]
     },
     "execution_count": 56,
     "metadata": {},
     "output_type": "execute_result"
    }
   ],
   "source": [
    "J = nanotorus(1,0,0,10)\n",
    "r = J.diameter()\n",
    "for i in range(r):\n",
    "    print(\"{} tock na razdalji {}\".format(len(vozlisca_na_razdalji_d(J, U(0,0), set(), i)), i))\n",
    "vozlisca_na_razdalji_d(J, U(0,0), set(), 1)"
   ]
  },
  {
   "cell_type": "code",
   "execution_count": 57,
   "metadata": {},
   "outputs": [
    {
     "name": "stdout",
     "output_type": "stream",
     "text": [
      "1 tock na razdalji 0\n",
      "3 tock na razdalji 1\n",
      "5 tock na razdalji 2\n",
      "7 tock na razdalji 3\n",
      "9 tock na razdalji 4\n",
      "11 tock na razdalji 5\n",
      "13 tock na razdalji 6\n",
      "15 tock na razdalji 7\n",
      "17 tock na razdalji 8\n",
      "19 tock na razdalji 9\n"
     ]
    },
    {
     "data": {
      "text/plain": [
       "{V(1a, 0b), V(1a, 9b), U(0a, 0b)}"
      ]
     },
     "execution_count": 57,
     "metadata": {},
     "output_type": "execute_result"
    }
   ],
   "source": [
    "J = nanotorus(1,0,0,10)\n",
    "r = J.diameter()\n",
    "for i in range(r):\n",
    "    print(\"{} tock na razdalji {}\".format(len(vozlisca_na_razdalji_d(J, U(0,0), set(), i)), i))\n",
    "vozlisca_na_razdalji_d(J, U(0,0), set(), 1)"
   ]
  },
  {
   "cell_type": "code",
   "execution_count": 58,
   "metadata": {},
   "outputs": [
    {
     "name": "stdout",
     "output_type": "stream",
     "text": [
      "1 tock na razdalji 0\n",
      "4 tock na razdalji 1\n",
      "9 tock na razdalji 2\n",
      "14 tock na razdalji 3\n",
      "18 tock na razdalji 4\n",
      "22 tock na razdalji 5\n",
      "26 tock na razdalji 6\n",
      "30 tock na razdalji 7\n",
      "34 tock na razdalji 8\n",
      "38 tock na razdalji 9\n"
     ]
    },
    {
     "data": {
      "text/plain": [
       "{V(2a, 0b), V(2a, 9b), V(1a, 9b), U(0a, 0b)}"
      ]
     },
     "execution_count": 58,
     "metadata": {},
     "output_type": "execute_result"
    }
   ],
   "source": [
    "J = nanotorus(2,0,0,10)\n",
    "r = J.diameter()\n",
    "for i in range(r):\n",
    "    print(\"{} tock na razdalji {}\".format(len(vozlisca_na_razdalji_d(J, U(0,0), set(), i)), i))\n",
    "vozlisca_na_razdalji_d(J, U(0,0), set(), 1)"
   ]
  },
  {
   "cell_type": "code",
   "execution_count": 59,
   "metadata": {},
   "outputs": [
    {
     "name": "stdout",
     "output_type": "stream",
     "text": [
      "1 tock na razdalji 0\n",
      "4 tock na razdalji 1\n",
      "10 tock na razdalji 2\n",
      "18 tock na razdalji 3\n",
      "26 tock na razdalji 4\n",
      "33 tock na razdalji 5\n",
      "39 tock na razdalji 6\n",
      "45 tock na razdalji 7\n",
      "51 tock na razdalji 8\n",
      "57 tock na razdalji 9\n"
     ]
    }
   ],
   "source": [
    "J = nanotorus(3,0,0,10)\n",
    "r = J.diameter()\n",
    "for i in range(r):\n",
    "    print(\"{} tock na razdalji {}\".format(len(vozlisca_na_razdalji_d(J, U(0,0), set(), i)), i))"
   ]
  },
  {
   "cell_type": "code",
   "execution_count": 87,
   "metadata": {},
   "outputs": [
    {
     "name": "stdout",
     "output_type": "stream",
     "text": [
      "1 tock na razdalji 0\n",
      "4 tock na razdalji 1\n",
      "10 tock na razdalji 2\n",
      "19 tock na razdalji 3\n",
      "30 tock na razdalji 4\n",
      "41 tock na razdalji 5\n",
      "51 tock na razdalji 6\n",
      "60 tock na razdalji 7\n",
      "68 tock na razdalji 8\n",
      "76 tock na razdalji 9\n"
     ]
    }
   ],
   "source": [
    "J = nanotorus(4,0,0,10)\n",
    "r = J.diameter()\n",
    "for i in range(r):\n",
    "    print(\"{} tock na razdalji {}\".format(len(vozlisca_na_razdalji_d(J, U(0,0), set(), i)), i))"
   ]
  },
  {
   "cell_type": "code",
   "execution_count": 40,
   "metadata": {},
   "outputs": [
    {
     "name": "stdout",
     "output_type": "stream",
     "text": [
      "1 tock na razdalji 0\n",
      "4 tock na razdalji 1\n",
      "9 tock na razdalji 2\n",
      "14 tock na razdalji 3\n",
      "18 tock na razdalji 4\n",
      "22 tock na razdalji 5\n",
      "26 tock na razdalji 6\n",
      "30 tock na razdalji 7\n",
      "34 tock na razdalji 8\n",
      "38 tock na razdalji 9\n"
     ]
    }
   ],
   "source": [
    "J = nanotorus(2,0,-5,10)\n",
    "r = J.diameter()\n",
    "for i in range(r):\n",
    "    print(\"{} tock na razdalji {}\".format(len(vozlisca_na_razdalji_d(J, U(0,0), set(), i)), i))"
   ]
  },
  {
   "cell_type": "code",
   "execution_count": 116,
   "metadata": {},
   "outputs": [
    {
     "name": "stdout",
     "output_type": "stream",
     "text": [
      "1 tock na razdalji 0\n"
     ]
    }
   ],
   "source": [
    "J = nanotorus(1,0,0,1)\n",
    "r = J.diameter()\n",
    "for i in range(r):\n",
    "    print(\"{} tock na razdalji {}\".format(len(vozlisca_na_razdalji_d(J, U(0,0), set(), i)), i))"
   ]
  },
  {
   "cell_type": "code",
   "execution_count": 117,
   "metadata": {},
   "outputs": [
    {
     "name": "stdout",
     "output_type": "stream",
     "text": [
      "1 tock na razdalji 0\n"
     ]
    }
   ],
   "source": [
    "J = nanotorus(0,1,1,0)\n",
    "r = J.diameter()\n",
    "for i in range(r):\n",
    "    print(\"{} tock na razdalji {}\".format(len(vozlisca_na_razdalji_d(J, U(0,0), set(), i)), i))"
   ]
  },
  {
   "cell_type": "code",
   "execution_count": 118,
   "metadata": {},
   "outputs": [
    {
     "name": "stdout",
     "output_type": "stream",
     "text": [
      "1 tock na razdalji 0\n"
     ]
    }
   ],
   "source": [
    "J = nanotorus(-1,0,0,-1)\n",
    "r = J.diameter()\n",
    "for i in range(r):\n",
    "    print(\"{} tock na razdalji {}\".format(len(vozlisca_na_razdalji_d(J, U(0,0), set(), i)), i))"
   ]
  },
  {
   "cell_type": "code",
   "execution_count": 119,
   "metadata": {},
   "outputs": [
    {
     "name": "stdout",
     "output_type": "stream",
     "text": [
      "1 tock na razdalji 0\n"
     ]
    }
   ],
   "source": [
    "J = nanotorus(0,1,1,0)\n",
    "r = J.diameter()\n",
    "for i in range(r):\n",
    "    print(\"{} tock na razdalji {}\".format(len(vozlisca_na_razdalji_d(J, U(0,0), set(), i)), i))"
   ]
  },
  {
   "cell_type": "code",
   "execution_count": 120,
   "metadata": {},
   "outputs": [
    {
     "name": "stdout",
     "output_type": "stream",
     "text": [
      "1 tock na razdalji 0\n",
      "3 tock na razdalji 1\n"
     ]
    }
   ],
   "source": [
    "J = nanotorus(2,0,0,1)\n",
    "r = J.diameter()\n",
    "for i in range(r):\n",
    "    print(\"{} tock na razdalji {}\".format(len(vozlisca_na_razdalji_d(J, U(0,0), set(), i)), i))"
   ]
  },
  {
   "cell_type": "code",
   "execution_count": 124,
   "metadata": {},
   "outputs": [
    {
     "name": "stdout",
     "output_type": "stream",
     "text": [
      "1 tock na razdalji 0\n",
      "3 tock na razdalji 1\n",
      "5 tock na razdalji 2\n"
     ]
    }
   ],
   "source": [
    "J = nanotorus(3,0,0,1)\n",
    "r = J.diameter()\n",
    "for i in range(r):\n",
    "    print(\"{} tock na razdalji {}\".format(len(vozlisca_na_razdalji_d(J, U(0,0), set(), i)), i))"
   ]
  },
  {
   "cell_type": "code",
   "execution_count": 123,
   "metadata": {},
   "outputs": [
    {
     "name": "stdout",
     "output_type": "stream",
     "text": [
      "1 tock na razdalji 0\n",
      "3 tock na razdalji 1\n",
      "5 tock na razdalji 2\n",
      "7 tock na razdalji 3\n",
      "9 tock na razdalji 4\n",
      "11 tock na razdalji 5\n",
      "13 tock na razdalji 6\n",
      "15 tock na razdalji 7\n"
     ]
    }
   ],
   "source": [
    "J = nanotorus(8,0,0,1)\n",
    "r = J.diameter()\n",
    "for i in range(r):\n",
    "    print(\"{} tock na razdalji {}\".format(len(vozlisca_na_razdalji_d(J, U(0,0), set(), i)), i))"
   ]
  },
  {
   "cell_type": "code",
   "execution_count": 125,
   "metadata": {},
   "outputs": [
    {
     "name": "stdout",
     "output_type": "stream",
     "text": [
      "1 tock na razdalji 0\n",
      "4 tock na razdalji 1\n",
      "7 tock na razdalji 2\n"
     ]
    }
   ],
   "source": [
    "J = nanotorus(2,0,0,2)\n",
    "r = J.diameter()\n",
    "for i in range(r):\n",
    "    print(\"{} tock na razdalji {}\".format(len(vozlisca_na_razdalji_d(J, U(0,0), set(), i)), i))"
   ]
  },
  {
   "cell_type": "code",
   "execution_count": 126,
   "metadata": {},
   "outputs": [
    {
     "name": "stdout",
     "output_type": "stream",
     "text": [
      "1 tock na razdalji 0\n",
      "4 tock na razdalji 1\n",
      "9 tock na razdalji 2\n"
     ]
    }
   ],
   "source": [
    "J = nanotorus(3,0,0,2)\n",
    "r = J.diameter()\n",
    "for i in range(r):\n",
    "    print(\"{} tock na razdalji {}\".format(len(vozlisca_na_razdalji_d(J, U(0,0), set(), i)), i))"
   ]
  },
  {
   "cell_type": "code",
   "execution_count": 127,
   "metadata": {},
   "outputs": [
    {
     "name": "stdout",
     "output_type": "stream",
     "text": [
      "1 tock na razdalji 0\n",
      "4 tock na razdalji 1\n",
      "9 tock na razdalji 2\n",
      "14 tock na razdalji 3\n"
     ]
    }
   ],
   "source": [
    "J = nanotorus(4,0,0,2)\n",
    "r = J.diameter()\n",
    "for i in range(r):\n",
    "    print(\"{} tock na razdalji {}\".format(len(vozlisca_na_razdalji_d(J, U(0,0), set(), i)), i))"
   ]
  },
  {
   "cell_type": "code",
   "execution_count": 128,
   "metadata": {},
   "outputs": [
    {
     "name": "stdout",
     "output_type": "stream",
     "text": [
      "1 tock na razdalji 0\n",
      "4 tock na razdalji 1\n",
      "9 tock na razdalji 2\n",
      "14 tock na razdalji 3\n",
      "18 tock na razdalji 4\n",
      "22 tock na razdalji 5\n",
      "26 tock na razdalji 6\n",
      "30 tock na razdalji 7\n"
     ]
    }
   ],
   "source": [
    "J = nanotorus(8,0,0,2)\n",
    "r = J.diameter()\n",
    "for i in range(r):\n",
    "    print(\"{} tock na razdalji {}\".format(len(vozlisca_na_razdalji_d(J, U(0,0), set(), i)), i))"
   ]
  },
  {
   "cell_type": "code",
   "execution_count": 133,
   "metadata": {},
   "outputs": [
    {
     "name": "stdout",
     "output_type": "stream",
     "text": [
      "1 tock na razdalji 0\n",
      "4 tock na razdalji 1\n",
      "10 tock na razdalji 2\n",
      "18 tock na razdalji 3\n",
      "26 tock na razdalji 4\n",
      "33 tock na razdalji 5\n",
      "39 tock na razdalji 6\n",
      "45 tock na razdalji 7\n",
      "51 tock na razdalji 8\n",
      "57 tock na razdalji 9\n"
     ]
    }
   ],
   "source": [
    "J = nanotorus(10,0,0,3)\n",
    "r = J.diameter()\n",
    "for i in range(r):\n",
    "    print(\"{} tock na razdalji {}\".format(len(vozlisca_na_razdalji_d(J, U(0,0), set(), i)), i))"
   ]
  },
  {
   "cell_type": "code",
   "execution_count": 96,
   "metadata": {},
   "outputs": [
    {
     "name": "stdout",
     "output_type": "stream",
     "text": [
      "Radij je 10, (k, l, m, n) = (10,0,0,2)\n",
      "1 tock na razdalji 0\n",
      "4 tock na razdalji 1\n",
      "9 tock na razdalji 2\n",
      "14 tock na razdalji 3\n",
      "18 tock na razdalji 4\n",
      "22 tock na razdalji 5\n",
      "26 tock na razdalji 6\n",
      "30 tock na razdalji 7\n",
      "34 tock na razdalji 8\n",
      "38 tock na razdalji 9\n",
      "40 tock na razdalji 10\n"
     ]
    }
   ],
   "source": [
    "k, l, m, n = 10, 0, 0, 2\n",
    "\n",
    "H = nanotorus(k, l, m, n)\n",
    "radij = H.diameter()\n",
    "print(\"Radij je {}, (k, l, m, n) = ({},{},{},{})\".format(radij, k, l, m, n))\n",
    "for d in range(radij + 1):\n",
    "    #print(\"korak :\", d)\n",
    "    bliznje = vozlisca_na_razdalji_d(H, U(0,0), set(), d)\n",
    "    #print(bliznje)\n",
    "    print(\"{} tock na razdalji {}\".format(len(bliznje), d))"
   ]
  },
  {
   "cell_type": "code",
   "execution_count": 99,
   "metadata": {},
   "outputs": [
    {
     "name": "stdout",
     "output_type": "stream",
     "text": [
      "Radij je 10, (k, l, m, n) = (0,5,10,0)\n",
      "1 tock na razdalji 0\n",
      "4 tock na razdalji 1\n",
      "10 tock na razdalji 2\n",
      "19 tock na razdalji 3\n",
      "31 tock na razdalji 4\n",
      "45 tock na razdalji 5\n",
      "59 tock na razdalji 6\n",
      "72 tock na razdalji 7\n",
      "84 tock na razdalji 8\n",
      "95 tock na razdalji 9\n",
      "100 tock na razdalji 10\n"
     ]
    }
   ],
   "source": [
    "k, l, m, n = 0, 5, 10, 0\n",
    "\n",
    "H = nanotorus(k, l, m, n)\n",
    "radij = H.diameter()\n",
    "print(\"Radij je {}, (k, l, m, n) = ({},{},{},{})\".format(radij, k, l, m, n))\n",
    "for d in range(radij + 1):\n",
    "    #print(\"korak :\", d)\n",
    "    bliznje = vozlisca_na_razdalji_d(H, U(0,0), set(), d)\n",
    "    #print(bliznje)\n",
    "    print(\"{} tock na razdalji {}\".format(len(bliznje), d))"
   ]
  },
  {
   "cell_type": "markdown",
   "metadata": {},
   "source": [
    "# Čas izvajanja"
   ]
  },
  {
   "cell_type": "code",
   "execution_count": 26,
   "metadata": {},
   "outputs": [
    {
     "name": "stdout",
     "output_type": "stream",
     "text": [
      "Paralelogram je izrojen!\n",
      "Za konstrukcijo nanotora (0, 2, 0, 0) sem porabil 0.0207719802856 sekund.\n",
      "Za konstrukcijo nanotora (0, 2, 1, 0) sem porabil 0.0317900180817 sekund.\n",
      "Za konstrukcijo nanotora (0, 2, 2, 0) sem porabil 0.0454969406128 sekund.\n",
      "Za konstrukcijo nanotora (0, 2, 3, 0) sem porabil 0.0763080120087 sekund.\n",
      "Za konstrukcijo nanotora (0, 2, 4, 0) sem porabil 0.100385189056 sekund.\n",
      "Za konstrukcijo nanotora (0, 2, 5, 0) sem porabil 0.144529819489 sekund.\n",
      "Za konstrukcijo nanotora (0, 2, 6, 0) sem porabil 0.144497871399 sekund.\n",
      "Za konstrukcijo nanotora (0, 2, 7, 0) sem porabil 0.160187005997 sekund.\n",
      "Za konstrukcijo nanotora (0, 2, 8, 0) sem porabil 0.173603057861 sekund.\n",
      "Za konstrukcijo nanotora (0, 2, 9, 0) sem porabil 0.211519002914 sekund.\n",
      "Za konstrukcijo nanotora (0, 2, 10, 0) sem porabil 0.23780798912 sekund.\n",
      "Za konstrukcijo nanotora (0, 2, 11, 0) sem porabil 0.236883878708 sekund.\n",
      "Za konstrukcijo nanotora (0, 2, 12, 0) sem porabil 0.286211967468 sekund.\n",
      "Za konstrukcijo nanotora (0, 2, 13, 0) sem porabil 0.298084020615 sekund.\n",
      "Za konstrukcijo nanotora (0, 2, 14, 0) sem porabil 0.337810993195 sekund.\n",
      "Za konstrukcijo nanotora (0, 2, 15, 0) sem porabil 0.334964990616 sekund.\n",
      "Za konstrukcijo nanotora (0, 2, 16, 0) sem porabil 0.358479976654 sekund.\n",
      "Za konstrukcijo nanotora (0, 2, 17, 0) sem porabil 0.362145900726 sekund.\n",
      "Za konstrukcijo nanotora (0, 2, 18, 0) sem porabil 0.441083908081 sekund.\n",
      "Za konstrukcijo nanotora (0, 2, 19, 0) sem porabil 0.520761013031 sekund.\n",
      "Za konstrukcijo nanotora (0, 2, 20, 0) sem porabil 0.419192075729 sekund.\n",
      "Za konstrukcijo nanotora (0, 2, 21, 0) sem porabil 0.439620018005 sekund.\n",
      "Za konstrukcijo nanotora (0, 2, 22, 0) sem porabil 0.495138883591 sekund.\n",
      "Za konstrukcijo nanotora (0, 2, 23, 0) sem porabil 0.51859498024 sekund.\n",
      "Za konstrukcijo nanotora (0, 2, 24, 0) sem porabil 0.557914972305 sekund.\n",
      "Za konstrukcijo nanotora (0, 2, 25, 0) sem porabil 0.54399394989 sekund.\n",
      "Za konstrukcijo nanotora (0, 2, 26, 0) sem porabil 0.575114011765 sekund.\n",
      "Za konstrukcijo nanotora (0, 2, 27, 0) sem porabil 0.732607126236 sekund.\n",
      "Za konstrukcijo nanotora (0, 2, 28, 0) sem porabil 0.649517774582 sekund.\n",
      "Za konstrukcijo nanotora (0, 2, 29, 0) sem porabil 0.691247940063 sekund.\n",
      "Za konstrukcijo nanotora (0, 2, 30, 0) sem porabil 0.645985126495 sekund.\n",
      "Za konstrukcijo nanotora (0, 2, 31, 0) sem porabil 0.681005954742 sekund.\n",
      "Za konstrukcijo nanotora (0, 2, 32, 0) sem porabil 0.703820943832 sekund.\n",
      "Za konstrukcijo nanotora (0, 2, 33, 0) sem porabil 0.737837791443 sekund.\n",
      "Za konstrukcijo nanotora (0, 2, 34, 0) sem porabil 0.735604047775 sekund.\n",
      "Za konstrukcijo nanotora (0, 2, 35, 0) sem porabil 0.779142141342 sekund.\n",
      "Za konstrukcijo nanotora (0, 2, 36, 0) sem porabil 0.772707223892 sekund.\n",
      "Za konstrukcijo nanotora (0, 2, 37, 0) sem porabil 0.794422864914 sekund.\n",
      "Za konstrukcijo nanotora (0, 2, 38, 0) sem porabil 0.818393945694 sekund.\n",
      "Za konstrukcijo nanotora (0, 2, 39, 0) sem porabil 0.856935024261 sekund.\n",
      "Za konstrukcijo nanotora (0, 2, 40, 0) sem porabil 0.868521928787 sekund.\n",
      "Za konstrukcijo nanotora (0, 2, 41, 0) sem porabil 0.883880853653 sekund.\n",
      "Za konstrukcijo nanotora (0, 2, 42, 0) sem porabil 0.934257984161 sekund.\n",
      "Za konstrukcijo nanotora (0, 2, 43, 0) sem porabil 0.999697208405 sekund.\n",
      "Za konstrukcijo nanotora (0, 2, 44, 0) sem porabil 0.932482004166 sekund.\n",
      "Za konstrukcijo nanotora (0, 2, 45, 0) sem porabil 1.0849750042 sekund.\n",
      "Za konstrukcijo nanotora (0, 2, 46, 0) sem porabil 1.07334709167 sekund.\n",
      "Za konstrukcijo nanotora (0, 2, 47, 0) sem porabil 1.08504009247 sekund.\n",
      "Za konstrukcijo nanotora (0, 2, 48, 0) sem porabil 1.18457603455 sekund.\n",
      "Za konstrukcijo nanotora (0, 2, 49, 0) sem porabil 1.06104111671 sekund.\n",
      "Za konstrukcijo nanotora (0, 2, 50, 0) sem porabil 1.11603116989 sekund.\n",
      "Za konstrukcijo nanotora (0, 2, 51, 0) sem porabil 1.17856001854 sekund.\n",
      "Za konstrukcijo nanotora (0, 2, 52, 0) sem porabil 1.1460878849 sekund.\n",
      "Za konstrukcijo nanotora (0, 2, 53, 0) sem porabil 1.1842751503 sekund.\n",
      "Za konstrukcijo nanotora (0, 2, 54, 0) sem porabil 1.22495508194 sekund.\n",
      "Za konstrukcijo nanotora (0, 2, 55, 0) sem porabil 1.34724593163 sekund.\n",
      "Za konstrukcijo nanotora (0, 2, 56, 0) sem porabil 1.25947213173 sekund.\n",
      "Za konstrukcijo nanotora (0, 2, 57, 0) sem porabil 1.24244093895 sekund.\n",
      "Za konstrukcijo nanotora (0, 2, 58, 0) sem porabil 1.27331590652 sekund.\n",
      "Za konstrukcijo nanotora (0, 2, 59, 0) sem porabil 1.34139895439 sekund.\n",
      "Za konstrukcijo nanotora (0, 2, 60, 0) sem porabil 1.80194997787 sekund.\n",
      "Za konstrukcijo nanotora (0, 2, 61, 0) sem porabil 1.31069898605 sekund.\n",
      "Za konstrukcijo nanotora (0, 2, 62, 0) sem porabil 1.30363297462 sekund.\n",
      "Za konstrukcijo nanotora (0, 2, 63, 0) sem porabil 1.32006716728 sekund.\n",
      "Za konstrukcijo nanotora (0, 2, 64, 0) sem porabil 1.34629106522 sekund.\n",
      "Za konstrukcijo nanotora (0, 2, 65, 0) sem porabil 1.38856101036 sekund.\n",
      "Za konstrukcijo nanotora (0, 2, 66, 0) sem porabil 1.39064884186 sekund.\n",
      "Za konstrukcijo nanotora (0, 2, 67, 0) sem porabil 1.39519715309 sekund.\n",
      "Za konstrukcijo nanotora (0, 2, 68, 0) sem porabil 1.4811000824 sekund.\n",
      "Za konstrukcijo nanotora (0, 2, 69, 0) sem porabil 1.44720816612 sekund.\n",
      "Za konstrukcijo nanotora (0, 2, 70, 0) sem porabil 1.45650005341 sekund.\n",
      "Za konstrukcijo nanotora (0, 2, 71, 0) sem porabil 1.50719189644 sekund.\n",
      "Za konstrukcijo nanotora (0, 2, 72, 0) sem porabil 1.50386500359 sekund.\n",
      "Za konstrukcijo nanotora (0, 2, 73, 0) sem porabil 1.57245707512 sekund.\n",
      "Za konstrukcijo nanotora (0, 2, 74, 0) sem porabil 1.56213116646 sekund.\n",
      "Za konstrukcijo nanotora (0, 2, 75, 0) sem porabil 1.64230799675 sekund.\n",
      "Za konstrukcijo nanotora (0, 2, 76, 0) sem porabil 1.68301200867 sekund.\n",
      "Za konstrukcijo nanotora (0, 2, 77, 0) sem porabil 1.65934514999 sekund.\n",
      "Za konstrukcijo nanotora (0, 2, 78, 0) sem porabil 1.69023799896 sekund.\n",
      "Za konstrukcijo nanotora (0, 2, 79, 0) sem porabil 1.74194502831 sekund.\n",
      "Za konstrukcijo nanotora (0, 2, 80, 0) sem porabil 1.7329249382 sekund.\n",
      "Za konstrukcijo nanotora (0, 2, 81, 0) sem porabil 1.72443199158 sekund.\n",
      "Za konstrukcijo nanotora (0, 2, 82, 0) sem porabil 1.77835893631 sekund.\n",
      "Za konstrukcijo nanotora (0, 2, 83, 0) sem porabil 1.76737189293 sekund.\n",
      "Za konstrukcijo nanotora (0, 2, 84, 0) sem porabil 1.91753697395 sekund.\n",
      "Za konstrukcijo nanotora (0, 2, 85, 0) sem porabil 2.01007509232 sekund.\n",
      "Za konstrukcijo nanotora (0, 2, 86, 0) sem porabil 1.87328386307 sekund.\n",
      "Za konstrukcijo nanotora (0, 2, 87, 0) sem porabil 1.90937304497 sekund.\n",
      "Za konstrukcijo nanotora (0, 2, 88, 0) sem porabil 1.97435498238 sekund.\n",
      "Za konstrukcijo nanotora (0, 2, 89, 0) sem porabil 1.92407894135 sekund.\n",
      "Za konstrukcijo nanotora (0, 2, 90, 0) sem porabil 1.95748901367 sekund.\n",
      "Za konstrukcijo nanotora (0, 2, 91, 0) sem porabil 2.00048899651 sekund.\n",
      "Za konstrukcijo nanotora (0, 2, 92, 0) sem porabil 2.03752613068 sekund.\n",
      "Za konstrukcijo nanotora (0, 2, 93, 0) sem porabil 2.04782795906 sekund.\n",
      "Za konstrukcijo nanotora (0, 2, 94, 0) sem porabil 2.04421710968 sekund.\n",
      "Za konstrukcijo nanotora (0, 2, 95, 0) sem porabil 2.156072855 sekund.\n",
      "Za konstrukcijo nanotora (0, 2, 96, 0) sem porabil 2.12532091141 sekund.\n",
      "Za konstrukcijo nanotora (0, 2, 97, 0) sem porabil 2.13656902313 sekund.\n",
      "Za konstrukcijo nanotora (0, 2, 98, 0) sem porabil 2.14662218094 sekund.\n",
      "Za konstrukcijo nanotora (0, 2, 99, 0) sem porabil 2.2112929821 sekund.\n",
      "Za konstrukcijo nanotora (0, 2, 100, 0) sem porabil 2.27324604988 sekund.\n",
      "Za konstrukcijo nanotora (0, 2, 101, 0) sem porabil 2.23408007622 sekund.\n",
      "Za konstrukcijo nanotora (0, 2, 102, 0) sem porabil 2.2592291832 sekund.\n",
      "Za konstrukcijo nanotora (0, 2, 103, 0) sem porabil 2.2730050087 sekund.\n",
      "Za konstrukcijo nanotora (0, 2, 104, 0) sem porabil 2.32901000977 sekund.\n",
      "Za konstrukcijo nanotora (0, 2, 105, 0) sem porabil 2.33791780472 sekund.\n",
      "Za konstrukcijo nanotora (0, 2, 106, 0) sem porabil 2.31661319733 sekund.\n",
      "Za konstrukcijo nanotora (0, 2, 107, 0) sem porabil 2.36008381844 sekund.\n",
      "Za konstrukcijo nanotora (0, 2, 108, 0) sem porabil 2.39998888969 sekund.\n",
      "Za konstrukcijo nanotora (0, 2, 109, 0) sem porabil 2.41850209236 sekund.\n",
      "Za konstrukcijo nanotora (0, 2, 110, 0) sem porabil 2.46300911903 sekund.\n",
      "Za konstrukcijo nanotora (0, 2, 111, 0) sem porabil 2.79529809952 sekund.\n"
     ]
    },
    {
     "name": "stdout",
     "output_type": "stream",
     "text": [
      "Za konstrukcijo nanotora (0, 2, 112, 0) sem porabil 2.93941617012 sekund.\n",
      "Za konstrukcijo nanotora (0, 2, 113, 0) sem porabil 2.80138301849 sekund.\n",
      "Za konstrukcijo nanotora (0, 2, 114, 0) sem porabil 2.67629003525 sekund.\n",
      "Za konstrukcijo nanotora (0, 2, 115, 0) sem porabil 3.09534311295 sekund.\n",
      "Za konstrukcijo nanotora (0, 2, 116, 0) sem porabil 2.63978791237 sekund.\n",
      "Za konstrukcijo nanotora (0, 2, 117, 0) sem porabil 2.62199115753 sekund.\n",
      "Za konstrukcijo nanotora (0, 2, 118, 0) sem porabil 2.64522314072 sekund.\n",
      "Za konstrukcijo nanotora (0, 2, 119, 0) sem porabil 2.68901395798 sekund.\n",
      "Za konstrukcijo nanotora (0, 2, 120, 0) sem porabil 2.96121311188 sekund.\n",
      "Za konstrukcijo nanotora (0, 2, 121, 0) sem porabil 2.77066802979 sekund.\n",
      "Za konstrukcijo nanotora (0, 2, 122, 0) sem porabil 2.77597498894 sekund.\n",
      "Za konstrukcijo nanotora (0, 2, 123, 0) sem porabil 2.83251905441 sekund.\n",
      "Za konstrukcijo nanotora (0, 2, 124, 0) sem porabil 2.80027580261 sekund.\n",
      "Za konstrukcijo nanotora (0, 2, 125, 0) sem porabil 2.81570291519 sekund.\n",
      "Za konstrukcijo nanotora (0, 2, 126, 0) sem porabil 2.82222700119 sekund.\n",
      "Za konstrukcijo nanotora (0, 2, 127, 0) sem porabil 2.85581302643 sekund.\n",
      "Za konstrukcijo nanotora (0, 2, 128, 0) sem porabil 2.88967418671 sekund.\n",
      "Za konstrukcijo nanotora (0, 2, 129, 0) sem porabil 2.88834905624 sekund.\n",
      "Za konstrukcijo nanotora (0, 2, 130, 0) sem porabil 2.95516896248 sekund.\n",
      "Za konstrukcijo nanotora (0, 2, 131, 0) sem porabil 2.95261001587 sekund.\n",
      "Za konstrukcijo nanotora (0, 2, 132, 0) sem porabil 3.22563195229 sekund.\n",
      "Za konstrukcijo nanotora (0, 2, 133, 0) sem porabil 3.11157798767 sekund.\n",
      "Za konstrukcijo nanotora (0, 2, 134, 0) sem porabil 3.06811308861 sekund.\n",
      "Za konstrukcijo nanotora (0, 2, 135, 0) sem porabil 3.08135104179 sekund.\n",
      "Za konstrukcijo nanotora (0, 2, 136, 0) sem porabil 3.09962391853 sekund.\n",
      "Za konstrukcijo nanotora (0, 2, 137, 0) sem porabil 3.12731409073 sekund.\n",
      "Za konstrukcijo nanotora (0, 2, 138, 0) sem porabil 3.16258311272 sekund.\n",
      "Za konstrukcijo nanotora (0, 2, 139, 0) sem porabil 3.16775918007 sekund.\n",
      "Za konstrukcijo nanotora (0, 2, 140, 0) sem porabil 3.20255899429 sekund.\n",
      "Za konstrukcijo nanotora (0, 2, 141, 0) sem porabil 3.34768390656 sekund.\n",
      "Za konstrukcijo nanotora (0, 2, 142, 0) sem porabil 3.49792289734 sekund.\n",
      "Za konstrukcijo nanotora (0, 2, 143, 0) sem porabil 3.3547949791 sekund.\n",
      "Za konstrukcijo nanotora (0, 2, 144, 0) sem porabil 3.4282450676 sekund.\n",
      "Za konstrukcijo nanotora (0, 2, 145, 0) sem porabil 3.39036512375 sekund.\n",
      "Za konstrukcijo nanotora (0, 2, 146, 0) sem porabil 3.39282393456 sekund.\n",
      "Za konstrukcijo nanotora (0, 2, 147, 0) sem porabil 3.71837902069 sekund.\n",
      "Za konstrukcijo nanotora (0, 2, 148, 0) sem porabil 3.46247601509 sekund.\n",
      "Za konstrukcijo nanotora (0, 2, 149, 0) sem porabil 3.48596405983 sekund.\n",
      "Za konstrukcijo nanotora (0, 2, 150, 0) sem porabil 3.72281694412 sekund.\n"
     ]
    }
   ],
   "source": [
    "# ### PODALJSEVANJE PARALELGRAMA V ENO SMER ###\n",
    "\n",
    "# import time\n",
    "\n",
    "# # fiksiramo k = 0, l = 5, n = 0 , (m = m)\n",
    "# k, l, n = 0, 2, 0\n",
    "\n",
    "# P1 = []\n",
    "# T1 = []\n",
    "# for m in range(151):\n",
    "#     zacetek = time.time()\n",
    "#     G = nanotorus(k, l, m, n)\n",
    "#     konec = time.time()\n",
    "#     print(\"Za konstrukcijo nanotora ({}, {}, {}, {}) sem porabil {} sekund.\".format(k, l, m, n, konec - zacetek))\n",
    "    \n",
    "#     P1.append(m) # parametri\n",
    "#     T1.append(konec - zacetek) # cas\n",
    "    "
   ]
  },
  {
   "cell_type": "code",
   "execution_count": 27,
   "metadata": {},
   "outputs": [
    {
     "data": {
      "image/png": "[encoded data removed]",
      "text/plain": [
       "<Figure size 432x288 with 1 Axes>"
      ]
     },
     "metadata": {},
     "output_type": "display_data"
    }
   ],
   "source": [
    "import matplotlib\n",
    "import matplotlib.pyplot as plt\n",
    "\n",
    "fig, ax = plt.subplots()\n",
    "ax.plot(P1, T1)\n",
    "\n",
    "ax.set(xlabel='parameter m', ylabel='cas',\n",
    "       title='Casovna zahtevnost konstrukcije nanotora (k, l, m, n) v odvisnosti od m \\n (pri k = 0, l = 5, n = 0) ')\n",
    "ax.grid()\n",
    "\n",
    "fig.savefig(\"zahtevnost1.png\")\n",
    "plt.show()"
   ]
  },
  {
   "cell_type": "code",
   "execution_count": 24,
   "metadata": {},
   "outputs": [
    {
     "name": "stdout",
     "output_type": "stream",
     "text": [
      "Paralelogram je izrojen!\n",
      "Za konstrukcijo nanotora (0, 0, 0, 0) sem porabil 0.00386810302734 sekund.\n",
      "Za konstrukcijo nanotora (0, 1, 1, 0) sem porabil 0.0258169174194 sekund.\n",
      "Za konstrukcijo nanotora (0, 2, 2, 0) sem porabil 0.055478811264 sekund.\n",
      "Za konstrukcijo nanotora (0, 3, 3, 0) sem porabil 0.098217010498 sekund.\n",
      "Za konstrukcijo nanotora (0, 4, 4, 0) sem porabil 0.195756912231 sekund.\n",
      "Za konstrukcijo nanotora (0, 5, 5, 0) sem porabil 0.251332044601 sekund.\n",
      "Za konstrukcijo nanotora (0, 6, 6, 0) sem porabil 0.369438171387 sekund.\n",
      "Za konstrukcijo nanotora (0, 7, 7, 0) sem porabil 0.456685066223 sekund.\n",
      "Za konstrukcijo nanotora (0, 8, 8, 0) sem porabil 0.557857036591 sekund.\n",
      "Za konstrukcijo nanotora (0, 9, 9, 0) sem porabil 0.708075046539 sekund.\n",
      "Za konstrukcijo nanotora (0, 10, 10, 0) sem porabil 0.89746594429 sekund.\n",
      "Za konstrukcijo nanotora (0, 11, 11, 0) sem porabil 1.14458298683 sekund.\n",
      "Za konstrukcijo nanotora (0, 12, 12, 0) sem porabil 1.35836791992 sekund.\n",
      "Za konstrukcijo nanotora (0, 13, 13, 0) sem porabil 1.61850905418 sekund.\n",
      "Za konstrukcijo nanotora (0, 14, 14, 0) sem porabil 1.9677271843 sekund.\n",
      "Za konstrukcijo nanotora (0, 15, 15, 0) sem porabil 2.06749200821 sekund.\n",
      "Za konstrukcijo nanotora (0, 16, 16, 0) sem porabil 2.3356859684 sekund.\n",
      "Za konstrukcijo nanotora (0, 17, 17, 0) sem porabil 2.65175795555 sekund.\n",
      "Za konstrukcijo nanotora (0, 18, 18, 0) sem porabil 3.0110168457 sekund.\n",
      "Za konstrukcijo nanotora (0, 19, 19, 0) sem porabil 3.41287302971 sekund.\n",
      "Za konstrukcijo nanotora (0, 20, 20, 0) sem porabil 3.88090491295 sekund.\n",
      "Za konstrukcijo nanotora (0, 21, 21, 0) sem porabil 4.2691590786 sekund.\n",
      "Za konstrukcijo nanotora (0, 22, 22, 0) sem porabil 4.79923295975 sekund.\n",
      "Za konstrukcijo nanotora (0, 23, 23, 0) sem porabil 5.35012507439 sekund.\n",
      "Za konstrukcijo nanotora (0, 24, 24, 0) sem porabil 6.328551054 sekund.\n",
      "Za konstrukcijo nanotora (0, 25, 25, 0) sem porabil 6.58570504189 sekund.\n",
      "Za konstrukcijo nanotora (0, 26, 26, 0) sem porabil 7.30842900276 sekund.\n",
      "Za konstrukcijo nanotora (0, 27, 27, 0) sem porabil 8.18846392632 sekund.\n",
      "Za konstrukcijo nanotora (0, 28, 28, 0) sem porabil 9.00040984154 sekund.\n",
      "Za konstrukcijo nanotora (0, 29, 29, 0) sem porabil 9.98171281815 sekund.\n",
      "Za konstrukcijo nanotora (0, 30, 30, 0) sem porabil 11.5202839375 sekund.\n",
      "Za konstrukcijo nanotora (0, 31, 31, 0) sem porabil 11.8673808575 sekund.\n",
      "Za konstrukcijo nanotora (0, 32, 32, 0) sem porabil 13.024982214 sekund.\n",
      "Za konstrukcijo nanotora (0, 33, 33, 0) sem porabil 14.3615391254 sekund.\n",
      "Za konstrukcijo nanotora (0, 34, 34, 0) sem porabil 15.5732808113 sekund.\n",
      "Za konstrukcijo nanotora (0, 35, 35, 0) sem porabil 17.3301198483 sekund.\n",
      "Za konstrukcijo nanotora (0, 36, 36, 0) sem porabil 18.4696969986 sekund.\n",
      "Za konstrukcijo nanotora (0, 37, 37, 0) sem porabil 20.3078229427 sekund.\n",
      "Za konstrukcijo nanotora (0, 38, 38, 0) sem porabil 21.6051518917 sekund.\n",
      "Za konstrukcijo nanotora (0, 39, 39, 0) sem porabil 23.7203569412 sekund.\n",
      "Za konstrukcijo nanotora (0, 40, 40, 0) sem porabil 25.205589056 sekund.\n",
      "Za konstrukcijo nanotora (0, 41, 41, 0) sem porabil 27.7931911945 sekund.\n",
      "Za konstrukcijo nanotora (0, 42, 42, 0) sem porabil 28.9830060005 sekund.\n",
      "Za konstrukcijo nanotora (0, 43, 43, 0) sem porabil 32.0157999992 sekund.\n",
      "Za konstrukcijo nanotora (0, 44, 44, 0) sem porabil 33.7538609505 sekund.\n",
      "Za konstrukcijo nanotora (0, 45, 45, 0) sem porabil 36.5875360966 sekund.\n",
      "Za konstrukcijo nanotora (0, 46, 46, 0) sem porabil 39.2916989326 sekund.\n",
      "Za konstrukcijo nanotora (0, 47, 47, 0) sem porabil 42.3668999672 sekund.\n",
      "Za konstrukcijo nanotora (0, 48, 48, 0) sem porabil 44.4295558929 sekund.\n",
      "Za konstrukcijo nanotora (0, 49, 49, 0) sem porabil 47.4951708317 sekund.\n",
      "Za konstrukcijo nanotora (0, 50, 50, 0) sem porabil 50.1548068523 sekund.\n"
     ]
    }
   ],
   "source": [
    "# ## PODALJSEVANJE PARALELGRAMA V DVE SMERI ###\n",
    "\n",
    "# import time\n",
    "\n",
    "# k, l, n = 0, 0, 0\n",
    "\n",
    "# P2 = []\n",
    "# T2 = []\n",
    "# for m in range(51):\n",
    "#     zacetek = time.time()\n",
    "#     G = nanotorus(k, l, m, n)\n",
    "#     konec = time.time()\n",
    "\n",
    "#     print(\"Za konstrukcijo nanotora ({}, {}, {}, {}) sem porabil {} sekund.\".format(k, l, m, n, konec - zacetek))\n",
    "    \n",
    "#     # podaljsamo paralelgram še v drugo smer\n",
    "#     l += 1\n",
    "    \n",
    "#     P2.append(m) # parametri\n",
    "#     T2.append(konec - zacetek) # cas"
   ]
  },
  {
   "cell_type": "code",
   "execution_count": 25,
   "metadata": {},
   "outputs": [
    {
     "data": {
      "image/png": "[encoded data removed]",
      "text/plain": [
       "<Figure size 432x288 with 1 Axes>"
      ]
     },
     "metadata": {},
     "output_type": "display_data"
    }
   ],
   "source": [
    "import matplotlib\n",
    "import matplotlib.pyplot as plt\n",
    "\n",
    "fig, ax = plt.subplots()\n",
    "ax.plot(P2, T2)\n",
    "\n",
    "ax.set(xlabel='parameter m', ylabel='cas',\n",
    "       title='Casovna zahtevnost konstrukcije nanotora (k, l, m, n) v odvisnosti od m = l \\n (pri k = 0, n = 0) ')\n",
    "ax.grid()\n",
    "\n",
    "fig.savefig(\"zahtevnost2.png\")\n",
    "plt.show()"
   ]
  }
 ],
 "metadata": {
  "kernelspec": {
   "display_name": "SageMath 8.7",
   "language": "",
   "name": "sagemath"
  },
  "language_info": {
   "codemirror_mode": {
    "name": "ipython",
    "version": 2
   },
   "file_extension": ".py",
   "mimetype": "text/x-python",
   "name": "python",
   "nbconvert_exporter": "python",
   "pygments_lexer": "ipython2",
   "version": "2.7.15"
  }
 },
 "nbformat": 4,
 "nbformat_minor": 2
}
