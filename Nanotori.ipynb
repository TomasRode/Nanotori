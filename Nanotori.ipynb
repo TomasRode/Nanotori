{
 "cells": [
  {
   "cell_type": "code",
   "execution_count": 49,
   "metadata": {},
   "outputs": [],
   "source": [
    "class Vektor:\n",
    "    def __init__(self, x, y):\n",
    "        self.x = x\n",
    "        self.y = y\n",
    "        \n",
    "    def __repr__(self):\n",
    "        x, y = self.koordinate()\n",
    "        return ('{}(x = {}, y = {})'.format(self.__class__.__name__, x, y))\n",
    "    \n",
    "    def __add__(self, other):\n",
    "        x1 = self.x\n",
    "        x2 = other.x\n",
    "        y1 = self.y\n",
    "        y2 = other.y\n",
    "        return(Vektor(x1 + x2, y1 + y2))\n",
    "    \n",
    "    def __sub__(self, other):\n",
    "        x1 = self.x\n",
    "        x2 = other.x\n",
    "        y1 = self.y\n",
    "        y2 = other.y\n",
    "        return(Vektor(x1 - x2, y1 - y2))\n",
    "    \n",
    "    def __rmul__(self, konstanta):\n",
    "        x1 = konstanta * self.x\n",
    "        y1 = konstanta * self.y\n",
    "        return(Vektor(x1, y1))\n",
    "    \n",
    "    def koordinate(self):\n",
    "        return self.x, self.y\n",
    "    \n",
    "class Premica:\n",
    "    def __init__(self, u1, u2): # u tocka; rabili bomo koordinate\n",
    "        u1x, u1y = u1.koordinate()\n",
    "        u2x, u2y = u2.koordinate()\n",
    "        if u2x - u1x != 0:\n",
    "            self.koef = (u2y -u1y) / (u2x - u1x)\n",
    "            self.n = u1y - self.koef * u1x\n",
    "        else:\n",
    "            self.koef = \"NaN\"\n",
    "            self.x = u1x\n",
    "        \n",
    "    def parametri(self):\n",
    "        if self.koef != \"NaN\":\n",
    "            return self.koef, self.n\n",
    "        else:\n",
    "            return self.x\n",
    "    \n",
    "    def __repr__(self):\n",
    "        if self.koef != \"NaN\":\n",
    "            k, n = self.parametri()\n",
    "            return ('{}(y = {} * x + {})'.format(self.__class__.__name__, k, n))\n",
    "        else:\n",
    "            x = self.parametri()\n",
    "            return ('{}(x = {})'.format(self.__class__.__name__, x))\n",
    "    \n",
    "class U:\n",
    "    def __init__(self, a, b):\n",
    "        self.a = a # a konstanta ... koliko \"prvih\" vektorjev uporabimo\n",
    "        self.b = b\n",
    "        \n",
    "    def __repr__(self):\n",
    "        a,b = self.podatki()\n",
    "        return ('{}({}a, {}b)'.format(self.__class__.__name__, a, b))\n",
    "    \n",
    "    def podatki(self):\n",
    "        return self.a, self.b\n",
    "    \n",
    "    def koordinate(self):\n",
    "        vektor = self.a * A1 + self.b * A2\n",
    "        koordinate = vektor.koordinate()\n",
    "        return [koordinate[0], koordinate[1]]\n",
    "    \n",
    "    def pod(self, premica): \n",
    "        x, y = self.koordinate()\n",
    "        if premica.koef != \"NaN\":\n",
    "            if y <= premica.koef * x + premica.n:\n",
    "                return True\n",
    "            else:\n",
    "                return False\n",
    "        # sicer pa pod pomeni levo od navpicnice\n",
    "        else:\n",
    "            if x <= premica.x:\n",
    "                return True\n",
    "            else:\n",
    "                return False\n",
    "\n",
    "class V:\n",
    "    def __init__(self, a, b):\n",
    "        self.a = a # a konstanta ... koliko \"prvih\" vektorjev uporabimo\n",
    "        self.b = b\n",
    "        \n",
    "    def __repr__(self):\n",
    "        a,b = self.podatki()\n",
    "        return ('{}({}a, {}b)'.format(self.__class__.__name__, a, b))\n",
    "    \n",
    "    def podatki(self):\n",
    "        return self.a, self.b\n",
    "    \n",
    "    def koordinate(self):\n",
    "        vektor = self.a * A1 + self.b * A2 + Vektor(1, 0)\n",
    "        koordinate = vektor.koordinate()\n",
    "        return [koordinate[0], koordinate[1]]\n",
    "    \n",
    "    def pod(self, premica): \n",
    "        x, y = self.koordinate()\n",
    "        if premica.koef != \"NaN\":\n",
    "            if y <= premica.koef * x + premica.n:\n",
    "                return True\n",
    "            else:\n",
    "                return False\n",
    "        # sicer pa pod pomeni levo od navpicnice\n",
    "        else:\n",
    "            if x <= premica.x:\n",
    "                return True\n",
    "            else:\n",
    "                return False\n",
    "            \n",
    "        \n",
    "\n",
    "A1 = Vektor(0, - sqrt(3))\n",
    "A2 = Vektor(3 / 2, - sqrt(3) / 2)\n",
    "\n",
    "def grid(k, l, m, n):\n",
    "    # oglisca = ([0, 0], [k, l], [m, n], [k + m, l + n])\n",
    "    # print U(0,0).koordinate(), U(k, l).koordinate(), U(m, n).koordinate(), U(k + m, l + n).koordinate()\n",
    "    mina = min(0, k, m, k + m)\n",
    "    maxa = max(0, k, m, k + m)\n",
    "    minb = min(0, l, n, l + n)\n",
    "    maxb = max(0, l, n, l + n)\n",
    "    \n",
    "    matrika = []\n",
    "    for i in range(mina, maxa + 1):\n",
    "        vrstica = []\n",
    "        for j in range(minb, maxb + 1):\n",
    "            vrstica += [U(i, j)]\n",
    "            # print U(i,j), U(i, j).koordinate()\n",
    "        matrika += [vrstica]\n",
    "        \n",
    "    return matrika\n",
    "## način, da bi dobila desno in zgornjo stranico v paralelgramu???????? ########       "
   ]
  },
  {
   "cell_type": "code",
   "execution_count": 53,
   "metadata": {},
   "outputs": [
    {
     "data": {
      "text/plain": [
       "U(-1a, 2b)"
      ]
     },
     "execution_count": 53,
     "metadata": {},
     "output_type": "execute_result"
    }
   ],
   "source": [
    "Uji = [U(-1,2), U(0,0), U(1,1), U(0,3)]\n",
    "max(Uji, key = lambda y: y.koordinate()[1])"
   ]
  },
  {
   "cell_type": "code",
   "execution_count": 45,
   "metadata": {},
   "outputs": [
    {
     "data": {
      "text/plain": [
       "False"
      ]
     },
     "execution_count": 45,
     "metadata": {},
     "output_type": "execute_result"
    }
   ],
   "source": [
    "p = Premica(U(0,0),U(-1,0))\n",
    "U(-1,1).pod(p)"
   ]
  },
  {
   "cell_type": "code",
   "execution_count": 51,
   "metadata": {},
   "outputs": [
    {
     "data": {
      "text/plain": [
       "U(0a, 0b)"
      ]
     },
     "execution_count": 51,
     "metadata": {},
     "output_type": "execute_result"
    }
   ],
   "source": [
    "[max(Uji, key = lambda y: y.koordinate()[1])]"
   ]
  }
 ],
 "metadata": {
  "kernelspec": {
   "display_name": "SageMath 8.7",
   "language": "",
   "name": "sagemath"
  }
 },
 "nbformat": 4,
 "nbformat_minor": 2
}
