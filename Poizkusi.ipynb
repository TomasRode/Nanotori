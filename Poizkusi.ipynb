{
 "cells": [
  {
   "cell_type": "code",
   "execution_count": 86,
   "metadata": {},
   "outputs": [],
   "source": [
    "# imamo grid... sestkotnik je 4 enote sirok in 2 enoti visok\n",
    "\n",
    "A2 = vector([3, - 1]) # vektor desno dol\n",
    "A1 = vector([0, - 2]) # vektor dol\n",
    "\n",
    "############## Razredi #############\n",
    "\n",
    "class U:\n",
    "    def __init__(self, a, b):\n",
    "        self.a = a # a konstanta ... koliko A1 vektorjev uporabimo\n",
    "        self.b = b\n",
    "        \n",
    "    def __repr__(self):\n",
    "        a,b = self.podatki()\n",
    "        return ('{}({}a, {}b)'.format(self.__class__.__name__, a, b))\n",
    "    \n",
    "    def __eq__(self, other):\n",
    "        return (self.a == other.a and \n",
    "                self.b == other.b and\n",
    "                self.__class__.__name__ == other.__class__.__name__)\n",
    "    \n",
    "    def __hash__(self): \n",
    "#         return hash((self.a, self.b))\n",
    "        return hash(exp(self.a + exp(self.b)))\n",
    "    \n",
    "    def podatki(self):\n",
    "        return self.a, self.b\n",
    "    \n",
    "    def koordinate(self):\n",
    "        vektor = self.a * A1 + self.b * A2\n",
    "        x = vektor[0]\n",
    "        y = vektor[1]\n",
    "        return [x, y]\n",
    "    \n",
    "    def sosedi(self):\n",
    "        s = set({V(self.a, self.b), V(self.a, self.b - 1), V(self.a + 1, self.b - 1)})\n",
    "        return s\n",
    "    \n",
    "    def premakni(self, c, d):\n",
    "        return U(self.a + c, self.b + d)\n",
    "    \n",
    "    def razlika(self, other):\n",
    "        return (self.a - other.a, self.b - other.b)\n",
    "    \n",
    "class V:\n",
    "    def __init__(self, a, b):\n",
    "        self.a = a # a konstanta ... koliko A1 vektorjev uporabimo\n",
    "        self.b = b  \n",
    "        \n",
    "    def __repr__(self):\n",
    "        a,b = self.podatki()\n",
    "        return ('{}({}a, {}b)'.format(self.__class__.__name__, a, b))\n",
    "    \n",
    "    def __eq__(self, other):\n",
    "        return (self.a == other.a and \n",
    "                self.b == other.b and\n",
    "                self.__class__.__name__ == other.__class__.__name__)\n",
    "    \n",
    "    def __hash__(self): \n",
    "#         return hash((self.a, self.b))\n",
    "        return hash(exp(self.a + exp(self.b)))\n",
    "    \n",
    "    def podatki(self):\n",
    "        return self.a, self.b\n",
    "    \n",
    "    def koordinate(self):\n",
    "        vektor = self.a * A1 + self.b * A2 + vector([2, 0])\n",
    "        x = vektor[0]\n",
    "        y = vektor[1]\n",
    "        return [x, y]\n",
    "    \n",
    "    def sosedi(self):\n",
    "        s = set({U(self.a, self.b), U(self.a - 1, self.b + 1), U(self.a, self.b + 1)})\n",
    "        return s\n",
    "        \n",
    "    def premakni(self, c, d):\n",
    "        return V(self.a + c, self.b + d)\n",
    "\n",
    "############## Funkcije #############\n",
    "\n",
    "def grid(k, l, m, n):\n",
    "    # oglisca = ([0, 0], [k, l], [m, n], [k + m, l + n])\n",
    "    # print U(0,0).koordinate(), U(k, l).koordinate(), U(m, n).koordinate(), U(k + m, l + n).koordinate()\n",
    "\n",
    "    mina = min(0, k, m, k + m)\n",
    "    maxa = max(0, k, m, k + m)\n",
    "    minb = min(0, l, n, l + n)\n",
    "    maxb = max(0, l, n, l + n)\n",
    "\n",
    "    mnozica = set()\n",
    "    for i in range(mina, maxa + 1):\n",
    "        for j in range(minb, maxb + 1):\n",
    "            mnozica.add(U(i, j))\n",
    "    \n",
    "    return mnozica\n",
    "\n",
    "# lahko bi poskusili dodati le tiste, ki so \"blizje\" paralelogramu, ne celege pravokotnika\n",
    "# def grid1(k, l, m, n):\n",
    "#     mina = min(0, k, m, k + m)\n",
    "#     maxa = max(0, k, m, k + m)\n",
    "#     minb = min(0, l, n, l + n)\n",
    "#     maxb = max(0, l, n, l + n)\n",
    "\n",
    "#     mnozica = set()\n",
    "#     for i in range(mina, maxa + 1):\n",
    "#         for j in range(minb, maxb + 1):\n",
    "#             mnozica.add(U(i, j))\n",
    "    \n",
    "#     return mnozica\n",
    "\n",
    "# 3x3 matrika\n",
    "def determinanta3x3(matrika): \n",
    "    a11 = matrika[0][0]\n",
    "    a12 = matrika[0][1]\n",
    "    a13 = matrika[0][2]\n",
    "    \n",
    "    a21 = matrika[1][0]\n",
    "    a22 = matrika[1][1]\n",
    "    a23 = matrika[1][2]\n",
    "    \n",
    "    a31 = matrika[2][0]\n",
    "    a32 = matrika[2][1]\n",
    "    a33 = matrika[2][2]\n",
    "        \n",
    "    det = (\n",
    "          a11 * (a22 * a33 - a32 * a23) - \n",
    "          a12 * (a21 * a33 - a31 * a23) + \n",
    "          a13 * (a21 * a32 - a31 * a22)\n",
    "          )\n",
    "            \n",
    "    return det\n",
    "\n",
    "# gledamo kje je tocka w glede na vektor uv\n",
    "# ce je tocka levo, je predznak determinante pozitiven,\n",
    "# ce desno, je predznak negativen,\n",
    "# ce pa so kolinearne je determinanta 0.\n",
    "# sprejme tocke U ali V\n",
    "def zavoj(u, v, w):\n",
    "    u_x, u_y = u.koordinate()\n",
    "    v_x, v_y = v.koordinate()\n",
    "    w_x, w_y = w.koordinate()\n",
    "    \n",
    "    matrika = matrix([[1, 1, 1], [u_x, v_x, w_x], [u_y, v_y, w_y]])\n",
    "    \n",
    "    return sgn(determinanta3x3(matrika))\n",
    "\n",
    "def v_paralelogramu(G, u0, u1, u2, u3):\n",
    "    # G mnozica Ujev, ki jih bomo pregledali,\n",
    "    # ui zaporedna oglisca v paralelogramu, tako da je notranjost na levi,\n",
    "    # u0 pa je izhodisce \n",
    "    # dopuscamo tocke na daljici u0u1 in na daljici  u3u0\n",
    "    \n",
    "    Uji = set()\n",
    "    Vji = set()\n",
    "    \n",
    "    for u in G:\n",
    "        v = V(u.a, u.b)\n",
    "\n",
    "        pogoj_u = (zavoj(u0, u1, u) >= 0 and\n",
    "                   zavoj(u1, u2, u) >  0 and\n",
    "                   zavoj(u2, u3, u) >  0 and\n",
    "                   zavoj(u3, u0, u) >= 0)\n",
    "        \n",
    "        pogoj_v = (zavoj(u0, u1, v) >= 0 and\n",
    "                   zavoj(u1, u2, v) >  0 and\n",
    "                   zavoj(u2, u3, v) >  0 and\n",
    "                   zavoj(u3, u0, v) >= 0)\n",
    "\n",
    "        if pogoj_u:\n",
    "            Uji.add(u)\n",
    "        if pogoj_v:\n",
    "            Vji.add(v)\n",
    "    \n",
    "    return Uji, Vji\n",
    "    \n",
    "def vozlisca_na_torusu(k, l, m, n):\n",
    "    G = grid(k, l, m, n)\n",
    "    \n",
    "    u_00 = U(0,0)\n",
    "    u_kl = U(k, l)\n",
    "    u_klmn = U(k + m, l + n)\n",
    "    u_mn = U(m, n)\n",
    "\n",
    "    # ugotovimo orientacijo\n",
    "    if zavoj(u_kl, u_mn, u_00) == 0:\n",
    "        Uji, Vji = \"Izrojen\", \"Izrojen\" # niso mnozice\n",
    "    elif zavoj(u_kl, u_mn, u_00) > 0:\n",
    "        # u_00 lezi levo od vektorja u_kl u_mn\n",
    "        Uji, Vji = v_paralelogramu(G, u_00, u_kl, u_klmn, u_mn)\n",
    "    elif zavoj(u_kl, u_mn, u_00) < 0:\n",
    "        # u_00 lezi desno od vektorja u_kl u_mn\n",
    "        Uji, Vji = v_paralelogramu(G, u_00, u_mn, u_klmn, u_kl)\n",
    "    \n",
    "    return Uji, Vji\n",
    "\n",
    "def povezave_na_torusu(k, l, m, n):\n",
    "    Uji, Vji = vozlisca_na_torusu(k, l, m, n)\n",
    "    if Uji == \"Izrojen\":\n",
    "        return Uji # paralelogram je izrojen\n",
    "    else:\n",
    "        \n",
    "        u_00 = U(0,0)\n",
    "        u_kl = U(k, l)\n",
    "        u_klmn = U(k + m, l + n)\n",
    "        u_mn = U(m, n)\n",
    "        \n",
    "        if zavoj(u_kl, u_mn, u_00) > 0:\n",
    "            #orientacija je \"pozitivna\": u_kl leži pod u_mn\n",
    "            u0, u1, u2, u3 = u_00, u_kl, u_klmn, u_mn\n",
    "        else:\n",
    "            # u_00 lezi desno od vektorja u_kl u_mn\n",
    "            u0, u1, u2, u3 = u_00, u_mn, u_klmn, u_kl\n",
    "        \n",
    "        a, b = u1.razlika(u0) # = u2 - u3 \n",
    "        c, d = u3.razlika(u0) # = u2 - u1 \n",
    "        \n",
    "        povezave = []\n",
    "        vozlisca = union(Uji, Vji)\n",
    "        \n",
    "        for tocka in Uji:\n",
    "            for sosed in tocka.sosedi():\n",
    "                while sosed not in vozlisca:\n",
    "                    if zavoj(u0, u1, sosed) < 0:\n",
    "                        sosed = sosed.premakni(c, d)\n",
    "                    elif zavoj(u1, u2, sosed) <= 0:\n",
    "                        sosed = sosed.premakni(-a, -b)\n",
    "                    elif zavoj(u2, u3, sosed) <= 0:\n",
    "                        sosed = sosed.premakni(-c, -d)\n",
    "                    elif zavoj(u3, u0, sosed) < 0:\n",
    "                        sosed = sosed.premakni(a, b)\n",
    "                povezave.append((tocka, sosed))\n",
    "                \n",
    "        return povezave \n",
    "    \n",
    "    \n",
    "\n",
    "\n",
    "\n",
    "def nanotorus(k, l, m, n):\n",
    "    p = povezave_na_torusu(k, l, m, n)\n",
    "    if p == \"Izrojen\":\n",
    "        print(\"Paralelogram je izrojen!\")\n",
    "    else:\n",
    "        G = Graph(p, multiedges = True)\n",
    "        G._pos = {v: v.koordinate() for v in G}\n",
    "        return G\n"
   ]
  },
  {
   "cell_type": "code",
   "execution_count": 87,
   "metadata": {},
   "outputs": [
    {
     "data": {
      "image/png": "[encoded data removed]",
      "text/plain": [
       "Graphics object consisting of 6 graphics primitives"
      ]
     },
     "execution_count": 87,
     "metadata": {},
     "output_type": "execute_result"
    }
   ],
   "source": [
    "nanotorus(1,0,2,1).plot()"
   ]
  },
  {
   "cell_type": "code",
   "execution_count": 29,
   "metadata": {},
   "outputs": [
    {
     "data": {
      "text/plain": [
       "0"
      ]
     },
     "execution_count": 29,
     "metadata": {},
     "output_type": "execute_result"
    }
   ],
   "source": [
    "U(0,0).st_pov"
   ]
  },
  {
   "cell_type": "code",
   "execution_count": 30,
   "metadata": {},
   "outputs": [],
   "source": [
    "k = U(0,0)"
   ]
  },
  {
   "cell_type": "code",
   "execution_count": 31,
   "metadata": {},
   "outputs": [],
   "source": [
    "k.dodaj_povezavo()"
   ]
  },
  {
   "cell_type": "code",
   "execution_count": 32,
   "metadata": {},
   "outputs": [
    {
     "data": {
      "text/plain": [
       "1"
      ]
     },
     "execution_count": 32,
     "metadata": {},
     "output_type": "execute_result"
    }
   ],
   "source": [
    "k.st_pov"
   ]
  },
  {
   "cell_type": "code",
   "execution_count": 78,
   "metadata": {},
   "outputs": [
    {
     "data": {
      "text/plain": [
       "({U(0a, 0b)}, {V(2a, 0b)})"
      ]
     },
     "execution_count": 78,
     "metadata": {},
     "output_type": "execute_result"
    }
   ],
   "source": [
    "vozlisca_na_torusu(1,0,2,1)"
   ]
  },
  {
   "cell_type": "code",
   "execution_count": 83,
   "metadata": {},
   "outputs": [],
   "source": [
    "k = U(0,0)\n",
    "l = U(2,2)\n",
    "a, b = k.razlika(l)"
   ]
  },
  {
   "cell_type": "code",
   "execution_count": 84,
   "metadata": {},
   "outputs": [
    {
     "data": {
      "text/plain": [
       "-2"
      ]
     },
     "execution_count": 84,
     "metadata": {},
     "output_type": "execute_result"
    }
   ],
   "source": [
    "a"
   ]
  },
  {
   "cell_type": "code",
   "execution_count": 85,
   "metadata": {},
   "outputs": [
    {
     "data": {
      "text/plain": [
       "-2"
      ]
     },
     "execution_count": 85,
     "metadata": {},
     "output_type": "execute_result"
    }
   ],
   "source": [
    "b"
   ]
  },
  {
   "cell_type": "code",
   "execution_count": 90,
   "metadata": {},
   "outputs": [
    {
     "data": {
      "text/plain": [
       "15"
      ]
     },
     "execution_count": 90,
     "metadata": {},
     "output_type": "execute_result"
    }
   ],
   "source": [
    "len(nanotorus(3,1,5,0).edges())"
   ]
  },
  {
   "cell_type": "code",
   "execution_count": null,
   "metadata": {},
   "outputs": [],
   "source": []
  }
 ],
 "metadata": {
  "kernelspec": {
   "display_name": "SageMath 8.9",
   "language": "sage",
   "name": "sagemath"
  },
  "language_info": {
   "codemirror_mode": {
    "name": "ipython",
    "version": 2
   },
   "file_extension": ".py",
   "mimetype": "text/x-python",
   "name": "python",
   "nbconvert_exporter": "python",
   "pygments_lexer": "ipython2",
   "version": "2.7.15"
  }
 },
 "nbformat": 4,
 "nbformat_minor": 2
}
